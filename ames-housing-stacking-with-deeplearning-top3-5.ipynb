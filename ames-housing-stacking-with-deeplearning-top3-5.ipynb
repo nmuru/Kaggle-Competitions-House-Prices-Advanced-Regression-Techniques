{
 "cells": [
  {
   "cell_type": "markdown",
   "id": "97163a98",
   "metadata": {
    "papermill": {
     "duration": 0.049099,
     "end_time": "2023-01-18T00:46:19.242250",
     "exception": false,
     "start_time": "2023-01-18T00:46:19.193151",
     "status": "completed"
    },
    "tags": []
   },
   "source": [
    "# Ames Housing Dataset - Stacking with Deep Learning Model - Top 3.5%  "
   ]
  },
  {
   "cell_type": "markdown",
   "id": "e5b064ab",
   "metadata": {
    "papermill": {
     "duration": 0.028146,
     "end_time": "2023-01-18T00:46:19.314895",
     "exception": false,
     "start_time": "2023-01-18T00:46:19.286749",
     "status": "completed"
    },
    "tags": []
   },
   "source": [
    "This notebook can achieve a reproducible kaggle accuracy of 0.118x. Uses stacking and blending that includes a deep learning model"
   ]
  },
  {
   "cell_type": "markdown",
   "id": "ea3ba57a",
   "metadata": {
    "papermill": {
     "duration": 0.026201,
     "end_time": "2023-01-18T00:46:19.367773",
     "exception": false,
     "start_time": "2023-01-18T00:46:19.341572",
     "status": "completed"
    },
    "tags": []
   },
   "source": [
    "### Introduction"
   ]
  },
  {
   "cell_type": "markdown",
   "id": "a1610021",
   "metadata": {
    "papermill": {
     "duration": 0.038885,
     "end_time": "2023-01-18T00:46:19.433131",
     "exception": false,
     "start_time": "2023-01-18T00:46:19.394246",
     "status": "completed"
    },
    "tags": []
   },
   "source": [
    "1. This notebook is a continuation of my previous kaggle notebook - https://www.kaggle.com/code/murugesann/ames-housingprices-deep-learning-model-top-4 where I have explained the model in depth. That notebook could achieve an accuracy of top 4.5%  with Kaggle score of 0.11946 (submission - nm-dl-final9.csv) <span style=\"color:blue\">without stacking and blending\n",
    "\n",
    "\n",
    "2. Objective of this notebook is find the effect and role of randomness vis-a-vis stacking and blending. How much does stacking improves the accuracy, over and above the previous notebook's 0.11946?\n",
    "\n",
    "\n",
    "3. In my previous notebook above, I had noted, based on several trials and experimentations, that the accuracies of machine learning models depends on not only the content of input data but also order of columns. However, by using python hashseed and random state, we can very well reproduce any result in any computer. But if we change the random state (row order) or the order of columns (column order), the accuracies will change. These accuracies have been found to vary leading to Kaggle scores of 0.10 to 0.13. It is a pure random luck whether you get a kaggle score of 0.10 or 0.13 - it depends on random state and the column tranformation order! \n",
    "    \n",
    "\n",
    "4. But how relevant is above kind of accuracy of 0.10 or 0.13 for the real world production dataset? Can we say that the confidence level, with which the sales prices are predicted, will be same BOTH for the model with accruacy of 0.10 and model with accuracy of 0.13?\n",
    "\n",
    "\n",
    "4. Also, with respect to the methodology of stacking, another important question arises: Given the well established fact that Stacking improves accuracy, How relevant is any improvement through stacking given the fact that I can achieve the maximum score of, say, 0.11 even without stacking? \n",
    "\n",
    "\n",
    "5. Does stacking does nothing more than solve the above \"random luck phenomenon\" by allowing multiple random states to work together through several models, thereby improving accuracy? - \n",
    "\n",
    "\n",
    "6. OR How relevant is the accuracy of 0.11 achieved by 'random luck' vs 0.11 achieved through a stable stacking procedure? Does both the models can be used with same confidence level?\n",
    "\n",
    "\n",
    "7. How confident we can be that our Kaggle score will still be valid for a Ames dataset (2006-2010) of subequent period say 2010-2015 assuming that factors that affect the prices remain same? "
   ]
  },
  {
   "cell_type": "markdown",
   "id": "337f8745",
   "metadata": {
    "papermill": {
     "duration": 0.034377,
     "end_time": "2023-01-18T00:46:19.512133",
     "exception": false,
     "start_time": "2023-01-18T00:46:19.477756",
     "status": "completed"
    },
    "tags": []
   },
   "source": [
    "### Model Results"
   ]
  },
  {
   "cell_type": "markdown",
   "id": "3905b8c3",
   "metadata": {
    "papermill": {
     "duration": 0.02657,
     "end_time": "2023-01-18T00:46:19.565610",
     "exception": false,
     "start_time": "2023-01-18T00:46:19.539040",
     "status": "completed"
    },
    "tags": []
   },
   "source": [
    "1. XGBoost Cross Validation - Average - 11.15%, Minimum - 10.35% and Kaggle Score for Minimum - 12.35%\n",
    "2. Deep Learning Model Cross Validation - Average - 11.16%, Minimum - 10.2% \n",
    "3. SKlearn Stacking Regressor (without Deep learning Model) - Kaggle Score - 12.02%\n",
    "4. MLXtend StackingCV Regressor (Without Deep Learning Model) - Kaggle Score - 11.96%\n",
    "5. MLXtend StackingCV Regressor (With deep learning model) - Kaggle Score - 11.98%\n",
    "6. Stacking and Blending along with Deep Learning Model - Kaggle Score - 11.95%\n",
    "\n",
    "**An important observation with respect to Stacking as a methodology - As like cross validation of any machine learning model, the cross validation of stacked regression also gives a wide range of 10% to 11x% implying that the accuracy gained through stacking is minimal and that it is also dependent on random state and input data order**"
   ]
  },
  {
   "cell_type": "markdown",
   "id": "d82c45e7",
   "metadata": {
    "papermill": {
     "duration": 0.026666,
     "end_time": "2023-01-18T00:46:19.619133",
     "exception": false,
     "start_time": "2023-01-18T00:46:19.592467",
     "status": "completed"
    },
    "tags": []
   },
   "source": [
    "## Conclusions & Insights"
   ]
  },
  {
   "cell_type": "markdown",
   "id": "9ee7ad0b",
   "metadata": {
    "papermill": {
     "duration": 0.026668,
     "end_time": "2023-01-18T00:46:19.672512",
     "exception": false,
     "start_time": "2023-01-18T00:46:19.645844",
     "status": "completed"
    },
    "tags": []
   },
   "source": [
    "1. The cross validation accuracies for XGBoost and Deep Learning are nearly same. The range of accuracies obtained in cross validation are the examples of the range we may get on accuracies depending on random state or order of input data etc\n",
    "\n",
    "2. The accuracies obtained through Stacking is higher than the accuracy obtained for basic model without stacking, a given random state.\n",
    "\n",
    "3. The accuracy obtained through stacking is still within the range of cross validation scores of basic model. This means a better basic model (depending on random state) can achieve higher accuracy than stacked model\n",
    "\n",
    "4. Best accuracy obtainable will be when the model is stacked with a random state / hashseed that gives lowest accuracy. For example, the best accuracy possible is near 10% as per cross validation scores. We don't know the input data / content oder for that particular cross validated data (though it can be saved and reused). If we use that input data and same random state numbers, and then use stacking, we will get the best possible accuracy.\n",
    "\n",
    "5. However, we cannot conclude which of the model should be used in production: whether the model with the lowest accuracy obtained without stacking (11.9) vs model with lowest accuracy obtained with stacking (11.8)? \n",
    "\n",
    "6. It may even be that one of the above two models might be overfitting the current kaggle test data and may fail in regularizing the actual production data. In fact, most of the competition models with large number of models stacked together giving high accuracy might be overfitting the given test data\n",
    "\n",
    "7. In otherwords, each accuracy of particular random state is equivalent to a particular sample in overall population. That sample may or may not reflect the overall population. The field of statistics helps decide which of the sample / model might work better in production by giving confidence level based on standard error (IN deep learning section, I have mentioned that we don't need to bother about general assumptions behind linear regression like normality, homoskedacity etc. They are however applicable when we want to do inferential statistics\n",
    "\n",
    "8. We do all these model design and analyses to get better accuracies, in order to better the data science models.  In reality, no housing price can be predicted with any such accuracy, we are fighting here for! The prices are not determined solely by these quantitative factors and several other subjective factors might determine the price which are applicable for individual purchase and the range of prices could be wide. Hence, we can conclude that any of the above models with reasonable accuracy should be fine rather than striving for lowest accuracy which may neither be achievable in real world real estate market nor be applicable for production data"
   ]
  },
  {
   "cell_type": "markdown",
   "id": "102f653f",
   "metadata": {
    "papermill": {
     "duration": 0.02619,
     "end_time": "2023-01-18T00:46:19.725162",
     "exception": false,
     "start_time": "2023-01-18T00:46:19.698972",
     "status": "completed"
    },
    "tags": []
   },
   "source": [
    "## Import Libraries and Data"
   ]
  },
  {
   "cell_type": "code",
   "execution_count": 1,
   "id": "8cd92ef1",
   "metadata": {
    "execution": {
     "iopub.execute_input": "2023-01-18T00:46:19.780134Z",
     "iopub.status.busy": "2023-01-18T00:46:19.779535Z",
     "iopub.status.idle": "2023-01-18T00:47:43.418583Z",
     "shell.execute_reply": "2023-01-18T00:47:43.417330Z"
    },
    "papermill": {
     "duration": 83.66931,
     "end_time": "2023-01-18T00:47:43.421307",
     "exception": false,
     "start_time": "2023-01-18T00:46:19.751997",
     "status": "completed"
    },
    "tags": []
   },
   "outputs": [
    {
     "name": "stdout",
     "output_type": "stream",
     "text": [
      "Requirement already satisfied: tensorflow in /opt/conda/lib/python3.7/site-packages (2.6.4)\r\n",
      "Collecting tensorflow\r\n",
      "  Downloading tensorflow-2.11.0-cp37-cp37m-manylinux_2_17_x86_64.manylinux2014_x86_64.whl (588.3 MB)\r\n",
      "\u001b[2K     \u001b[90m━━━━━━━━━━━━━━━━━━━━━━━━━━━━━━━━━━━━━━━\u001b[0m \u001b[32m588.3/588.3 MB\u001b[0m \u001b[31m1.3 MB/s\u001b[0m eta \u001b[36m0:00:00\u001b[0m\r\n",
      "\u001b[?25hRequirement already satisfied: typing-extensions>=3.6.6 in /opt/conda/lib/python3.7/site-packages (from tensorflow) (4.1.1)\r\n",
      "Requirement already satisfied: h5py>=2.9.0 in /opt/conda/lib/python3.7/site-packages (from tensorflow) (3.7.0)\r\n",
      "Requirement already satisfied: wrapt>=1.11.0 in /opt/conda/lib/python3.7/site-packages (from tensorflow) (1.12.1)\r\n",
      "Requirement already satisfied: termcolor>=1.1.0 in /opt/conda/lib/python3.7/site-packages (from tensorflow) (1.1.0)\r\n",
      "Collecting libclang>=13.0.0\r\n",
      "  Downloading libclang-15.0.6.1-py2.py3-none-manylinux2010_x86_64.whl (21.5 MB)\r\n",
      "\u001b[2K     \u001b[90m━━━━━━━━━━━━━━━━━━━━━━━━━━━━━━━━━━━━━━━━\u001b[0m \u001b[32m21.5/21.5 MB\u001b[0m \u001b[31m30.2 MB/s\u001b[0m eta \u001b[36m0:00:00\u001b[0m\r\n",
      "\u001b[?25hRequirement already satisfied: astunparse>=1.6.0 in /opt/conda/lib/python3.7/site-packages (from tensorflow) (1.6.3)\r\n",
      "Collecting tensorflow-io-gcs-filesystem>=0.23.1\r\n",
      "  Downloading tensorflow_io_gcs_filesystem-0.29.0-cp37-cp37m-manylinux_2_12_x86_64.manylinux2010_x86_64.whl (2.4 MB)\r\n",
      "\u001b[2K     \u001b[90m━━━━━━━━━━━━━━━━━━━━━━━━━━━━━━━━━━━━━━━━\u001b[0m \u001b[32m2.4/2.4 MB\u001b[0m \u001b[31m61.5 MB/s\u001b[0m eta \u001b[36m0:00:00\u001b[0m\r\n",
      "\u001b[?25hRequirement already satisfied: opt-einsum>=2.3.2 in /opt/conda/lib/python3.7/site-packages (from tensorflow) (3.3.0)\r\n",
      "Collecting protobuf<3.20,>=3.9.2\r\n",
      "  Downloading protobuf-3.19.6-cp37-cp37m-manylinux_2_17_x86_64.manylinux2014_x86_64.whl (1.1 MB)\r\n",
      "\u001b[2K     \u001b[90m━━━━━━━━━━━━━━━━━━━━━━━━━━━━━━━━━━━━━━━━\u001b[0m \u001b[32m1.1/1.1 MB\u001b[0m \u001b[31m57.4 MB/s\u001b[0m eta \u001b[36m0:00:00\u001b[0m\r\n",
      "\u001b[?25hRequirement already satisfied: six>=1.12.0 in /opt/conda/lib/python3.7/site-packages (from tensorflow) (1.15.0)\r\n",
      "Requirement already satisfied: numpy>=1.20 in /opt/conda/lib/python3.7/site-packages (from tensorflow) (1.21.6)\r\n",
      "Requirement already satisfied: setuptools in /opt/conda/lib/python3.7/site-packages (from tensorflow) (59.8.0)\r\n",
      "Requirement already satisfied: packaging in /opt/conda/lib/python3.7/site-packages (from tensorflow) (22.0)\r\n",
      "Requirement already satisfied: grpcio<2.0,>=1.24.3 in /opt/conda/lib/python3.7/site-packages (from tensorflow) (1.51.1)\r\n",
      "Collecting flatbuffers>=2.0\r\n",
      "  Downloading flatbuffers-23.1.4-py2.py3-none-any.whl (26 kB)\r\n",
      "Requirement already satisfied: google-pasta>=0.1.1 in /opt/conda/lib/python3.7/site-packages (from tensorflow) (0.2.0)\r\n",
      "Collecting absl-py>=1.0.0\r\n",
      "  Downloading absl_py-1.4.0-py3-none-any.whl (126 kB)\r\n",
      "\u001b[2K     \u001b[90m━━━━━━━━━━━━━━━━━━━━━━━━━━━━━━━━━━━━━━\u001b[0m \u001b[32m126.5/126.5 kB\u001b[0m \u001b[31m12.1 MB/s\u001b[0m eta \u001b[36m0:00:00\u001b[0m\r\n",
      "\u001b[?25hRequirement already satisfied: gast<=0.4.0,>=0.2.1 in /opt/conda/lib/python3.7/site-packages (from tensorflow) (0.4.0)\r\n",
      "Collecting tensorboard<2.12,>=2.11\r\n",
      "  Downloading tensorboard-2.11.2-py3-none-any.whl (6.0 MB)\r\n",
      "\u001b[2K     \u001b[90m━━━━━━━━━━━━━━━━━━━━━━━━━━━━━━━━━━━━━━━━\u001b[0m \u001b[32m6.0/6.0 MB\u001b[0m \u001b[31m40.0 MB/s\u001b[0m eta \u001b[36m0:00:00\u001b[0m\r\n",
      "\u001b[?25hCollecting keras<2.12,>=2.11.0\r\n",
      "  Downloading keras-2.11.0-py2.py3-none-any.whl (1.7 MB)\r\n",
      "\u001b[2K     \u001b[90m━━━━━━━━━━━━━━━━━━━━━━━━━━━━━━━━━━━━━━━━\u001b[0m \u001b[32m1.7/1.7 MB\u001b[0m \u001b[31m62.1 MB/s\u001b[0m eta \u001b[36m0:00:00\u001b[0m\r\n",
      "\u001b[?25hCollecting tensorflow-estimator<2.12,>=2.11.0\r\n",
      "  Downloading tensorflow_estimator-2.11.0-py2.py3-none-any.whl (439 kB)\r\n",
      "\u001b[2K     \u001b[90m━━━━━━━━━━━━━━━━━━━━━━━━━━━━━━━━━━━━━━\u001b[0m \u001b[32m439.2/439.2 kB\u001b[0m \u001b[31m37.1 MB/s\u001b[0m eta \u001b[36m0:00:00\u001b[0m\r\n",
      "\u001b[?25hRequirement already satisfied: wheel<1.0,>=0.23.0 in /opt/conda/lib/python3.7/site-packages (from astunparse>=1.6.0->tensorflow) (0.37.1)\r\n",
      "Requirement already satisfied: markdown>=2.6.8 in /opt/conda/lib/python3.7/site-packages (from tensorboard<2.12,>=2.11->tensorflow) (3.3.7)\r\n",
      "Requirement already satisfied: tensorboard-plugin-wit>=1.6.0 in /opt/conda/lib/python3.7/site-packages (from tensorboard<2.12,>=2.11->tensorflow) (1.8.1)\r\n",
      "Requirement already satisfied: tensorboard-data-server<0.7.0,>=0.6.0 in /opt/conda/lib/python3.7/site-packages (from tensorboard<2.12,>=2.11->tensorflow) (0.6.1)\r\n",
      "Requirement already satisfied: google-auth<3,>=1.6.3 in /opt/conda/lib/python3.7/site-packages (from tensorboard<2.12,>=2.11->tensorflow) (1.35.0)\r\n",
      "Requirement already satisfied: werkzeug>=1.0.1 in /opt/conda/lib/python3.7/site-packages (from tensorboard<2.12,>=2.11->tensorflow) (2.2.2)\r\n",
      "Requirement already satisfied: requests<3,>=2.21.0 in /opt/conda/lib/python3.7/site-packages (from tensorboard<2.12,>=2.11->tensorflow) (2.28.1)\r\n",
      "Requirement already satisfied: google-auth-oauthlib<0.5,>=0.4.1 in /opt/conda/lib/python3.7/site-packages (from tensorboard<2.12,>=2.11->tensorflow) (0.4.6)\r\n",
      "Requirement already satisfied: pyasn1-modules>=0.2.1 in /opt/conda/lib/python3.7/site-packages (from google-auth<3,>=1.6.3->tensorboard<2.12,>=2.11->tensorflow) (0.2.7)\r\n",
      "Requirement already satisfied: cachetools<5.0,>=2.0.0 in /opt/conda/lib/python3.7/site-packages (from google-auth<3,>=1.6.3->tensorboard<2.12,>=2.11->tensorflow) (4.2.4)\r\n",
      "Requirement already satisfied: rsa<5,>=3.1.4 in /opt/conda/lib/python3.7/site-packages (from google-auth<3,>=1.6.3->tensorboard<2.12,>=2.11->tensorflow) (4.8)\r\n",
      "Requirement already satisfied: requests-oauthlib>=0.7.0 in /opt/conda/lib/python3.7/site-packages (from google-auth-oauthlib<0.5,>=0.4.1->tensorboard<2.12,>=2.11->tensorflow) (1.3.1)\r\n",
      "Requirement already satisfied: importlib-metadata>=4.4 in /opt/conda/lib/python3.7/site-packages (from markdown>=2.6.8->tensorboard<2.12,>=2.11->tensorflow) (4.13.0)\r\n",
      "Requirement already satisfied: certifi>=2017.4.17 in /opt/conda/lib/python3.7/site-packages (from requests<3,>=2.21.0->tensorboard<2.12,>=2.11->tensorflow) (2022.12.7)\r\n",
      "Requirement already satisfied: urllib3<1.27,>=1.21.1 in /opt/conda/lib/python3.7/site-packages (from requests<3,>=2.21.0->tensorboard<2.12,>=2.11->tensorflow) (1.26.13)\r\n",
      "Requirement already satisfied: charset-normalizer<3,>=2 in /opt/conda/lib/python3.7/site-packages (from requests<3,>=2.21.0->tensorboard<2.12,>=2.11->tensorflow) (2.1.0)\r\n",
      "Requirement already satisfied: idna<4,>=2.5 in /opt/conda/lib/python3.7/site-packages (from requests<3,>=2.21.0->tensorboard<2.12,>=2.11->tensorflow) (3.3)\r\n",
      "Requirement already satisfied: MarkupSafe>=2.1.1 in /opt/conda/lib/python3.7/site-packages (from werkzeug>=1.0.1->tensorboard<2.12,>=2.11->tensorflow) (2.1.1)\r\n",
      "Requirement already satisfied: zipp>=0.5 in /opt/conda/lib/python3.7/site-packages (from importlib-metadata>=4.4->markdown>=2.6.8->tensorboard<2.12,>=2.11->tensorflow) (3.8.0)\r\n",
      "Requirement already satisfied: pyasn1<0.5.0,>=0.4.6 in /opt/conda/lib/python3.7/site-packages (from pyasn1-modules>=0.2.1->google-auth<3,>=1.6.3->tensorboard<2.12,>=2.11->tensorflow) (0.4.8)\r\n",
      "Requirement already satisfied: oauthlib>=3.0.0 in /opt/conda/lib/python3.7/site-packages (from requests-oauthlib>=0.7.0->google-auth-oauthlib<0.5,>=0.4.1->tensorboard<2.12,>=2.11->tensorflow) (3.2.0)\r\n",
      "Installing collected packages: libclang, flatbuffers, tensorflow-io-gcs-filesystem, tensorflow-estimator, protobuf, keras, absl-py, tensorboard, tensorflow\r\n",
      "  Attempting uninstall: flatbuffers\r\n",
      "    Found existing installation: flatbuffers 1.12\r\n",
      "    Uninstalling flatbuffers-1.12:\r\n",
      "      Successfully uninstalled flatbuffers-1.12\r\n",
      "  Attempting uninstall: tensorflow-estimator\r\n",
      "    Found existing installation: tensorflow-estimator 2.6.0\r\n",
      "    Uninstalling tensorflow-estimator-2.6.0:\r\n",
      "      Successfully uninstalled tensorflow-estimator-2.6.0\r\n",
      "  Attempting uninstall: protobuf\r\n",
      "    Found existing installation: protobuf 3.20.3\r\n",
      "    Uninstalling protobuf-3.20.3:\r\n",
      "      Successfully uninstalled protobuf-3.20.3\r\n",
      "  Attempting uninstall: keras\r\n",
      "    Found existing installation: keras 2.6.0\r\n",
      "    Uninstalling keras-2.6.0:\r\n",
      "      Successfully uninstalled keras-2.6.0\r\n",
      "  Attempting uninstall: absl-py\r\n",
      "    Found existing installation: absl-py 0.15.0\r\n",
      "    Uninstalling absl-py-0.15.0:\r\n",
      "      Successfully uninstalled absl-py-0.15.0\r\n",
      "  Attempting uninstall: tensorboard\r\n",
      "    Found existing installation: tensorboard 2.6.0\r\n",
      "    Uninstalling tensorboard-2.6.0:\r\n",
      "      Successfully uninstalled tensorboard-2.6.0\r\n",
      "  Attempting uninstall: tensorflow\r\n",
      "    Found existing installation: tensorflow 2.6.4\r\n",
      "    Uninstalling tensorflow-2.6.4:\r\n",
      "      Successfully uninstalled tensorflow-2.6.4\r\n",
      "\u001b[31mERROR: pip's dependency resolver does not currently take into account all the packages that are installed. This behaviour is the source of the following dependency conflicts.\r\n",
      "beatrix-jupyterlab 3.1.7 requires google-cloud-bigquery-storage, which is not installed.\r\n",
      "tfx-bsl 1.9.0 requires google-api-python-client<2,>=1.7.11, but you have google-api-python-client 2.52.0 which is incompatible.\r\n",
      "tensorflow-transform 1.9.0 requires tensorflow!=2.0.*,!=2.1.*,!=2.2.*,!=2.3.*,!=2.4.*,!=2.5.*,!=2.6.*,!=2.7.*,!=2.8.*,<2.10,>=1.15.5, but you have tensorflow 2.11.0 which is incompatible.\r\n",
      "tensorflow-io 0.21.0 requires tensorflow<2.7.0,>=2.6.0, but you have tensorflow 2.11.0 which is incompatible.\r\n",
      "tensorflow-io 0.21.0 requires tensorflow-io-gcs-filesystem==0.21.0, but you have tensorflow-io-gcs-filesystem 0.29.0 which is incompatible.\r\n",
      "ortools 9.5.2237 requires protobuf>=4.21.5, but you have protobuf 3.19.6 which is incompatible.\r\n",
      "onnx 1.13.0 requires protobuf<4,>=3.20.2, but you have protobuf 3.19.6 which is incompatible.\r\n",
      "nnabla 1.32.0 requires protobuf<=3.19.4; platform_system != \"Windows\", but you have protobuf 3.19.6 which is incompatible.\r\n",
      "gcsfs 2022.5.0 requires fsspec==2022.5.0, but you have fsspec 2022.11.0 which is incompatible.\r\n",
      "apache-beam 2.40.0 requires dill<0.3.2,>=0.3.1.1, but you have dill 0.3.6 which is incompatible.\u001b[0m\u001b[31m\r\n",
      "\u001b[0mSuccessfully installed absl-py-1.4.0 flatbuffers-23.1.4 keras-2.11.0 libclang-15.0.6.1 protobuf-3.19.6 tensorboard-2.11.2 tensorflow-2.11.0 tensorflow-estimator-2.11.0 tensorflow-io-gcs-filesystem-0.29.0\r\n",
      "\u001b[33mWARNING: Running pip as the 'root' user can result in broken permissions and conflicting behaviour with the system package manager. It is recommended to use a virtual environment instead: https://pip.pypa.io/warnings/venv\u001b[0m\u001b[33m\r\n",
      "\u001b[0m"
     ]
    }
   ],
   "source": [
    "!pip3 install --upgrade tensorflow"
   ]
  },
  {
   "cell_type": "code",
   "execution_count": 2,
   "id": "4e43d078",
   "metadata": {
    "execution": {
     "iopub.execute_input": "2023-01-18T00:47:43.522351Z",
     "iopub.status.busy": "2023-01-18T00:47:43.521308Z",
     "iopub.status.idle": "2023-01-18T00:47:53.855266Z",
     "shell.execute_reply": "2023-01-18T00:47:53.854069Z"
    },
    "papermill": {
     "duration": 10.38762,
     "end_time": "2023-01-18T00:47:53.858332",
     "exception": false,
     "start_time": "2023-01-18T00:47:43.470712",
     "status": "completed"
    },
    "tags": []
   },
   "outputs": [
    {
     "name": "stdout",
     "output_type": "stream",
     "text": [
      "Collecting scikeras[tensorflow]\r\n",
      "  Downloading scikeras-0.10.0-py3-none-any.whl (27 kB)\r\n",
      "Requirement already satisfied: packaging>=0.21 in /opt/conda/lib/python3.7/site-packages (from scikeras[tensorflow]) (22.0)\r\n",
      "Requirement already satisfied: scikit-learn>=1.0.0 in /opt/conda/lib/python3.7/site-packages (from scikeras[tensorflow]) (1.0.2)\r\n",
      "Requirement already satisfied: importlib-metadata>=3 in /opt/conda/lib/python3.7/site-packages (from scikeras[tensorflow]) (4.13.0)\r\n",
      "Requirement already satisfied: tensorflow>=2.11.0 in /opt/conda/lib/python3.7/site-packages (from scikeras[tensorflow]) (2.11.0)\r\n",
      "Requirement already satisfied: zipp>=0.5 in /opt/conda/lib/python3.7/site-packages (from importlib-metadata>=3->scikeras[tensorflow]) (3.8.0)\r\n",
      "Requirement already satisfied: typing-extensions>=3.6.4 in /opt/conda/lib/python3.7/site-packages (from importlib-metadata>=3->scikeras[tensorflow]) (4.1.1)\r\n",
      "Requirement already satisfied: joblib>=0.11 in /opt/conda/lib/python3.7/site-packages (from scikit-learn>=1.0.0->scikeras[tensorflow]) (1.0.1)\r\n",
      "Requirement already satisfied: numpy>=1.14.6 in /opt/conda/lib/python3.7/site-packages (from scikit-learn>=1.0.0->scikeras[tensorflow]) (1.21.6)\r\n",
      "Requirement already satisfied: scipy>=1.1.0 in /opt/conda/lib/python3.7/site-packages (from scikit-learn>=1.0.0->scikeras[tensorflow]) (1.7.3)\r\n",
      "Requirement already satisfied: threadpoolctl>=2.0.0 in /opt/conda/lib/python3.7/site-packages (from scikit-learn>=1.0.0->scikeras[tensorflow]) (3.1.0)\r\n",
      "Requirement already satisfied: flatbuffers>=2.0 in /opt/conda/lib/python3.7/site-packages (from tensorflow>=2.11.0->scikeras[tensorflow]) (23.1.4)\r\n",
      "Requirement already satisfied: keras<2.12,>=2.11.0 in /opt/conda/lib/python3.7/site-packages (from tensorflow>=2.11.0->scikeras[tensorflow]) (2.11.0)\r\n",
      "Requirement already satisfied: six>=1.12.0 in /opt/conda/lib/python3.7/site-packages (from tensorflow>=2.11.0->scikeras[tensorflow]) (1.15.0)\r\n",
      "Requirement already satisfied: termcolor>=1.1.0 in /opt/conda/lib/python3.7/site-packages (from tensorflow>=2.11.0->scikeras[tensorflow]) (1.1.0)\r\n",
      "Requirement already satisfied: wrapt>=1.11.0 in /opt/conda/lib/python3.7/site-packages (from tensorflow>=2.11.0->scikeras[tensorflow]) (1.12.1)\r\n",
      "Requirement already satisfied: gast<=0.4.0,>=0.2.1 in /opt/conda/lib/python3.7/site-packages (from tensorflow>=2.11.0->scikeras[tensorflow]) (0.4.0)\r\n",
      "Requirement already satisfied: absl-py>=1.0.0 in /opt/conda/lib/python3.7/site-packages (from tensorflow>=2.11.0->scikeras[tensorflow]) (1.4.0)\r\n",
      "Requirement already satisfied: tensorboard<2.12,>=2.11 in /opt/conda/lib/python3.7/site-packages (from tensorflow>=2.11.0->scikeras[tensorflow]) (2.11.2)\r\n",
      "Requirement already satisfied: libclang>=13.0.0 in /opt/conda/lib/python3.7/site-packages (from tensorflow>=2.11.0->scikeras[tensorflow]) (15.0.6.1)\r\n",
      "Requirement already satisfied: google-pasta>=0.1.1 in /opt/conda/lib/python3.7/site-packages (from tensorflow>=2.11.0->scikeras[tensorflow]) (0.2.0)\r\n",
      "Requirement already satisfied: astunparse>=1.6.0 in /opt/conda/lib/python3.7/site-packages (from tensorflow>=2.11.0->scikeras[tensorflow]) (1.6.3)\r\n",
      "Requirement already satisfied: opt-einsum>=2.3.2 in /opt/conda/lib/python3.7/site-packages (from tensorflow>=2.11.0->scikeras[tensorflow]) (3.3.0)\r\n",
      "Requirement already satisfied: protobuf<3.20,>=3.9.2 in /opt/conda/lib/python3.7/site-packages (from tensorflow>=2.11.0->scikeras[tensorflow]) (3.19.6)\r\n",
      "Requirement already satisfied: setuptools in /opt/conda/lib/python3.7/site-packages (from tensorflow>=2.11.0->scikeras[tensorflow]) (59.8.0)\r\n",
      "Requirement already satisfied: tensorflow-io-gcs-filesystem>=0.23.1 in /opt/conda/lib/python3.7/site-packages (from tensorflow>=2.11.0->scikeras[tensorflow]) (0.29.0)\r\n",
      "Requirement already satisfied: grpcio<2.0,>=1.24.3 in /opt/conda/lib/python3.7/site-packages (from tensorflow>=2.11.0->scikeras[tensorflow]) (1.51.1)\r\n",
      "Requirement already satisfied: tensorflow-estimator<2.12,>=2.11.0 in /opt/conda/lib/python3.7/site-packages (from tensorflow>=2.11.0->scikeras[tensorflow]) (2.11.0)\r\n",
      "Requirement already satisfied: h5py>=2.9.0 in /opt/conda/lib/python3.7/site-packages (from tensorflow>=2.11.0->scikeras[tensorflow]) (3.7.0)\r\n",
      "Requirement already satisfied: wheel<1.0,>=0.23.0 in /opt/conda/lib/python3.7/site-packages (from astunparse>=1.6.0->tensorflow>=2.11.0->scikeras[tensorflow]) (0.37.1)\r\n",
      "Requirement already satisfied: google-auth-oauthlib<0.5,>=0.4.1 in /opt/conda/lib/python3.7/site-packages (from tensorboard<2.12,>=2.11->tensorflow>=2.11.0->scikeras[tensorflow]) (0.4.6)\r\n",
      "Requirement already satisfied: requests<3,>=2.21.0 in /opt/conda/lib/python3.7/site-packages (from tensorboard<2.12,>=2.11->tensorflow>=2.11.0->scikeras[tensorflow]) (2.28.1)\r\n",
      "Requirement already satisfied: markdown>=2.6.8 in /opt/conda/lib/python3.7/site-packages (from tensorboard<2.12,>=2.11->tensorflow>=2.11.0->scikeras[tensorflow]) (3.3.7)\r\n",
      "Requirement already satisfied: tensorboard-plugin-wit>=1.6.0 in /opt/conda/lib/python3.7/site-packages (from tensorboard<2.12,>=2.11->tensorflow>=2.11.0->scikeras[tensorflow]) (1.8.1)\r\n",
      "Requirement already satisfied: werkzeug>=1.0.1 in /opt/conda/lib/python3.7/site-packages (from tensorboard<2.12,>=2.11->tensorflow>=2.11.0->scikeras[tensorflow]) (2.2.2)\r\n",
      "Requirement already satisfied: google-auth<3,>=1.6.3 in /opt/conda/lib/python3.7/site-packages (from tensorboard<2.12,>=2.11->tensorflow>=2.11.0->scikeras[tensorflow]) (1.35.0)\r\n",
      "Requirement already satisfied: tensorboard-data-server<0.7.0,>=0.6.0 in /opt/conda/lib/python3.7/site-packages (from tensorboard<2.12,>=2.11->tensorflow>=2.11.0->scikeras[tensorflow]) (0.6.1)\r\n",
      "Requirement already satisfied: rsa<5,>=3.1.4 in /opt/conda/lib/python3.7/site-packages (from google-auth<3,>=1.6.3->tensorboard<2.12,>=2.11->tensorflow>=2.11.0->scikeras[tensorflow]) (4.8)\r\n",
      "Requirement already satisfied: pyasn1-modules>=0.2.1 in /opt/conda/lib/python3.7/site-packages (from google-auth<3,>=1.6.3->tensorboard<2.12,>=2.11->tensorflow>=2.11.0->scikeras[tensorflow]) (0.2.7)\r\n",
      "Requirement already satisfied: cachetools<5.0,>=2.0.0 in /opt/conda/lib/python3.7/site-packages (from google-auth<3,>=1.6.3->tensorboard<2.12,>=2.11->tensorflow>=2.11.0->scikeras[tensorflow]) (4.2.4)\r\n",
      "Requirement already satisfied: requests-oauthlib>=0.7.0 in /opt/conda/lib/python3.7/site-packages (from google-auth-oauthlib<0.5,>=0.4.1->tensorboard<2.12,>=2.11->tensorflow>=2.11.0->scikeras[tensorflow]) (1.3.1)\r\n",
      "Requirement already satisfied: charset-normalizer<3,>=2 in /opt/conda/lib/python3.7/site-packages (from requests<3,>=2.21.0->tensorboard<2.12,>=2.11->tensorflow>=2.11.0->scikeras[tensorflow]) (2.1.0)\r\n",
      "Requirement already satisfied: certifi>=2017.4.17 in /opt/conda/lib/python3.7/site-packages (from requests<3,>=2.21.0->tensorboard<2.12,>=2.11->tensorflow>=2.11.0->scikeras[tensorflow]) (2022.12.7)\r\n",
      "Requirement already satisfied: idna<4,>=2.5 in /opt/conda/lib/python3.7/site-packages (from requests<3,>=2.21.0->tensorboard<2.12,>=2.11->tensorflow>=2.11.0->scikeras[tensorflow]) (3.3)\r\n",
      "Requirement already satisfied: urllib3<1.27,>=1.21.1 in /opt/conda/lib/python3.7/site-packages (from requests<3,>=2.21.0->tensorboard<2.12,>=2.11->tensorflow>=2.11.0->scikeras[tensorflow]) (1.26.13)\r\n",
      "Requirement already satisfied: MarkupSafe>=2.1.1 in /opt/conda/lib/python3.7/site-packages (from werkzeug>=1.0.1->tensorboard<2.12,>=2.11->tensorflow>=2.11.0->scikeras[tensorflow]) (2.1.1)\r\n",
      "Requirement already satisfied: pyasn1<0.5.0,>=0.4.6 in /opt/conda/lib/python3.7/site-packages (from pyasn1-modules>=0.2.1->google-auth<3,>=1.6.3->tensorboard<2.12,>=2.11->tensorflow>=2.11.0->scikeras[tensorflow]) (0.4.8)\r\n",
      "Requirement already satisfied: oauthlib>=3.0.0 in /opt/conda/lib/python3.7/site-packages (from requests-oauthlib>=0.7.0->google-auth-oauthlib<0.5,>=0.4.1->tensorboard<2.12,>=2.11->tensorflow>=2.11.0->scikeras[tensorflow]) (3.2.0)\r\n",
      "Installing collected packages: scikeras\r\n",
      "Successfully installed scikeras-0.10.0\r\n",
      "\u001b[33mWARNING: Running pip as the 'root' user can result in broken permissions and conflicting behaviour with the system package manager. It is recommended to use a virtual environment instead: https://pip.pypa.io/warnings/venv\u001b[0m\u001b[33m\r\n",
      "\u001b[0m"
     ]
    }
   ],
   "source": [
    "!pip3 install scikeras[tensorflow]"
   ]
  },
  {
   "cell_type": "code",
   "execution_count": 3,
   "id": "b3c0604d",
   "metadata": {
    "execution": {
     "iopub.execute_input": "2023-01-18T00:47:53.959583Z",
     "iopub.status.busy": "2023-01-18T00:47:53.959224Z",
     "iopub.status.idle": "2023-01-18T00:47:55.267876Z",
     "shell.execute_reply": "2023-01-18T00:47:55.266830Z"
    },
    "papermill": {
     "duration": 1.361824,
     "end_time": "2023-01-18T00:47:55.270439",
     "exception": false,
     "start_time": "2023-01-18T00:47:53.908615",
     "status": "completed"
    },
    "tags": []
   },
   "outputs": [],
   "source": [
    "import pandas as pd\n",
    "import numpy as np\n",
    "\n",
    "from sklearn.model_selection import train_test_split\n",
    "from sklearn.compose import ColumnTransformer\n",
    "from sklearn.preprocessing import RobustScaler\n",
    "from sklearn.preprocessing import OneHotEncoder\n",
    "from sklearn.preprocessing import OrdinalEncoder,StandardScaler,MinMaxScaler\n",
    "from sklearn.feature_selection import RFE\n",
    "from sklearn.linear_model import LinearRegression\n",
    "from sklearn.linear_model import LinearRegression\n",
    "import math\n",
    "import matplotlib.pyplot as plt\n",
    "from sklearn.metrics import mean_squared_error, r2_score\n",
    "from sklearn.model_selection import KFold\n",
    "import seaborn as sns\n",
    "\n",
    "import xgboost as xg \n",
    "import pickle\n",
    "import category_encoders as ce\n",
    "from scipy.special import boxcox1p"
   ]
  },
  {
   "cell_type": "code",
   "execution_count": 4,
   "id": "4b57b0d0",
   "metadata": {
    "execution": {
     "iopub.execute_input": "2023-01-18T00:47:55.370318Z",
     "iopub.status.busy": "2023-01-18T00:47:55.369405Z",
     "iopub.status.idle": "2023-01-18T00:47:58.548645Z",
     "shell.execute_reply": "2023-01-18T00:47:58.547295Z"
    },
    "papermill": {
     "duration": 3.233096,
     "end_time": "2023-01-18T00:47:58.552891",
     "exception": false,
     "start_time": "2023-01-18T00:47:55.319795",
     "status": "completed"
    },
    "tags": []
   },
   "outputs": [
    {
     "name": "stderr",
     "output_type": "stream",
     "text": [
      "2023-01-18 00:47:55.375697: I tensorflow/core/platform/cpu_feature_guard.cc:193] This TensorFlow binary is optimized with oneAPI Deep Neural Network Library (oneDNN) to use the following CPU instructions in performance-critical operations:  AVX2 AVX512F FMA\n",
      "To enable them in other operations, rebuild TensorFlow with the appropriate compiler flags.\n",
      "2023-01-18 00:47:56.430071: W tensorflow/compiler/xla/stream_executor/platform/default/dso_loader.cc:64] Could not load dynamic library 'libnvinfer.so.7'; dlerror: libnvinfer.so.7: cannot open shared object file: No such file or directory; LD_LIBRARY_PATH: /usr/local/cuda/lib64:/usr/local/cuda/lib:/usr/local/lib/x86_64-linux-gnu:/usr/local/nvidia/lib:/usr/local/nvidia/lib64:/usr/local/cuda/lib64:/usr/local/cuda/lib:/usr/local/lib/x86_64-linux-gnu:/usr/local/nvidia/lib:/usr/local/nvidia/lib64:/usr/local/nvidia/lib:/usr/local/nvidia/lib64\n",
      "2023-01-18 00:47:56.430348: W tensorflow/compiler/xla/stream_executor/platform/default/dso_loader.cc:64] Could not load dynamic library 'libnvinfer_plugin.so.7'; dlerror: libnvinfer_plugin.so.7: cannot open shared object file: No such file or directory; LD_LIBRARY_PATH: /usr/local/cuda/lib64:/usr/local/cuda/lib:/usr/local/lib/x86_64-linux-gnu:/usr/local/nvidia/lib:/usr/local/nvidia/lib64:/usr/local/cuda/lib64:/usr/local/cuda/lib:/usr/local/lib/x86_64-linux-gnu:/usr/local/nvidia/lib:/usr/local/nvidia/lib64:/usr/local/nvidia/lib:/usr/local/nvidia/lib64\n",
      "2023-01-18 00:47:56.430364: W tensorflow/compiler/tf2tensorrt/utils/py_utils.cc:38] TF-TRT Warning: Cannot dlopen some TensorRT libraries. If you would like to use Nvidia GPU with TensorRT, please make sure the missing libraries mentioned above are installed properly.\n"
     ]
    }
   ],
   "source": [
    "import tensorflow as tf\n",
    "from tensorflow.keras import layers\n",
    "from tensorflow.keras.models import Sequential\n",
    "from tensorflow.keras.layers import Dense, Dropout\n",
    "from keras.models import load_model\n",
    "import absl.logging\n",
    "import logging"
   ]
  },
  {
   "cell_type": "code",
   "execution_count": 5,
   "id": "f39554ae",
   "metadata": {
    "execution": {
     "iopub.execute_input": "2023-01-18T00:47:58.713778Z",
     "iopub.status.busy": "2023-01-18T00:47:58.712856Z",
     "iopub.status.idle": "2023-01-18T00:48:08.592201Z",
     "shell.execute_reply": "2023-01-18T00:48:08.590795Z"
    },
    "papermill": {
     "duration": 9.955415,
     "end_time": "2023-01-18T00:48:08.594669",
     "exception": false,
     "start_time": "2023-01-18T00:47:58.639254",
     "status": "completed"
    },
    "tags": []
   },
   "outputs": [
    {
     "name": "stdout",
     "output_type": "stream",
     "text": [
      "Name: tensorflow\r\n",
      "Version: 2.11.0\r\n",
      "Summary: TensorFlow is an open source machine learning framework for everyone.\r\n",
      "Home-page: https://www.tensorflow.org/\r\n",
      "Author: Google Inc.\r\n",
      "Author-email: packages@tensorflow.org\r\n",
      "License: Apache 2.0\r\n",
      "Location: /opt/conda/lib/python3.7/site-packages\r\n",
      "Requires: absl-py, astunparse, flatbuffers, gast, google-pasta, grpcio, h5py, keras, libclang, numpy, opt-einsum, packaging, protobuf, setuptools, six, tensorboard, tensorflow-estimator, tensorflow-io-gcs-filesystem, termcolor, typing-extensions, wrapt\r\n",
      "Required-by: explainable-ai-sdk, tensorflow-cloud, tensorflow-decision-forests, tensorflow-io, tensorflow-serving-api, tensorflow-transform, tfx-bsl, witwidget\r\n",
      "Note: you may need to restart the kernel to use updated packages.\n"
     ]
    }
   ],
   "source": [
    "pip show tensorflow"
   ]
  },
  {
   "cell_type": "code",
   "execution_count": 6,
   "id": "e1de0eec",
   "metadata": {
    "execution": {
     "iopub.execute_input": "2023-01-18T00:48:08.695739Z",
     "iopub.status.busy": "2023-01-18T00:48:08.695355Z",
     "iopub.status.idle": "2023-01-18T00:48:08.724103Z",
     "shell.execute_reply": "2023-01-18T00:48:08.723140Z"
    },
    "papermill": {
     "duration": 0.082181,
     "end_time": "2023-01-18T00:48:08.726383",
     "exception": false,
     "start_time": "2023-01-18T00:48:08.644202",
     "status": "completed"
    },
    "tags": []
   },
   "outputs": [],
   "source": [
    "from scikeras.wrappers import KerasRegressor\n",
    "from mlxtend.regressor import StackingCVRegressor"
   ]
  },
  {
   "cell_type": "code",
   "execution_count": 7,
   "id": "68357b10",
   "metadata": {
    "execution": {
     "iopub.execute_input": "2023-01-18T00:48:08.827404Z",
     "iopub.status.busy": "2023-01-18T00:48:08.827007Z",
     "iopub.status.idle": "2023-01-18T00:48:10.598575Z",
     "shell.execute_reply": "2023-01-18T00:48:10.597614Z"
    },
    "papermill": {
     "duration": 1.825322,
     "end_time": "2023-01-18T00:48:10.601431",
     "exception": false,
     "start_time": "2023-01-18T00:48:08.776109",
     "status": "completed"
    },
    "tags": []
   },
   "outputs": [
    {
     "data": {
      "text/html": [
       "<style type='text/css'>\n",
       ".datatable table.frame { margin-bottom: 0; }\n",
       ".datatable table.frame thead { border-bottom: none; }\n",
       ".datatable table.frame tr.coltypes td {  color: #FFFFFF;  line-height: 6px;  padding: 0 0.5em;}\n",
       ".datatable .bool    { background: #DDDD99; }\n",
       ".datatable .object  { background: #565656; }\n",
       ".datatable .int     { background: #5D9E5D; }\n",
       ".datatable .float   { background: #4040CC; }\n",
       ".datatable .str     { background: #CC4040; }\n",
       ".datatable .time    { background: #40CC40; }\n",
       ".datatable .row_index {  background: var(--jp-border-color3);  border-right: 1px solid var(--jp-border-color0);  color: var(--jp-ui-font-color3);  font-size: 9px;}\n",
       ".datatable .frame tbody td { text-align: left; }\n",
       ".datatable .frame tr.coltypes .row_index {  background: var(--jp-border-color0);}\n",
       ".datatable th:nth-child(2) { padding-left: 12px; }\n",
       ".datatable .hellipsis {  color: var(--jp-cell-editor-border-color);}\n",
       ".datatable .vellipsis {  background: var(--jp-layout-color0);  color: var(--jp-cell-editor-border-color);}\n",
       ".datatable .na {  color: var(--jp-cell-editor-border-color);  font-size: 80%;}\n",
       ".datatable .sp {  opacity: 0.25;}\n",
       ".datatable .footer { font-size: 9px; }\n",
       ".datatable .frame_dimensions {  background: var(--jp-border-color3);  border-top: 1px solid var(--jp-border-color0);  color: var(--jp-ui-font-color3);  display: inline-block;  opacity: 0.6;  padding: 1px 10px 1px 5px;}\n",
       "</style>\n"
      ],
      "text/plain": [
       "<IPython.core.display.HTML object>"
      ]
     },
     "metadata": {},
     "output_type": "display_data"
    }
   ],
   "source": [
    "from sklearn.linear_model import ElasticNetCV\n",
    "from sklearn.linear_model import Ridge\n",
    "from sklearn.svm import LinearSVR\n",
    "from sklearn.ensemble import StackingRegressor\n",
    "from sklearn.linear_model import Lasso\n",
    "from sklearn.linear_model import LassoCV\n",
    "\n",
    "\n",
    "from sklearn.linear_model import ElasticNet, Lasso,  BayesianRidge, LassoLarsIC\n",
    "from sklearn.ensemble import RandomForestRegressor,  GradientBoostingRegressor\n",
    "from sklearn.kernel_ridge import KernelRidge\n",
    " \n",
    "import lightgbm as lgb"
   ]
  },
  {
   "cell_type": "markdown",
   "id": "00296720",
   "metadata": {
    "papermill": {
     "duration": 0.048035,
     "end_time": "2023-01-18T00:48:10.699169",
     "exception": false,
     "start_time": "2023-01-18T00:48:10.651134",
     "status": "completed"
    },
    "tags": []
   },
   "source": [
    "## Pre-processing"
   ]
  },
  {
   "cell_type": "markdown",
   "id": "f0a8db3c",
   "metadata": {
    "papermill": {
     "duration": 0.048202,
     "end_time": "2023-01-18T00:48:10.795833",
     "exception": false,
     "start_time": "2023-01-18T00:48:10.747631",
     "status": "completed"
    },
    "tags": []
   },
   "source": [
    "Random numbers play a significant role in machine learning. If we need to get same results, everytime we run the functions,  and also everytime we open the Jupyter Notebook, we need to use the same set of random numbers. In order to facilitate this, we need to set the random seed number. The seed number used here 1123 shall be used everywhere random states are applicable."
   ]
  },
  {
   "cell_type": "code",
   "execution_count": 8,
   "id": "566311e2",
   "metadata": {
    "execution": {
     "iopub.execute_input": "2023-01-18T00:48:10.895139Z",
     "iopub.status.busy": "2023-01-18T00:48:10.894799Z",
     "iopub.status.idle": "2023-01-18T00:48:10.900113Z",
     "shell.execute_reply": "2023-01-18T00:48:10.899061Z"
    },
    "papermill": {
     "duration": 0.057184,
     "end_time": "2023-01-18T00:48:10.902199",
     "exception": false,
     "start_time": "2023-01-18T00:48:10.845015",
     "status": "completed"
    },
    "tags": []
   },
   "outputs": [],
   "source": [
    "# I am using same random_state of \"1123\" all through the notebook here. However, each of the model \n",
    "# can have different random_states. As long as we use the respective random_state number in each model, we\n",
    "# will be able to reproduce the accuracies exactly (the accuracies in commented are obtained with different \n",
    "# random_state numbers in my laptop) \n",
    "\n",
    "from numpy.random import seed\n",
    "seed(1123) "
   ]
  },
  {
   "cell_type": "code",
   "execution_count": 9,
   "id": "4b4d366a",
   "metadata": {
    "execution": {
     "iopub.execute_input": "2023-01-18T00:48:11.001630Z",
     "iopub.status.busy": "2023-01-18T00:48:11.001245Z",
     "iopub.status.idle": "2023-01-18T00:48:11.010294Z",
     "shell.execute_reply": "2023-01-18T00:48:11.005217Z"
    },
    "papermill": {
     "duration": 0.063461,
     "end_time": "2023-01-18T00:48:11.014218",
     "exception": false,
     "start_time": "2023-01-18T00:48:10.950757",
     "status": "completed"
    },
    "tags": []
   },
   "outputs": [],
   "source": [
    "import random as pyrandom\n",
    "pyrandom.seed(1123)"
   ]
  },
  {
   "cell_type": "code",
   "execution_count": 10,
   "id": "f117d6ee",
   "metadata": {
    "execution": {
     "iopub.execute_input": "2023-01-18T00:48:11.210932Z",
     "iopub.status.busy": "2023-01-18T00:48:11.210570Z",
     "iopub.status.idle": "2023-01-18T00:48:11.215921Z",
     "shell.execute_reply": "2023-01-18T00:48:11.214976Z"
    },
    "papermill": {
     "duration": 0.092869,
     "end_time": "2023-01-18T00:48:11.219451",
     "exception": false,
     "start_time": "2023-01-18T00:48:11.126582",
     "status": "completed"
    },
    "tags": []
   },
   "outputs": [
    {
     "name": "stdout",
     "output_type": "stream",
     "text": [
      "-5908118713986530966\n"
     ]
    }
   ],
   "source": [
    "# If you want to reproduce exact accuracies as given by this Kaggle notebook, the hash for \"123\" should be \n",
    "# same as the outout of this cell. Else set \"pythonhashseed\" of \"1234\" in kernel.json file to get the accurcies \n",
    "# given in the comments of respective submissions\n",
    "\n",
    "print(hash(\"123\"))\n",
    "# -1713696605291986919"
   ]
  },
  {
   "cell_type": "markdown",
   "id": "758ac6e1",
   "metadata": {
    "papermill": {
     "duration": 0.074935,
     "end_time": "2023-01-18T00:48:11.372065",
     "exception": false,
     "start_time": "2023-01-18T00:48:11.297130",
     "status": "completed"
    },
    "tags": []
   },
   "source": [
    "**The following section on pre-processing of training data is same as that given in my previous detailed notebook. However, I have incorporated the deletion of outliers as part of the preprocessing itself in this notebok. The outliers were as found in the previous notebook**"
   ]
  },
  {
   "cell_type": "markdown",
   "id": "20b1c3e8",
   "metadata": {
    "papermill": {
     "duration": 0.074213,
     "end_time": "2023-01-18T00:48:11.521020",
     "exception": false,
     "start_time": "2023-01-18T00:48:11.446807",
     "status": "completed"
    },
    "tags": []
   },
   "source": [
    "#### Listing of different column types"
   ]
  },
  {
   "cell_type": "code",
   "execution_count": 11,
   "id": "14652112",
   "metadata": {
    "execution": {
     "iopub.execute_input": "2023-01-18T00:48:11.669711Z",
     "iopub.status.busy": "2023-01-18T00:48:11.669295Z",
     "iopub.status.idle": "2023-01-18T00:48:11.726837Z",
     "shell.execute_reply": "2023-01-18T00:48:11.725012Z"
    },
    "papermill": {
     "duration": 0.126314,
     "end_time": "2023-01-18T00:48:11.730158",
     "exception": false,
     "start_time": "2023-01-18T00:48:11.603844",
     "status": "completed"
    },
    "tags": []
   },
   "outputs": [
    {
     "name": "stdout",
     "output_type": "stream",
     "text": [
      "The categorical feature columns with null values are : \n",
      " {'BsmtFinType1', 'Fence', 'GarageQual', 'FireplaceQu', 'PoolQC', 'Alley', 'BsmtQual', 'GarageCond', 'Electrical', 'BsmtCond', 'MasVnrType', 'BsmtExposure', 'GarageType', 'GarageFinish', 'MiscFeature', 'BsmtFinType2'} \n",
      "\n",
      "The numerical feature columns with null values are : \n",
      " {'GarageYrBlt', 'MasVnrArea', 'LotFrontage'} \n",
      "\n"
     ]
    }
   ],
   "source": [
    "train=pd.read_csv(\"../input/house-prices-advanced-regression-techniques/train.csv\")\n",
    "\n",
    "idx=np.where(train[train.columns].count()<train.shape[0])\n",
    "nullcol=train.columns[idx].values.tolist()\n",
    "colcat1=train.select_dtypes(include='O').columns.tolist()\n",
    "colint1=train.select_dtypes(exclude='O').columns.tolist()\n",
    "nullcat=set(colcat1).intersection(nullcol)\n",
    "\n",
    "print(\"The categorical feature columns with null values are :\",\"\\n\",nullcat,'\\n')\n",
    "\n",
    "nullint=set(nullcol).intersection(colint1)\n",
    "\n",
    "print(\"The numerical feature columns with null values are :\",\"\\n\",nullint,'\\n')"
   ]
  },
  {
   "cell_type": "markdown",
   "id": "b9040dae",
   "metadata": {
    "papermill": {
     "duration": 0.049164,
     "end_time": "2023-01-18T00:48:11.831697",
     "exception": false,
     "start_time": "2023-01-18T00:48:11.782533",
     "status": "completed"
    },
    "tags": []
   },
   "source": [
    "#### Imputation of Numerical Variables"
   ]
  },
  {
   "cell_type": "markdown",
   "id": "fca0c71b",
   "metadata": {
    "papermill": {
     "duration": 0.049014,
     "end_time": "2023-01-18T00:48:11.929346",
     "exception": false,
     "start_time": "2023-01-18T00:48:11.880332",
     "status": "completed"
    },
    "tags": []
   },
   "source": [
    "There are two numeric features that can be imputed by regressing with other features viz., LotFrontage and MasVnrArea. LotFrontage is related to LotArea. A regression of LotFrontage with LotArea shows a linear relationship. Hence, the missing values of LotFrontage are imputed through regression.\n",
    "\n",
    "While regressing the values, the outliers are removed before fitting the model. To facilitate that another copy of training data is used."
   ]
  },
  {
   "cell_type": "code",
   "execution_count": 12,
   "id": "0d1e0e4b",
   "metadata": {
    "execution": {
     "iopub.execute_input": "2023-01-18T00:48:12.029647Z",
     "iopub.status.busy": "2023-01-18T00:48:12.029250Z",
     "iopub.status.idle": "2023-01-18T00:48:12.228776Z",
     "shell.execute_reply": "2023-01-18T00:48:12.227785Z"
    },
    "papermill": {
     "duration": 0.25312,
     "end_time": "2023-01-18T00:48:12.231422",
     "exception": false,
     "start_time": "2023-01-18T00:48:11.978302",
     "status": "completed"
    },
    "tags": []
   },
   "outputs": [],
   "source": [
    "train1=pd.read_csv(\"../input/house-prices-advanced-regression-techniques/train.csv\")  # Another copy of training data allows dropping of outliers\n",
    "\n",
    "#Detected outliers in LotArea and LotFrontage are removed - this analysis is not part of this notebook\n",
    "\n",
    "train1.drop(train1[train1.LotArea>200000].index,inplace=True)\n",
    "train1.drop(train1[(train1.LotFrontage>300)].index,inplace=True)\n",
    "\n",
    "idx2=train1[(train1.LotFrontage>100) & (train1.SalePrice>700000)].loc[:,['LotFrontage','SalePrice']].index \n",
    "idx3=train1[(train1.LotFrontage>150) & (train1.SalePrice<100000)].loc[:,['LotFrontage','SalePrice']].index \n",
    " \n",
    "train1.drop(index=idx2,inplace=True)\n",
    "train1.drop(index=idx3,inplace=True)\n",
    "\n",
    "\n",
    "lm1=LinearRegression()\n",
    "x=train1[['LotArea']].copy()\n",
    "x['LotFrontage']=train1['LotFrontage'].copy()\n",
    "\n",
    "x.dropna(inplace=True)\n",
    "\n",
    "xt=x.iloc[:,:-1].values\n",
    "yt=x['LotFrontage'].values\n",
    "lm1.fit(xt,yt)\n",
    "\n",
    "import math \n",
    "for item in train[['LotFrontage','LotArea']].itertuples(): \n",
    "#     print(item)\n",
    "\n",
    "    if math.isnan(item[1]):\n",
    "#         print(np.array([[ train.iloc[item[0]].loc['LotArea'],train.iloc[item[0]].loc['SalePrice'] ]]))\n",
    "        value=np.round(np.squeeze(lm1.predict(np.array([[ train.iloc[item[0]].loc['LotArea']]] ))).tolist())\n",
    "        train.loc[item[0],'LotFrontage']=value\n",
    "        \n",
    "import warnings\n",
    "warnings.filterwarnings('ignore')\n"
   ]
  },
  {
   "cell_type": "markdown",
   "id": "ad0bc180",
   "metadata": {
    "papermill": {
     "duration": 0.054322,
     "end_time": "2023-01-18T00:48:12.356184",
     "exception": false,
     "start_time": "2023-01-18T00:48:12.301862",
     "status": "completed"
    },
    "tags": []
   },
   "source": [
    "The second feature/variable that can be imputed using regression is MasVnrArea. \n",
    "\n",
    "An analysis of variable features shows that MasVnrArea is linearly related to GrLivArea. Hence, missing values of MasVnrArea are imputed by regressing against GrLivArea.\n",
    "\n",
    "Based on analysis of the columns, as mentioned before, some preprocessing of the column is done before regression"
   ]
  },
  {
   "cell_type": "code",
   "execution_count": 13,
   "id": "35f3d29c",
   "metadata": {
    "execution": {
     "iopub.execute_input": "2023-01-18T00:48:12.471594Z",
     "iopub.status.busy": "2023-01-18T00:48:12.470599Z",
     "iopub.status.idle": "2023-01-18T00:48:12.507372Z",
     "shell.execute_reply": "2023-01-18T00:48:12.506497Z"
    },
    "papermill": {
     "duration": 0.096662,
     "end_time": "2023-01-18T00:48:12.509408",
     "exception": false,
     "start_time": "2023-01-18T00:48:12.412746",
     "status": "completed"
    },
    "tags": []
   },
   "outputs": [],
   "source": [
    "train.MasVnrType=train.MasVnrType.fillna('Stone')\n",
    "\n",
    "train.loc[(train.MasVnrType=='None') & (train.MasVnrArea>0),'MasVnrType']='BrkFace'\n",
    "\n",
    "idx1=train1[train1.MasVnrArea>1400].index\n",
    "idx2=train1[(train1.MasVnrArea>700) & (train1.SalePrice>600000)].index \n",
    "train1.drop(idx1,inplace=True)\n",
    "train1.drop(idx2,inplace=True)\n",
    "train1.drop(train1[train1.MasVnrArea==0].index,inplace=True)\n",
    "\n",
    "train1.drop(train1[train1.GrLivArea>4000].index,inplace=True)\n",
    "\n",
    "from sklearn.linear_model import LinearRegression\n",
    "lmmv=LinearRegression()\n",
    "x=train1[['GrLivArea']].copy()\n",
    "x['MasVnrArea']=train1['MasVnrArea'].copy()\n",
    "\n",
    "x.dropna(inplace=True)\n",
    "\n",
    "xt=x.iloc[:,:-1].values\n",
    "yt=x['MasVnrArea'].values\n",
    "lmmv.fit(xt,yt)\n",
    "\n",
    "import math \n",
    "for item in train[['MasVnrArea','GrLivArea']].itertuples(): \n",
    "\n",
    "    if math.isnan(item[1]):\n",
    "        \n",
    "        value=np.round(np.squeeze(lmmv.predict(np.array([[ train.iloc[item[0]].loc['GrLivArea']]] ))).tolist())\n",
    "        train.loc[item[0],'MasVnrArea']=value\n",
    "        \n",
    "import warnings\n",
    "warnings.filterwarnings('ignore')\n"
   ]
  },
  {
   "cell_type": "markdown",
   "id": "e1ed7431",
   "metadata": {
    "papermill": {
     "duration": 0.052662,
     "end_time": "2023-01-18T00:48:12.618592",
     "exception": false,
     "start_time": "2023-01-18T00:48:12.565930",
     "status": "completed"
    },
    "tags": []
   },
   "source": [
    "##### Missing Values of Object Columns"
   ]
  },
  {
   "cell_type": "markdown",
   "id": "72aabba1",
   "metadata": {
    "papermill": {
     "duration": 0.050218,
     "end_time": "2023-01-18T00:48:12.721989",
     "exception": false,
     "start_time": "2023-01-18T00:48:12.671771",
     "status": "completed"
    },
    "tags": []
   },
   "source": [
    "* The missing values of object columns could indicate either the data is not available or the value is not applicable for the feature. \n",
    "\n",
    "\n",
    "* For most of the object columns, the missing values imply that the value is not relevant. For example, if there are no garages, then all related fields will be None.  \n",
    "\n",
    "\n",
    "* Most of the object columns are thus filled with 'None' value. The elaborate study of the columns enabled identification of specific values for some columns. For example, in the case of 'Electrical' feature, an analysis of the values shows that the likely missing value is 'skbr'\n",
    "\n",
    "\n",
    "* The GarageYearBuilt will be zero where there are no garages and hence can be filled with zero values\n",
    "\n",
    "\n",
    "* The MSSubClass feature is a categorical variable but has numerical values. Hence, it is converted into string type "
   ]
  },
  {
   "cell_type": "code",
   "execution_count": 14,
   "id": "dc9c77f6",
   "metadata": {
    "execution": {
     "iopub.execute_input": "2023-01-18T00:48:12.867607Z",
     "iopub.status.busy": "2023-01-18T00:48:12.867172Z",
     "iopub.status.idle": "2023-01-18T00:48:12.897766Z",
     "shell.execute_reply": "2023-01-18T00:48:12.896502Z"
    },
    "papermill": {
     "duration": 0.126281,
     "end_time": "2023-01-18T00:48:12.900114",
     "exception": false,
     "start_time": "2023-01-18T00:48:12.773833",
     "status": "completed"
    },
    "tags": []
   },
   "outputs": [
    {
     "name": "stdout",
     "output_type": "stream",
     "text": [
      "All null columns processed  True\n"
     ]
    }
   ],
   "source": [
    "# Drop the \"Id\" column as index is sufficient\n",
    "train.drop(columns=['Id'],inplace=True)     \n",
    "\n",
    "# Object columns\n",
    "train['Alley'].fillna('None',inplace=True)\n",
    "train['BsmtQual'].fillna('None',inplace=True)\n",
    "train['BsmtCond'].fillna('None',inplace=True)\n",
    "train['BsmtExposure'].fillna('None',inplace=True)\n",
    "train['BsmtFinType1'].fillna('None',inplace=True)\n",
    "train['BsmtFinType2'].fillna('None',inplace=True)\n",
    "train['Electrical'].fillna('SBrkr',inplace=True)\n",
    "train['FireplaceQu'].fillna('None',inplace=True)\n",
    "train['GarageType'].fillna('None',inplace=True)\n",
    "train['GarageFinish'].fillna('None',inplace=True)\n",
    "train['GarageQual'].fillna('None',inplace=True)\n",
    "train['GarageCond'].fillna('None',inplace=True)\n",
    "train['PoolQC'].fillna('None',inplace=True)\n",
    "train['Fence'].fillna('None',inplace=True)\n",
    "train['MiscFeature'].fillna('None',inplace=True)\n",
    "\n",
    " \n",
    "# GarageYrBlt is not relevant for houses where there are no garages. \n",
    "#This column will also be replaced later with garage age. Hence, it is filled with zero values\n",
    "\n",
    "train['GarageYrBlt'].fillna(0,inplace=True)\n",
    " \n",
    "# Type Conversion - MSSubClass is not a numerical feature\n",
    "train['MSSubClass']=train['MSSubClass'].astype(str)\n",
    "\n",
    "\n",
    "# Dropping these outliers did not improve the Kaggle accuracy - later found several such outliers in test data also!!\n",
    "    # train.drop(train[train.BedroomAbvGr==8].index,inplace=True)\n",
    "    # train.drop(index=train[train.GarageCars==4].index,inplace=True)\n",
    "    # idx1=train[train.MasVnrArea>1400].index\n",
    "    # idx2=train[(train.MasVnrArea>700) & (train.SalePrice>600000)].index \n",
    "    # train.drop(idx1,inplace=True)\n",
    "    # train.drop(idx2,inplace=True)  \n",
    "#     train.drop(train[train.GrLivArea>4000].index,inplace=True) \n",
    "    \n",
    "# Processing based on test data - while processing test data, several other missing values and anamolies are found\n",
    "# These are incorporated for training data also:\n",
    "train.loc[train[train.GarageCars.isna()].index,\"GarageType\"]='None'\n",
    "train.YrSold=np.where(train.YrSold<train.YearBuilt,train.YearBuilt,train.YrSold)\n",
    "train.YearRemodAdd=np.where(train.YrSold<train.YearRemodAdd,train.YrSold,train.YearRemodAdd)\n",
    "train.GarageYrBlt=np.where(train.GarageYrBlt>train.YrSold,train.YearBuilt,train.GarageYrBlt)\n",
    "\n",
    "\n",
    "print(\"All null columns processed \",sum(train.isna().sum())==0)"
   ]
  },
  {
   "cell_type": "markdown",
   "id": "96ae4ba0",
   "metadata": {
    "papermill": {
     "duration": 0.050804,
     "end_time": "2023-01-18T00:48:13.003124",
     "exception": false,
     "start_time": "2023-01-18T00:48:12.952320",
     "status": "completed"
    },
    "tags": []
   },
   "source": [
    "### Feature Selection and Engineering"
   ]
  },
  {
   "cell_type": "markdown",
   "id": "5c5293ea",
   "metadata": {
    "papermill": {
     "duration": 0.049213,
     "end_time": "2023-01-18T00:48:13.101307",
     "exception": false,
     "start_time": "2023-01-18T00:48:13.052094",
     "status": "completed"
    },
    "tags": []
   },
   "source": [
    "* Do we need to select only important features? With just 80 columns, we can afford to use all the columns for training. In the case of deep learning, superfluous and redundant columns does not affect accuracy"
   ]
  },
  {
   "cell_type": "markdown",
   "id": "44d85c61",
   "metadata": {
    "papermill": {
     "duration": 0.048664,
     "end_time": "2023-01-18T00:48:13.198766",
     "exception": false,
     "start_time": "2023-01-18T00:48:13.150102",
     "status": "completed"
    },
    "tags": []
   },
   "source": [
    "*** Should we bother about the following?**\n",
    "\n",
    " - Linear relationship?\n",
    " - Multivariate normality?\n",
    " - Multicollinearity?\n",
    " - Auto-correlation?\n",
    " - Homoscedasticity?\n",
    " \n",
    " Thankfully, for Deep Learning no such assumptions are relevant. Hence, no such analysis has been done. \n",
    " \n",
    "**Note: As mentioned in the first section of this notebook, we don't do any statistical inference analysis about suitability or statistical significance of the sample input data with respect to production data. Hence, we don't need to bother about the above assumptions. The accuracies obtained will be valid irrespective of the applicability of the above assumptions. However, we cannot set any confidence level for the predictions if above assumptions are not applicable**\n",
    " \n",
    " \n",
    " * Should we bother about skewed columns?\n",
    " \n",
    "     - Transformation of skewed columns slightly improves the accuracy of the model. Hence, boxcox transformation is done for skewed columns\n",
    "     - It was found that the log transformation of sale price, for the deep learning model, does not improve accuracy much and hence not done - this could also be because I was anyway using Keras' meansquaredlogarithmicerror as loss function, though predicted prices will not be log transformed. However, log transformation of target variable does bring in some additional accuracy in the case of sklearn models."
   ]
  },
  {
   "cell_type": "markdown",
   "id": "8cd6cd58",
   "metadata": {
    "papermill": {
     "duration": 0.049246,
     "end_time": "2023-01-18T00:48:13.297010",
     "exception": false,
     "start_time": "2023-01-18T00:48:13.247764",
     "status": "completed"
    },
    "tags": []
   },
   "source": [
    "#### Ranking of features of importance"
   ]
  },
  {
   "cell_type": "markdown",
   "id": "fba2cdfe",
   "metadata": {
    "papermill": {
     "duration": 0.049617,
     "end_time": "2023-01-18T00:48:13.396118",
     "exception": false,
     "start_time": "2023-01-18T00:48:13.346501",
     "status": "completed"
    },
    "tags": []
   },
   "source": [
    "* A rough idea of important features and their ranking can be obtained through sklearn.feature_selection.RFE function. "
   ]
  },
  {
   "cell_type": "code",
   "execution_count": 15,
   "id": "c20c889d",
   "metadata": {
    "execution": {
     "iopub.execute_input": "2023-01-18T00:48:13.557400Z",
     "iopub.status.busy": "2023-01-18T00:48:13.557000Z",
     "iopub.status.idle": "2023-01-18T00:48:13.663910Z",
     "shell.execute_reply": "2023-01-18T00:48:13.662708Z"
    },
    "papermill": {
     "duration": 0.16098,
     "end_time": "2023-01-18T00:48:13.667530",
     "exception": false,
     "start_time": "2023-01-18T00:48:13.506550",
     "status": "completed"
    },
    "tags": []
   },
   "outputs": [
    {
     "name": "stdout",
     "output_type": "stream",
     "text": [
      "['OverallQual'] \n",
      " [13 32  1 11 14 15 19 29 33 35 24 17 18 25 23  3  7  2 10  9  6  8  5 26\n",
      "  4 30 21 31 28 22 16 20 34 27 12]\n"
     ]
    },
    {
     "data": {
      "text/plain": [
       "['OverallQual',\n",
       " 'FullBath',\n",
       " 'BsmtFullBath',\n",
       " 'GarageCars',\n",
       " 'Fireplaces',\n",
       " 'KitchenAbvGr',\n",
       " 'BsmtHalfBath',\n",
       " 'TotRmsAbvGrd',\n",
       " 'BedroomAbvGr',\n",
       " 'HalfBath',\n",
       " 'OverallCond',\n",
       " 'YrSold',\n",
       " 'LotFrontage',\n",
       " 'YearBuilt',\n",
       " 'YearRemodAdd',\n",
       " 'ScreenPorch',\n",
       " '1stFlrSF',\n",
       " '2ndFlrSF',\n",
       " 'MasVnrArea',\n",
       " 'PoolArea',\n",
       " 'WoodDeckSF',\n",
       " '3SsnPorch',\n",
       " 'GrLivArea',\n",
       " 'TotalBsmtSF',\n",
       " 'LowQualFinSF',\n",
       " 'GarageYrBlt',\n",
       " 'MoSold',\n",
       " 'EnclosedPorch',\n",
       " 'BsmtFinSF1',\n",
       " 'GarageArea',\n",
       " 'OpenPorchSF',\n",
       " 'LotArea',\n",
       " 'BsmtFinSF2',\n",
       " 'MiscVal',\n",
       " 'BsmtUnfSF']"
      ]
     },
     "execution_count": 15,
     "metadata": {},
     "output_type": "execute_result"
    }
   ],
   "source": [
    "# Study of features in terms of ranking of thier importance\n",
    "train1=train.copy()\n",
    "y=train['SalePrice'] \n",
    "train1.drop(columns='SalePrice',inplace=True)\n",
    "estimator = LinearRegression()\n",
    "rfe = RFE(estimator, n_features_to_select=1, step=1)\n",
    "selector = rfe.fit(train1.select_dtypes(exclude='object'), y)\n",
    "selectedFeatures = list(train1.select_dtypes(exclude='object').columns[selector.support_])\n",
    "print(selectedFeatures,'\\n',selector.ranking_)\n",
    "rank=selector.ranking_\n",
    "# selector.support_\n",
    "topcolorder=[x for _, x in sorted(zip(rank, train1.select_dtypes(exclude='O').columns.values))]\n",
    "topcolorder"
   ]
  },
  {
   "cell_type": "markdown",
   "id": "fa70858a",
   "metadata": {
    "papermill": {
     "duration": 0.049767,
     "end_time": "2023-01-18T00:48:13.838204",
     "exception": false,
     "start_time": "2023-01-18T00:48:13.788437",
     "status": "completed"
    },
    "tags": []
   },
   "source": [
    "* The above study shows that \"OverallQual\",\"FullBath\" and \"GarageCars\" are three most important features in determining the sale price. \n",
    "\n",
    "\n",
    "* The columns like \"BsmtFinSF2\", \"MiscVal\",\"BsmtUnfSF\" etc are least important features. If these are negatively correlated, then we can remove these columns as \"Data Anomaly\"\n",
    "\n",
    "\n",
    "* We can now check the correlation of various columns with sale price"
   ]
  },
  {
   "cell_type": "markdown",
   "id": "888ee386",
   "metadata": {
    "papermill": {
     "duration": 0.048842,
     "end_time": "2023-01-18T00:48:13.935995",
     "exception": false,
     "start_time": "2023-01-18T00:48:13.887153",
     "status": "completed"
    },
    "tags": []
   },
   "source": [
    "The correlation of various features with saleprice can be obtained using pd.corr function"
   ]
  },
  {
   "cell_type": "code",
   "execution_count": 16,
   "id": "1b757eb5",
   "metadata": {
    "execution": {
     "iopub.execute_input": "2023-01-18T00:48:14.037943Z",
     "iopub.status.busy": "2023-01-18T00:48:14.037580Z",
     "iopub.status.idle": "2023-01-18T00:48:14.086640Z",
     "shell.execute_reply": "2023-01-18T00:48:14.085570Z"
    },
    "papermill": {
     "duration": 0.104291,
     "end_time": "2023-01-18T00:48:14.090137",
     "exception": false,
     "start_time": "2023-01-18T00:48:13.985846",
     "status": "completed"
    },
    "tags": []
   },
   "outputs": [
    {
     "data": {
      "text/html": [
       "<div>\n",
       "<style scoped>\n",
       "    .dataframe tbody tr th:only-of-type {\n",
       "        vertical-align: middle;\n",
       "    }\n",
       "\n",
       "    .dataframe tbody tr th {\n",
       "        vertical-align: top;\n",
       "    }\n",
       "\n",
       "    .dataframe thead th {\n",
       "        text-align: right;\n",
       "    }\n",
       "</style>\n",
       "<table border=\"1\" class=\"dataframe\">\n",
       "  <thead>\n",
       "    <tr style=\"text-align: right;\">\n",
       "      <th></th>\n",
       "      <th>LotFrontage</th>\n",
       "      <th>LotArea</th>\n",
       "      <th>OverallQual</th>\n",
       "      <th>OverallCond</th>\n",
       "      <th>YearBuilt</th>\n",
       "      <th>YearRemodAdd</th>\n",
       "      <th>MasVnrArea</th>\n",
       "      <th>BsmtFinSF1</th>\n",
       "      <th>BsmtFinSF2</th>\n",
       "      <th>BsmtUnfSF</th>\n",
       "      <th>...</th>\n",
       "      <th>WoodDeckSF</th>\n",
       "      <th>OpenPorchSF</th>\n",
       "      <th>EnclosedPorch</th>\n",
       "      <th>3SsnPorch</th>\n",
       "      <th>ScreenPorch</th>\n",
       "      <th>PoolArea</th>\n",
       "      <th>MiscVal</th>\n",
       "      <th>MoSold</th>\n",
       "      <th>YrSold</th>\n",
       "      <th>SalePrice</th>\n",
       "    </tr>\n",
       "  </thead>\n",
       "  <tbody>\n",
       "    <tr>\n",
       "      <th>SalePrice</th>\n",
       "      <td>0.317984</td>\n",
       "      <td>0.263843</td>\n",
       "      <td>0.790982</td>\n",
       "      <td>-0.077856</td>\n",
       "      <td>0.522897</td>\n",
       "      <td>0.507118</td>\n",
       "      <td>0.478273</td>\n",
       "      <td>0.386420</td>\n",
       "      <td>-0.011378</td>\n",
       "      <td>0.214479</td>\n",
       "      <td>...</td>\n",
       "      <td>0.324413</td>\n",
       "      <td>0.315856</td>\n",
       "      <td>-0.128578</td>\n",
       "      <td>0.044584</td>\n",
       "      <td>0.111447</td>\n",
       "      <td>0.092404</td>\n",
       "      <td>-0.021190</td>\n",
       "      <td>0.046432</td>\n",
       "      <td>-0.028923</td>\n",
       "      <td>1.000000</td>\n",
       "    </tr>\n",
       "    <tr>\n",
       "      <th>OverallQual</th>\n",
       "      <td>0.180773</td>\n",
       "      <td>0.105806</td>\n",
       "      <td>1.000000</td>\n",
       "      <td>-0.091932</td>\n",
       "      <td>0.572323</td>\n",
       "      <td>0.550610</td>\n",
       "      <td>0.413362</td>\n",
       "      <td>0.239666</td>\n",
       "      <td>-0.059119</td>\n",
       "      <td>0.308159</td>\n",
       "      <td>...</td>\n",
       "      <td>0.238923</td>\n",
       "      <td>0.308819</td>\n",
       "      <td>-0.113937</td>\n",
       "      <td>0.030371</td>\n",
       "      <td>0.064886</td>\n",
       "      <td>0.065166</td>\n",
       "      <td>-0.031406</td>\n",
       "      <td>0.070815</td>\n",
       "      <td>-0.027347</td>\n",
       "      <td>0.790982</td>\n",
       "    </tr>\n",
       "    <tr>\n",
       "      <th>GrLivArea</th>\n",
       "      <td>0.350597</td>\n",
       "      <td>0.263116</td>\n",
       "      <td>0.593007</td>\n",
       "      <td>-0.079686</td>\n",
       "      <td>0.199010</td>\n",
       "      <td>0.287199</td>\n",
       "      <td>0.392902</td>\n",
       "      <td>0.208171</td>\n",
       "      <td>-0.009640</td>\n",
       "      <td>0.240257</td>\n",
       "      <td>...</td>\n",
       "      <td>0.247433</td>\n",
       "      <td>0.330224</td>\n",
       "      <td>0.009113</td>\n",
       "      <td>0.020643</td>\n",
       "      <td>0.101510</td>\n",
       "      <td>0.170205</td>\n",
       "      <td>-0.002416</td>\n",
       "      <td>0.050240</td>\n",
       "      <td>-0.036526</td>\n",
       "      <td>0.708624</td>\n",
       "    </tr>\n",
       "    <tr>\n",
       "      <th>GarageCars</th>\n",
       "      <td>0.245384</td>\n",
       "      <td>0.154871</td>\n",
       "      <td>0.600671</td>\n",
       "      <td>-0.185758</td>\n",
       "      <td>0.537850</td>\n",
       "      <td>0.420583</td>\n",
       "      <td>0.365436</td>\n",
       "      <td>0.224054</td>\n",
       "      <td>-0.038264</td>\n",
       "      <td>0.214175</td>\n",
       "      <td>...</td>\n",
       "      <td>0.226342</td>\n",
       "      <td>0.213569</td>\n",
       "      <td>-0.151434</td>\n",
       "      <td>0.035765</td>\n",
       "      <td>0.050494</td>\n",
       "      <td>0.020934</td>\n",
       "      <td>-0.043080</td>\n",
       "      <td>0.040522</td>\n",
       "      <td>-0.039117</td>\n",
       "      <td>0.640409</td>\n",
       "    </tr>\n",
       "    <tr>\n",
       "      <th>GarageArea</th>\n",
       "      <td>0.293183</td>\n",
       "      <td>0.180403</td>\n",
       "      <td>0.562022</td>\n",
       "      <td>-0.151521</td>\n",
       "      <td>0.478954</td>\n",
       "      <td>0.371550</td>\n",
       "      <td>0.373820</td>\n",
       "      <td>0.296970</td>\n",
       "      <td>-0.018227</td>\n",
       "      <td>0.183303</td>\n",
       "      <td>...</td>\n",
       "      <td>0.224666</td>\n",
       "      <td>0.241435</td>\n",
       "      <td>-0.121777</td>\n",
       "      <td>0.035087</td>\n",
       "      <td>0.051412</td>\n",
       "      <td>0.061047</td>\n",
       "      <td>-0.027400</td>\n",
       "      <td>0.027974</td>\n",
       "      <td>-0.027378</td>\n",
       "      <td>0.623431</td>\n",
       "    </tr>\n",
       "    <tr>\n",
       "      <th>TotalBsmtSF</th>\n",
       "      <td>0.343854</td>\n",
       "      <td>0.260833</td>\n",
       "      <td>0.537808</td>\n",
       "      <td>-0.171098</td>\n",
       "      <td>0.391452</td>\n",
       "      <td>0.290919</td>\n",
       "      <td>0.365767</td>\n",
       "      <td>0.522396</td>\n",
       "      <td>0.104810</td>\n",
       "      <td>0.415360</td>\n",
       "      <td>...</td>\n",
       "      <td>0.232019</td>\n",
       "      <td>0.247264</td>\n",
       "      <td>-0.095478</td>\n",
       "      <td>0.037384</td>\n",
       "      <td>0.084489</td>\n",
       "      <td>0.126053</td>\n",
       "      <td>-0.018479</td>\n",
       "      <td>0.013196</td>\n",
       "      <td>-0.014969</td>\n",
       "      <td>0.613581</td>\n",
       "    </tr>\n",
       "    <tr>\n",
       "      <th>1stFlrSF</th>\n",
       "      <td>0.406076</td>\n",
       "      <td>0.299475</td>\n",
       "      <td>0.476224</td>\n",
       "      <td>-0.144203</td>\n",
       "      <td>0.281986</td>\n",
       "      <td>0.240218</td>\n",
       "      <td>0.346115</td>\n",
       "      <td>0.445863</td>\n",
       "      <td>0.097117</td>\n",
       "      <td>0.317987</td>\n",
       "      <td>...</td>\n",
       "      <td>0.235459</td>\n",
       "      <td>0.211671</td>\n",
       "      <td>-0.065292</td>\n",
       "      <td>0.056104</td>\n",
       "      <td>0.088758</td>\n",
       "      <td>0.131525</td>\n",
       "      <td>-0.021096</td>\n",
       "      <td>0.031372</td>\n",
       "      <td>-0.013604</td>\n",
       "      <td>0.605852</td>\n",
       "    </tr>\n",
       "    <tr>\n",
       "      <th>FullBath</th>\n",
       "      <td>0.176306</td>\n",
       "      <td>0.126031</td>\n",
       "      <td>0.550600</td>\n",
       "      <td>-0.194149</td>\n",
       "      <td>0.468271</td>\n",
       "      <td>0.438976</td>\n",
       "      <td>0.280255</td>\n",
       "      <td>0.058543</td>\n",
       "      <td>-0.076444</td>\n",
       "      <td>0.288886</td>\n",
       "      <td>...</td>\n",
       "      <td>0.187703</td>\n",
       "      <td>0.259977</td>\n",
       "      <td>-0.115093</td>\n",
       "      <td>0.035353</td>\n",
       "      <td>-0.008106</td>\n",
       "      <td>0.049604</td>\n",
       "      <td>-0.014290</td>\n",
       "      <td>0.055872</td>\n",
       "      <td>-0.019669</td>\n",
       "      <td>0.560664</td>\n",
       "    </tr>\n",
       "    <tr>\n",
       "      <th>TotRmsAbvGrd</th>\n",
       "      <td>0.289863</td>\n",
       "      <td>0.190015</td>\n",
       "      <td>0.427452</td>\n",
       "      <td>-0.057583</td>\n",
       "      <td>0.095589</td>\n",
       "      <td>0.191655</td>\n",
       "      <td>0.281377</td>\n",
       "      <td>0.044316</td>\n",
       "      <td>-0.035227</td>\n",
       "      <td>0.250647</td>\n",
       "      <td>...</td>\n",
       "      <td>0.165984</td>\n",
       "      <td>0.234192</td>\n",
       "      <td>0.004151</td>\n",
       "      <td>-0.006683</td>\n",
       "      <td>0.059383</td>\n",
       "      <td>0.083757</td>\n",
       "      <td>0.024763</td>\n",
       "      <td>0.036907</td>\n",
       "      <td>-0.034516</td>\n",
       "      <td>0.533723</td>\n",
       "    </tr>\n",
       "    <tr>\n",
       "      <th>YearBuilt</th>\n",
       "      <td>0.081150</td>\n",
       "      <td>0.014228</td>\n",
       "      <td>0.572323</td>\n",
       "      <td>-0.375983</td>\n",
       "      <td>1.000000</td>\n",
       "      <td>0.592837</td>\n",
       "      <td>0.317637</td>\n",
       "      <td>0.249503</td>\n",
       "      <td>-0.049107</td>\n",
       "      <td>0.149040</td>\n",
       "      <td>...</td>\n",
       "      <td>0.224880</td>\n",
       "      <td>0.188686</td>\n",
       "      <td>-0.387268</td>\n",
       "      <td>0.031355</td>\n",
       "      <td>-0.050364</td>\n",
       "      <td>0.004950</td>\n",
       "      <td>-0.034383</td>\n",
       "      <td>0.012398</td>\n",
       "      <td>-0.013618</td>\n",
       "      <td>0.522897</td>\n",
       "    </tr>\n",
       "    <tr>\n",
       "      <th>YearRemodAdd</th>\n",
       "      <td>0.058404</td>\n",
       "      <td>0.013691</td>\n",
       "      <td>0.550610</td>\n",
       "      <td>0.073761</td>\n",
       "      <td>0.592837</td>\n",
       "      <td>1.000000</td>\n",
       "      <td>0.181767</td>\n",
       "      <td>0.128323</td>\n",
       "      <td>-0.067751</td>\n",
       "      <td>0.181116</td>\n",
       "      <td>...</td>\n",
       "      <td>0.205703</td>\n",
       "      <td>0.226126</td>\n",
       "      <td>-0.193914</td>\n",
       "      <td>0.045291</td>\n",
       "      <td>-0.038732</td>\n",
       "      <td>0.005832</td>\n",
       "      <td>-0.010284</td>\n",
       "      <td>0.021446</td>\n",
       "      <td>0.035765</td>\n",
       "      <td>0.507118</td>\n",
       "    </tr>\n",
       "    <tr>\n",
       "      <th>MasVnrArea</th>\n",
       "      <td>0.172676</td>\n",
       "      <td>0.105755</td>\n",
       "      <td>0.413362</td>\n",
       "      <td>-0.131388</td>\n",
       "      <td>0.317637</td>\n",
       "      <td>0.181767</td>\n",
       "      <td>1.000000</td>\n",
       "      <td>0.266982</td>\n",
       "      <td>-0.073524</td>\n",
       "      <td>0.114412</td>\n",
       "      <td>...</td>\n",
       "      <td>0.158318</td>\n",
       "      <td>0.128368</td>\n",
       "      <td>-0.107858</td>\n",
       "      <td>0.018181</td>\n",
       "      <td>0.059981</td>\n",
       "      <td>0.011359</td>\n",
       "      <td>-0.030166</td>\n",
       "      <td>-0.006470</td>\n",
       "      <td>-0.008412</td>\n",
       "      <td>0.478273</td>\n",
       "    </tr>\n",
       "    <tr>\n",
       "      <th>Fireplaces</th>\n",
       "      <td>0.278247</td>\n",
       "      <td>0.271364</td>\n",
       "      <td>0.396765</td>\n",
       "      <td>-0.023820</td>\n",
       "      <td>0.147716</td>\n",
       "      <td>0.112565</td>\n",
       "      <td>0.250601</td>\n",
       "      <td>0.260011</td>\n",
       "      <td>0.046921</td>\n",
       "      <td>0.051575</td>\n",
       "      <td>...</td>\n",
       "      <td>0.200019</td>\n",
       "      <td>0.169405</td>\n",
       "      <td>-0.024822</td>\n",
       "      <td>0.011257</td>\n",
       "      <td>0.184530</td>\n",
       "      <td>0.095074</td>\n",
       "      <td>0.001409</td>\n",
       "      <td>0.046357</td>\n",
       "      <td>-0.024096</td>\n",
       "      <td>0.466929</td>\n",
       "    </tr>\n",
       "    <tr>\n",
       "      <th>BsmtFinSF1</th>\n",
       "      <td>0.226391</td>\n",
       "      <td>0.214103</td>\n",
       "      <td>0.239666</td>\n",
       "      <td>-0.046231</td>\n",
       "      <td>0.249503</td>\n",
       "      <td>0.128323</td>\n",
       "      <td>0.266982</td>\n",
       "      <td>1.000000</td>\n",
       "      <td>-0.050117</td>\n",
       "      <td>-0.495251</td>\n",
       "      <td>...</td>\n",
       "      <td>0.204306</td>\n",
       "      <td>0.111761</td>\n",
       "      <td>-0.102303</td>\n",
       "      <td>0.026451</td>\n",
       "      <td>0.062021</td>\n",
       "      <td>0.140491</td>\n",
       "      <td>0.003571</td>\n",
       "      <td>-0.015727</td>\n",
       "      <td>0.014359</td>\n",
       "      <td>0.386420</td>\n",
       "    </tr>\n",
       "    <tr>\n",
       "      <th>WoodDeckSF</th>\n",
       "      <td>0.131179</td>\n",
       "      <td>0.171698</td>\n",
       "      <td>0.238923</td>\n",
       "      <td>-0.003334</td>\n",
       "      <td>0.224880</td>\n",
       "      <td>0.205703</td>\n",
       "      <td>0.158318</td>\n",
       "      <td>0.204306</td>\n",
       "      <td>0.067898</td>\n",
       "      <td>-0.005316</td>\n",
       "      <td>...</td>\n",
       "      <td>1.000000</td>\n",
       "      <td>0.058661</td>\n",
       "      <td>-0.125989</td>\n",
       "      <td>-0.032771</td>\n",
       "      <td>-0.074181</td>\n",
       "      <td>0.073378</td>\n",
       "      <td>-0.009551</td>\n",
       "      <td>0.021011</td>\n",
       "      <td>0.022270</td>\n",
       "      <td>0.324413</td>\n",
       "    </tr>\n",
       "    <tr>\n",
       "      <th>2ndFlrSF</th>\n",
       "      <td>0.059436</td>\n",
       "      <td>0.050986</td>\n",
       "      <td>0.295493</td>\n",
       "      <td>0.028942</td>\n",
       "      <td>0.010308</td>\n",
       "      <td>0.139938</td>\n",
       "      <td>0.174185</td>\n",
       "      <td>-0.137079</td>\n",
       "      <td>-0.099260</td>\n",
       "      <td>0.004469</td>\n",
       "      <td>...</td>\n",
       "      <td>0.092165</td>\n",
       "      <td>0.208026</td>\n",
       "      <td>0.061989</td>\n",
       "      <td>-0.024358</td>\n",
       "      <td>0.040606</td>\n",
       "      <td>0.081487</td>\n",
       "      <td>0.016197</td>\n",
       "      <td>0.035164</td>\n",
       "      <td>-0.028700</td>\n",
       "      <td>0.319334</td>\n",
       "    </tr>\n",
       "    <tr>\n",
       "      <th>LotFrontage</th>\n",
       "      <td>1.000000</td>\n",
       "      <td>0.642975</td>\n",
       "      <td>0.180773</td>\n",
       "      <td>-0.029074</td>\n",
       "      <td>0.081150</td>\n",
       "      <td>0.058404</td>\n",
       "      <td>0.172676</td>\n",
       "      <td>0.226391</td>\n",
       "      <td>0.055950</td>\n",
       "      <td>0.087284</td>\n",
       "      <td>...</td>\n",
       "      <td>0.131179</td>\n",
       "      <td>0.130800</td>\n",
       "      <td>0.008683</td>\n",
       "      <td>0.060320</td>\n",
       "      <td>0.025030</td>\n",
       "      <td>0.156634</td>\n",
       "      <td>0.030822</td>\n",
       "      <td>0.004039</td>\n",
       "      <td>-0.001079</td>\n",
       "      <td>0.317984</td>\n",
       "    </tr>\n",
       "    <tr>\n",
       "      <th>OpenPorchSF</th>\n",
       "      <td>0.130800</td>\n",
       "      <td>0.084774</td>\n",
       "      <td>0.308819</td>\n",
       "      <td>-0.032589</td>\n",
       "      <td>0.188686</td>\n",
       "      <td>0.226126</td>\n",
       "      <td>0.128368</td>\n",
       "      <td>0.111761</td>\n",
       "      <td>0.003093</td>\n",
       "      <td>0.129005</td>\n",
       "      <td>...</td>\n",
       "      <td>0.058661</td>\n",
       "      <td>1.000000</td>\n",
       "      <td>-0.093079</td>\n",
       "      <td>-0.005842</td>\n",
       "      <td>0.074304</td>\n",
       "      <td>0.060762</td>\n",
       "      <td>-0.018584</td>\n",
       "      <td>0.071255</td>\n",
       "      <td>-0.057619</td>\n",
       "      <td>0.315856</td>\n",
       "    </tr>\n",
       "    <tr>\n",
       "      <th>HalfBath</th>\n",
       "      <td>0.023940</td>\n",
       "      <td>0.014259</td>\n",
       "      <td>0.273458</td>\n",
       "      <td>-0.060769</td>\n",
       "      <td>0.242656</td>\n",
       "      <td>0.183297</td>\n",
       "      <td>0.202821</td>\n",
       "      <td>0.004262</td>\n",
       "      <td>-0.032148</td>\n",
       "      <td>-0.041118</td>\n",
       "      <td>...</td>\n",
       "      <td>0.108080</td>\n",
       "      <td>0.199740</td>\n",
       "      <td>-0.095317</td>\n",
       "      <td>-0.004972</td>\n",
       "      <td>0.072426</td>\n",
       "      <td>0.022381</td>\n",
       "      <td>0.001290</td>\n",
       "      <td>-0.009050</td>\n",
       "      <td>-0.010269</td>\n",
       "      <td>0.284108</td>\n",
       "    </tr>\n",
       "    <tr>\n",
       "      <th>LotArea</th>\n",
       "      <td>0.642975</td>\n",
       "      <td>1.000000</td>\n",
       "      <td>0.105806</td>\n",
       "      <td>-0.005636</td>\n",
       "      <td>0.014228</td>\n",
       "      <td>0.013691</td>\n",
       "      <td>0.105755</td>\n",
       "      <td>0.214103</td>\n",
       "      <td>0.111170</td>\n",
       "      <td>-0.002618</td>\n",
       "      <td>...</td>\n",
       "      <td>0.171698</td>\n",
       "      <td>0.084774</td>\n",
       "      <td>-0.018340</td>\n",
       "      <td>0.020423</td>\n",
       "      <td>0.043160</td>\n",
       "      <td>0.077672</td>\n",
       "      <td>0.038068</td>\n",
       "      <td>0.001205</td>\n",
       "      <td>-0.014261</td>\n",
       "      <td>0.263843</td>\n",
       "    </tr>\n",
       "    <tr>\n",
       "      <th>GarageYrBlt</th>\n",
       "      <td>0.095189</td>\n",
       "      <td>0.072599</td>\n",
       "      <td>0.288998</td>\n",
       "      <td>-0.006515</td>\n",
       "      <td>0.272029</td>\n",
       "      <td>0.146352</td>\n",
       "      <td>0.134783</td>\n",
       "      <td>0.115843</td>\n",
       "      <td>0.035070</td>\n",
       "      <td>0.042720</td>\n",
       "      <td>...</td>\n",
       "      <td>0.117305</td>\n",
       "      <td>0.049877</td>\n",
       "      <td>-0.076822</td>\n",
       "      <td>0.029401</td>\n",
       "      <td>0.061416</td>\n",
       "      <td>0.015858</td>\n",
       "      <td>-0.006669</td>\n",
       "      <td>0.019151</td>\n",
       "      <td>-0.011134</td>\n",
       "      <td>0.261366</td>\n",
       "    </tr>\n",
       "    <tr>\n",
       "      <th>BsmtFullBath</th>\n",
       "      <td>0.112356</td>\n",
       "      <td>0.158155</td>\n",
       "      <td>0.111098</td>\n",
       "      <td>-0.054942</td>\n",
       "      <td>0.187599</td>\n",
       "      <td>0.119437</td>\n",
       "      <td>0.088389</td>\n",
       "      <td>0.649212</td>\n",
       "      <td>0.158678</td>\n",
       "      <td>-0.422900</td>\n",
       "      <td>...</td>\n",
       "      <td>0.175315</td>\n",
       "      <td>0.067341</td>\n",
       "      <td>-0.049911</td>\n",
       "      <td>-0.000106</td>\n",
       "      <td>0.023148</td>\n",
       "      <td>0.067616</td>\n",
       "      <td>-0.023047</td>\n",
       "      <td>-0.025361</td>\n",
       "      <td>0.067049</td>\n",
       "      <td>0.227122</td>\n",
       "    </tr>\n",
       "    <tr>\n",
       "      <th>BsmtUnfSF</th>\n",
       "      <td>0.087284</td>\n",
       "      <td>-0.002618</td>\n",
       "      <td>0.308159</td>\n",
       "      <td>-0.136841</td>\n",
       "      <td>0.149040</td>\n",
       "      <td>0.181116</td>\n",
       "      <td>0.114412</td>\n",
       "      <td>-0.495251</td>\n",
       "      <td>-0.209294</td>\n",
       "      <td>1.000000</td>\n",
       "      <td>...</td>\n",
       "      <td>-0.005316</td>\n",
       "      <td>0.129005</td>\n",
       "      <td>-0.002538</td>\n",
       "      <td>0.020764</td>\n",
       "      <td>-0.012579</td>\n",
       "      <td>-0.035092</td>\n",
       "      <td>-0.023837</td>\n",
       "      <td>0.034888</td>\n",
       "      <td>-0.041258</td>\n",
       "      <td>0.214479</td>\n",
       "    </tr>\n",
       "    <tr>\n",
       "      <th>BedroomAbvGr</th>\n",
       "      <td>0.219632</td>\n",
       "      <td>0.119690</td>\n",
       "      <td>0.101676</td>\n",
       "      <td>0.012980</td>\n",
       "      <td>-0.070651</td>\n",
       "      <td>-0.040588</td>\n",
       "      <td>0.103105</td>\n",
       "      <td>-0.107355</td>\n",
       "      <td>-0.015728</td>\n",
       "      <td>0.166643</td>\n",
       "      <td>...</td>\n",
       "      <td>0.046854</td>\n",
       "      <td>0.093810</td>\n",
       "      <td>0.041570</td>\n",
       "      <td>-0.024478</td>\n",
       "      <td>0.044300</td>\n",
       "      <td>0.070703</td>\n",
       "      <td>0.007767</td>\n",
       "      <td>0.046544</td>\n",
       "      <td>-0.036014</td>\n",
       "      <td>0.168213</td>\n",
       "    </tr>\n",
       "    <tr>\n",
       "      <th>ScreenPorch</th>\n",
       "      <td>0.025030</td>\n",
       "      <td>0.043160</td>\n",
       "      <td>0.064886</td>\n",
       "      <td>0.054811</td>\n",
       "      <td>-0.050364</td>\n",
       "      <td>-0.038732</td>\n",
       "      <td>0.059981</td>\n",
       "      <td>0.062021</td>\n",
       "      <td>0.088871</td>\n",
       "      <td>-0.012579</td>\n",
       "      <td>...</td>\n",
       "      <td>-0.074181</td>\n",
       "      <td>0.074304</td>\n",
       "      <td>-0.082864</td>\n",
       "      <td>-0.031436</td>\n",
       "      <td>1.000000</td>\n",
       "      <td>0.051307</td>\n",
       "      <td>0.031946</td>\n",
       "      <td>0.023217</td>\n",
       "      <td>0.010694</td>\n",
       "      <td>0.111447</td>\n",
       "    </tr>\n",
       "    <tr>\n",
       "      <th>PoolArea</th>\n",
       "      <td>0.156634</td>\n",
       "      <td>0.077672</td>\n",
       "      <td>0.065166</td>\n",
       "      <td>-0.001985</td>\n",
       "      <td>0.004950</td>\n",
       "      <td>0.005832</td>\n",
       "      <td>0.011359</td>\n",
       "      <td>0.140491</td>\n",
       "      <td>0.041709</td>\n",
       "      <td>-0.035092</td>\n",
       "      <td>...</td>\n",
       "      <td>0.073378</td>\n",
       "      <td>0.060762</td>\n",
       "      <td>0.054203</td>\n",
       "      <td>-0.007992</td>\n",
       "      <td>0.051307</td>\n",
       "      <td>1.000000</td>\n",
       "      <td>0.029669</td>\n",
       "      <td>-0.033737</td>\n",
       "      <td>-0.059689</td>\n",
       "      <td>0.092404</td>\n",
       "    </tr>\n",
       "    <tr>\n",
       "      <th>MoSold</th>\n",
       "      <td>0.004039</td>\n",
       "      <td>0.001205</td>\n",
       "      <td>0.070815</td>\n",
       "      <td>-0.003511</td>\n",
       "      <td>0.012398</td>\n",
       "      <td>0.021446</td>\n",
       "      <td>-0.006470</td>\n",
       "      <td>-0.015727</td>\n",
       "      <td>-0.015211</td>\n",
       "      <td>0.034888</td>\n",
       "      <td>...</td>\n",
       "      <td>0.021011</td>\n",
       "      <td>0.071255</td>\n",
       "      <td>-0.028887</td>\n",
       "      <td>0.029474</td>\n",
       "      <td>0.023217</td>\n",
       "      <td>-0.033737</td>\n",
       "      <td>-0.006495</td>\n",
       "      <td>1.000000</td>\n",
       "      <td>-0.145721</td>\n",
       "      <td>0.046432</td>\n",
       "    </tr>\n",
       "    <tr>\n",
       "      <th>3SsnPorch</th>\n",
       "      <td>0.060320</td>\n",
       "      <td>0.020423</td>\n",
       "      <td>0.030371</td>\n",
       "      <td>0.025504</td>\n",
       "      <td>0.031355</td>\n",
       "      <td>0.045291</td>\n",
       "      <td>0.018181</td>\n",
       "      <td>0.026451</td>\n",
       "      <td>-0.029993</td>\n",
       "      <td>0.020764</td>\n",
       "      <td>...</td>\n",
       "      <td>-0.032771</td>\n",
       "      <td>-0.005842</td>\n",
       "      <td>-0.037305</td>\n",
       "      <td>1.000000</td>\n",
       "      <td>-0.031436</td>\n",
       "      <td>-0.007992</td>\n",
       "      <td>0.000354</td>\n",
       "      <td>0.029474</td>\n",
       "      <td>0.018645</td>\n",
       "      <td>0.044584</td>\n",
       "    </tr>\n",
       "    <tr>\n",
       "      <th>BsmtFinSF2</th>\n",
       "      <td>0.055950</td>\n",
       "      <td>0.111170</td>\n",
       "      <td>-0.059119</td>\n",
       "      <td>0.040229</td>\n",
       "      <td>-0.049107</td>\n",
       "      <td>-0.067751</td>\n",
       "      <td>-0.073524</td>\n",
       "      <td>-0.050117</td>\n",
       "      <td>1.000000</td>\n",
       "      <td>-0.209294</td>\n",
       "      <td>...</td>\n",
       "      <td>0.067898</td>\n",
       "      <td>0.003093</td>\n",
       "      <td>0.036543</td>\n",
       "      <td>-0.029993</td>\n",
       "      <td>0.088871</td>\n",
       "      <td>0.041709</td>\n",
       "      <td>0.004940</td>\n",
       "      <td>-0.015211</td>\n",
       "      <td>0.031706</td>\n",
       "      <td>-0.011378</td>\n",
       "    </tr>\n",
       "    <tr>\n",
       "      <th>BsmtHalfBath</th>\n",
       "      <td>0.038278</td>\n",
       "      <td>0.048046</td>\n",
       "      <td>-0.040150</td>\n",
       "      <td>0.117821</td>\n",
       "      <td>-0.038162</td>\n",
       "      <td>-0.012329</td>\n",
       "      <td>0.025427</td>\n",
       "      <td>0.067418</td>\n",
       "      <td>0.070948</td>\n",
       "      <td>-0.095804</td>\n",
       "      <td>...</td>\n",
       "      <td>0.040161</td>\n",
       "      <td>-0.025324</td>\n",
       "      <td>-0.008555</td>\n",
       "      <td>0.035114</td>\n",
       "      <td>0.032121</td>\n",
       "      <td>0.020025</td>\n",
       "      <td>-0.007367</td>\n",
       "      <td>0.032873</td>\n",
       "      <td>-0.046524</td>\n",
       "      <td>-0.016844</td>\n",
       "    </tr>\n",
       "    <tr>\n",
       "      <th>MiscVal</th>\n",
       "      <td>0.030822</td>\n",
       "      <td>0.038068</td>\n",
       "      <td>-0.031406</td>\n",
       "      <td>0.068777</td>\n",
       "      <td>-0.034383</td>\n",
       "      <td>-0.010284</td>\n",
       "      <td>-0.030166</td>\n",
       "      <td>0.003571</td>\n",
       "      <td>0.004940</td>\n",
       "      <td>-0.023837</td>\n",
       "      <td>...</td>\n",
       "      <td>-0.009551</td>\n",
       "      <td>-0.018584</td>\n",
       "      <td>0.018361</td>\n",
       "      <td>0.000354</td>\n",
       "      <td>0.031946</td>\n",
       "      <td>0.029669</td>\n",
       "      <td>1.000000</td>\n",
       "      <td>-0.006495</td>\n",
       "      <td>0.004906</td>\n",
       "      <td>-0.021190</td>\n",
       "    </tr>\n",
       "    <tr>\n",
       "      <th>LowQualFinSF</th>\n",
       "      <td>0.026787</td>\n",
       "      <td>0.004779</td>\n",
       "      <td>-0.030429</td>\n",
       "      <td>0.025494</td>\n",
       "      <td>-0.183784</td>\n",
       "      <td>-0.062417</td>\n",
       "      <td>-0.069478</td>\n",
       "      <td>-0.064503</td>\n",
       "      <td>0.014807</td>\n",
       "      <td>0.028167</td>\n",
       "      <td>...</td>\n",
       "      <td>-0.025444</td>\n",
       "      <td>0.018251</td>\n",
       "      <td>0.061081</td>\n",
       "      <td>-0.004296</td>\n",
       "      <td>0.026799</td>\n",
       "      <td>0.062157</td>\n",
       "      <td>-0.003793</td>\n",
       "      <td>-0.022174</td>\n",
       "      <td>-0.028921</td>\n",
       "      <td>-0.025606</td>\n",
       "    </tr>\n",
       "    <tr>\n",
       "      <th>YrSold</th>\n",
       "      <td>-0.001079</td>\n",
       "      <td>-0.014261</td>\n",
       "      <td>-0.027347</td>\n",
       "      <td>0.043950</td>\n",
       "      <td>-0.013618</td>\n",
       "      <td>0.035765</td>\n",
       "      <td>-0.008412</td>\n",
       "      <td>0.014359</td>\n",
       "      <td>0.031706</td>\n",
       "      <td>-0.041258</td>\n",
       "      <td>...</td>\n",
       "      <td>0.022270</td>\n",
       "      <td>-0.057619</td>\n",
       "      <td>-0.009916</td>\n",
       "      <td>0.018645</td>\n",
       "      <td>0.010694</td>\n",
       "      <td>-0.059689</td>\n",
       "      <td>0.004906</td>\n",
       "      <td>-0.145721</td>\n",
       "      <td>1.000000</td>\n",
       "      <td>-0.028923</td>\n",
       "    </tr>\n",
       "    <tr>\n",
       "      <th>OverallCond</th>\n",
       "      <td>-0.029074</td>\n",
       "      <td>-0.005636</td>\n",
       "      <td>-0.091932</td>\n",
       "      <td>1.000000</td>\n",
       "      <td>-0.375983</td>\n",
       "      <td>0.073761</td>\n",
       "      <td>-0.131388</td>\n",
       "      <td>-0.046231</td>\n",
       "      <td>0.040229</td>\n",
       "      <td>-0.136841</td>\n",
       "      <td>...</td>\n",
       "      <td>-0.003334</td>\n",
       "      <td>-0.032589</td>\n",
       "      <td>0.070356</td>\n",
       "      <td>0.025504</td>\n",
       "      <td>0.054811</td>\n",
       "      <td>-0.001985</td>\n",
       "      <td>0.068777</td>\n",
       "      <td>-0.003511</td>\n",
       "      <td>0.043950</td>\n",
       "      <td>-0.077856</td>\n",
       "    </tr>\n",
       "    <tr>\n",
       "      <th>EnclosedPorch</th>\n",
       "      <td>0.008683</td>\n",
       "      <td>-0.018340</td>\n",
       "      <td>-0.113937</td>\n",
       "      <td>0.070356</td>\n",
       "      <td>-0.387268</td>\n",
       "      <td>-0.193914</td>\n",
       "      <td>-0.107858</td>\n",
       "      <td>-0.102303</td>\n",
       "      <td>0.036543</td>\n",
       "      <td>-0.002538</td>\n",
       "      <td>...</td>\n",
       "      <td>-0.125989</td>\n",
       "      <td>-0.093079</td>\n",
       "      <td>1.000000</td>\n",
       "      <td>-0.037305</td>\n",
       "      <td>-0.082864</td>\n",
       "      <td>0.054203</td>\n",
       "      <td>0.018361</td>\n",
       "      <td>-0.028887</td>\n",
       "      <td>-0.009916</td>\n",
       "      <td>-0.128578</td>\n",
       "    </tr>\n",
       "    <tr>\n",
       "      <th>KitchenAbvGr</th>\n",
       "      <td>-0.006964</td>\n",
       "      <td>-0.017784</td>\n",
       "      <td>-0.183882</td>\n",
       "      <td>-0.087001</td>\n",
       "      <td>-0.174800</td>\n",
       "      <td>-0.149596</td>\n",
       "      <td>-0.033499</td>\n",
       "      <td>-0.081007</td>\n",
       "      <td>-0.040751</td>\n",
       "      <td>0.030086</td>\n",
       "      <td>...</td>\n",
       "      <td>-0.090130</td>\n",
       "      <td>-0.070091</td>\n",
       "      <td>0.037312</td>\n",
       "      <td>-0.024600</td>\n",
       "      <td>-0.051613</td>\n",
       "      <td>-0.014525</td>\n",
       "      <td>0.062341</td>\n",
       "      <td>0.026589</td>\n",
       "      <td>0.031687</td>\n",
       "      <td>-0.135907</td>\n",
       "    </tr>\n",
       "  </tbody>\n",
       "</table>\n",
       "<p>36 rows × 36 columns</p>\n",
       "</div>"
      ],
      "text/plain": [
       "               LotFrontage   LotArea  OverallQual  OverallCond  YearBuilt  \\\n",
       "SalePrice         0.317984  0.263843     0.790982    -0.077856   0.522897   \n",
       "OverallQual       0.180773  0.105806     1.000000    -0.091932   0.572323   \n",
       "GrLivArea         0.350597  0.263116     0.593007    -0.079686   0.199010   \n",
       "GarageCars        0.245384  0.154871     0.600671    -0.185758   0.537850   \n",
       "GarageArea        0.293183  0.180403     0.562022    -0.151521   0.478954   \n",
       "TotalBsmtSF       0.343854  0.260833     0.537808    -0.171098   0.391452   \n",
       "1stFlrSF          0.406076  0.299475     0.476224    -0.144203   0.281986   \n",
       "FullBath          0.176306  0.126031     0.550600    -0.194149   0.468271   \n",
       "TotRmsAbvGrd      0.289863  0.190015     0.427452    -0.057583   0.095589   \n",
       "YearBuilt         0.081150  0.014228     0.572323    -0.375983   1.000000   \n",
       "YearRemodAdd      0.058404  0.013691     0.550610     0.073761   0.592837   \n",
       "MasVnrArea        0.172676  0.105755     0.413362    -0.131388   0.317637   \n",
       "Fireplaces        0.278247  0.271364     0.396765    -0.023820   0.147716   \n",
       "BsmtFinSF1        0.226391  0.214103     0.239666    -0.046231   0.249503   \n",
       "WoodDeckSF        0.131179  0.171698     0.238923    -0.003334   0.224880   \n",
       "2ndFlrSF          0.059436  0.050986     0.295493     0.028942   0.010308   \n",
       "LotFrontage       1.000000  0.642975     0.180773    -0.029074   0.081150   \n",
       "OpenPorchSF       0.130800  0.084774     0.308819    -0.032589   0.188686   \n",
       "HalfBath          0.023940  0.014259     0.273458    -0.060769   0.242656   \n",
       "LotArea           0.642975  1.000000     0.105806    -0.005636   0.014228   \n",
       "GarageYrBlt       0.095189  0.072599     0.288998    -0.006515   0.272029   \n",
       "BsmtFullBath      0.112356  0.158155     0.111098    -0.054942   0.187599   \n",
       "BsmtUnfSF         0.087284 -0.002618     0.308159    -0.136841   0.149040   \n",
       "BedroomAbvGr      0.219632  0.119690     0.101676     0.012980  -0.070651   \n",
       "ScreenPorch       0.025030  0.043160     0.064886     0.054811  -0.050364   \n",
       "PoolArea          0.156634  0.077672     0.065166    -0.001985   0.004950   \n",
       "MoSold            0.004039  0.001205     0.070815    -0.003511   0.012398   \n",
       "3SsnPorch         0.060320  0.020423     0.030371     0.025504   0.031355   \n",
       "BsmtFinSF2        0.055950  0.111170    -0.059119     0.040229  -0.049107   \n",
       "BsmtHalfBath      0.038278  0.048046    -0.040150     0.117821  -0.038162   \n",
       "MiscVal           0.030822  0.038068    -0.031406     0.068777  -0.034383   \n",
       "LowQualFinSF      0.026787  0.004779    -0.030429     0.025494  -0.183784   \n",
       "YrSold           -0.001079 -0.014261    -0.027347     0.043950  -0.013618   \n",
       "OverallCond      -0.029074 -0.005636    -0.091932     1.000000  -0.375983   \n",
       "EnclosedPorch     0.008683 -0.018340    -0.113937     0.070356  -0.387268   \n",
       "KitchenAbvGr     -0.006964 -0.017784    -0.183882    -0.087001  -0.174800   \n",
       "\n",
       "               YearRemodAdd  MasVnrArea  BsmtFinSF1  BsmtFinSF2  BsmtUnfSF  \\\n",
       "SalePrice          0.507118    0.478273    0.386420   -0.011378   0.214479   \n",
       "OverallQual        0.550610    0.413362    0.239666   -0.059119   0.308159   \n",
       "GrLivArea          0.287199    0.392902    0.208171   -0.009640   0.240257   \n",
       "GarageCars         0.420583    0.365436    0.224054   -0.038264   0.214175   \n",
       "GarageArea         0.371550    0.373820    0.296970   -0.018227   0.183303   \n",
       "TotalBsmtSF        0.290919    0.365767    0.522396    0.104810   0.415360   \n",
       "1stFlrSF           0.240218    0.346115    0.445863    0.097117   0.317987   \n",
       "FullBath           0.438976    0.280255    0.058543   -0.076444   0.288886   \n",
       "TotRmsAbvGrd       0.191655    0.281377    0.044316   -0.035227   0.250647   \n",
       "YearBuilt          0.592837    0.317637    0.249503   -0.049107   0.149040   \n",
       "YearRemodAdd       1.000000    0.181767    0.128323   -0.067751   0.181116   \n",
       "MasVnrArea         0.181767    1.000000    0.266982   -0.073524   0.114412   \n",
       "Fireplaces         0.112565    0.250601    0.260011    0.046921   0.051575   \n",
       "BsmtFinSF1         0.128323    0.266982    1.000000   -0.050117  -0.495251   \n",
       "WoodDeckSF         0.205703    0.158318    0.204306    0.067898  -0.005316   \n",
       "2ndFlrSF           0.139938    0.174185   -0.137079   -0.099260   0.004469   \n",
       "LotFrontage        0.058404    0.172676    0.226391    0.055950   0.087284   \n",
       "OpenPorchSF        0.226126    0.128368    0.111761    0.003093   0.129005   \n",
       "HalfBath           0.183297    0.202821    0.004262   -0.032148  -0.041118   \n",
       "LotArea            0.013691    0.105755    0.214103    0.111170  -0.002618   \n",
       "GarageYrBlt        0.146352    0.134783    0.115843    0.035070   0.042720   \n",
       "BsmtFullBath       0.119437    0.088389    0.649212    0.158678  -0.422900   \n",
       "BsmtUnfSF          0.181116    0.114412   -0.495251   -0.209294   1.000000   \n",
       "BedroomAbvGr      -0.040588    0.103105   -0.107355   -0.015728   0.166643   \n",
       "ScreenPorch       -0.038732    0.059981    0.062021    0.088871  -0.012579   \n",
       "PoolArea           0.005832    0.011359    0.140491    0.041709  -0.035092   \n",
       "MoSold             0.021446   -0.006470   -0.015727   -0.015211   0.034888   \n",
       "3SsnPorch          0.045291    0.018181    0.026451   -0.029993   0.020764   \n",
       "BsmtFinSF2        -0.067751   -0.073524   -0.050117    1.000000  -0.209294   \n",
       "BsmtHalfBath      -0.012329    0.025427    0.067418    0.070948  -0.095804   \n",
       "MiscVal           -0.010284   -0.030166    0.003571    0.004940  -0.023837   \n",
       "LowQualFinSF      -0.062417   -0.069478   -0.064503    0.014807   0.028167   \n",
       "YrSold             0.035765   -0.008412    0.014359    0.031706  -0.041258   \n",
       "OverallCond        0.073761   -0.131388   -0.046231    0.040229  -0.136841   \n",
       "EnclosedPorch     -0.193914   -0.107858   -0.102303    0.036543  -0.002538   \n",
       "KitchenAbvGr      -0.149596   -0.033499   -0.081007   -0.040751   0.030086   \n",
       "\n",
       "               ...  WoodDeckSF  OpenPorchSF  EnclosedPorch  3SsnPorch  \\\n",
       "SalePrice      ...    0.324413     0.315856      -0.128578   0.044584   \n",
       "OverallQual    ...    0.238923     0.308819      -0.113937   0.030371   \n",
       "GrLivArea      ...    0.247433     0.330224       0.009113   0.020643   \n",
       "GarageCars     ...    0.226342     0.213569      -0.151434   0.035765   \n",
       "GarageArea     ...    0.224666     0.241435      -0.121777   0.035087   \n",
       "TotalBsmtSF    ...    0.232019     0.247264      -0.095478   0.037384   \n",
       "1stFlrSF       ...    0.235459     0.211671      -0.065292   0.056104   \n",
       "FullBath       ...    0.187703     0.259977      -0.115093   0.035353   \n",
       "TotRmsAbvGrd   ...    0.165984     0.234192       0.004151  -0.006683   \n",
       "YearBuilt      ...    0.224880     0.188686      -0.387268   0.031355   \n",
       "YearRemodAdd   ...    0.205703     0.226126      -0.193914   0.045291   \n",
       "MasVnrArea     ...    0.158318     0.128368      -0.107858   0.018181   \n",
       "Fireplaces     ...    0.200019     0.169405      -0.024822   0.011257   \n",
       "BsmtFinSF1     ...    0.204306     0.111761      -0.102303   0.026451   \n",
       "WoodDeckSF     ...    1.000000     0.058661      -0.125989  -0.032771   \n",
       "2ndFlrSF       ...    0.092165     0.208026       0.061989  -0.024358   \n",
       "LotFrontage    ...    0.131179     0.130800       0.008683   0.060320   \n",
       "OpenPorchSF    ...    0.058661     1.000000      -0.093079  -0.005842   \n",
       "HalfBath       ...    0.108080     0.199740      -0.095317  -0.004972   \n",
       "LotArea        ...    0.171698     0.084774      -0.018340   0.020423   \n",
       "GarageYrBlt    ...    0.117305     0.049877      -0.076822   0.029401   \n",
       "BsmtFullBath   ...    0.175315     0.067341      -0.049911  -0.000106   \n",
       "BsmtUnfSF      ...   -0.005316     0.129005      -0.002538   0.020764   \n",
       "BedroomAbvGr   ...    0.046854     0.093810       0.041570  -0.024478   \n",
       "ScreenPorch    ...   -0.074181     0.074304      -0.082864  -0.031436   \n",
       "PoolArea       ...    0.073378     0.060762       0.054203  -0.007992   \n",
       "MoSold         ...    0.021011     0.071255      -0.028887   0.029474   \n",
       "3SsnPorch      ...   -0.032771    -0.005842      -0.037305   1.000000   \n",
       "BsmtFinSF2     ...    0.067898     0.003093       0.036543  -0.029993   \n",
       "BsmtHalfBath   ...    0.040161    -0.025324      -0.008555   0.035114   \n",
       "MiscVal        ...   -0.009551    -0.018584       0.018361   0.000354   \n",
       "LowQualFinSF   ...   -0.025444     0.018251       0.061081  -0.004296   \n",
       "YrSold         ...    0.022270    -0.057619      -0.009916   0.018645   \n",
       "OverallCond    ...   -0.003334    -0.032589       0.070356   0.025504   \n",
       "EnclosedPorch  ...   -0.125989    -0.093079       1.000000  -0.037305   \n",
       "KitchenAbvGr   ...   -0.090130    -0.070091       0.037312  -0.024600   \n",
       "\n",
       "               ScreenPorch  PoolArea   MiscVal    MoSold    YrSold  SalePrice  \n",
       "SalePrice         0.111447  0.092404 -0.021190  0.046432 -0.028923   1.000000  \n",
       "OverallQual       0.064886  0.065166 -0.031406  0.070815 -0.027347   0.790982  \n",
       "GrLivArea         0.101510  0.170205 -0.002416  0.050240 -0.036526   0.708624  \n",
       "GarageCars        0.050494  0.020934 -0.043080  0.040522 -0.039117   0.640409  \n",
       "GarageArea        0.051412  0.061047 -0.027400  0.027974 -0.027378   0.623431  \n",
       "TotalBsmtSF       0.084489  0.126053 -0.018479  0.013196 -0.014969   0.613581  \n",
       "1stFlrSF          0.088758  0.131525 -0.021096  0.031372 -0.013604   0.605852  \n",
       "FullBath         -0.008106  0.049604 -0.014290  0.055872 -0.019669   0.560664  \n",
       "TotRmsAbvGrd      0.059383  0.083757  0.024763  0.036907 -0.034516   0.533723  \n",
       "YearBuilt        -0.050364  0.004950 -0.034383  0.012398 -0.013618   0.522897  \n",
       "YearRemodAdd     -0.038732  0.005832 -0.010284  0.021446  0.035765   0.507118  \n",
       "MasVnrArea        0.059981  0.011359 -0.030166 -0.006470 -0.008412   0.478273  \n",
       "Fireplaces        0.184530  0.095074  0.001409  0.046357 -0.024096   0.466929  \n",
       "BsmtFinSF1        0.062021  0.140491  0.003571 -0.015727  0.014359   0.386420  \n",
       "WoodDeckSF       -0.074181  0.073378 -0.009551  0.021011  0.022270   0.324413  \n",
       "2ndFlrSF          0.040606  0.081487  0.016197  0.035164 -0.028700   0.319334  \n",
       "LotFrontage       0.025030  0.156634  0.030822  0.004039 -0.001079   0.317984  \n",
       "OpenPorchSF       0.074304  0.060762 -0.018584  0.071255 -0.057619   0.315856  \n",
       "HalfBath          0.072426  0.022381  0.001290 -0.009050 -0.010269   0.284108  \n",
       "LotArea           0.043160  0.077672  0.038068  0.001205 -0.014261   0.263843  \n",
       "GarageYrBlt       0.061416  0.015858 -0.006669  0.019151 -0.011134   0.261366  \n",
       "BsmtFullBath      0.023148  0.067616 -0.023047 -0.025361  0.067049   0.227122  \n",
       "BsmtUnfSF        -0.012579 -0.035092 -0.023837  0.034888 -0.041258   0.214479  \n",
       "BedroomAbvGr      0.044300  0.070703  0.007767  0.046544 -0.036014   0.168213  \n",
       "ScreenPorch       1.000000  0.051307  0.031946  0.023217  0.010694   0.111447  \n",
       "PoolArea          0.051307  1.000000  0.029669 -0.033737 -0.059689   0.092404  \n",
       "MoSold            0.023217 -0.033737 -0.006495  1.000000 -0.145721   0.046432  \n",
       "3SsnPorch        -0.031436 -0.007992  0.000354  0.029474  0.018645   0.044584  \n",
       "BsmtFinSF2        0.088871  0.041709  0.004940 -0.015211  0.031706  -0.011378  \n",
       "BsmtHalfBath      0.032121  0.020025 -0.007367  0.032873 -0.046524  -0.016844  \n",
       "MiscVal           0.031946  0.029669  1.000000 -0.006495  0.004906  -0.021190  \n",
       "LowQualFinSF      0.026799  0.062157 -0.003793 -0.022174 -0.028921  -0.025606  \n",
       "YrSold            0.010694 -0.059689  0.004906 -0.145721  1.000000  -0.028923  \n",
       "OverallCond       0.054811 -0.001985  0.068777 -0.003511  0.043950  -0.077856  \n",
       "EnclosedPorch    -0.082864  0.054203  0.018361 -0.028887 -0.009916  -0.128578  \n",
       "KitchenAbvGr     -0.051613 -0.014525  0.062341  0.026589  0.031687  -0.135907  \n",
       "\n",
       "[36 rows x 36 columns]"
      ]
     },
     "execution_count": 16,
     "metadata": {},
     "output_type": "execute_result"
    }
   ],
   "source": [
    "train.corr().sort_values(by='SalePrice',ascending=False)"
   ]
  },
  {
   "cell_type": "markdown",
   "id": "13c12a26",
   "metadata": {
    "papermill": {
     "duration": 0.050855,
     "end_time": "2023-01-18T00:48:14.192219",
     "exception": false,
     "start_time": "2023-01-18T00:48:14.141364",
     "status": "completed"
    },
    "tags": []
   },
   "source": [
    "#### Addition and Deletion of some features"
   ]
  },
  {
   "cell_type": "markdown",
   "id": "6192d2e2",
   "metadata": {
    "papermill": {
     "duration": 0.05055,
     "end_time": "2023-01-18T00:48:14.293736",
     "exception": false,
     "start_time": "2023-01-18T00:48:14.243186",
     "status": "completed"
    },
    "tags": []
   },
   "source": [
    "Based on the above, addition and deletion of features are decided"
   ]
  },
  {
   "cell_type": "markdown",
   "id": "99bdcb8d",
   "metadata": {
    "papermill": {
     "duration": 0.050462,
     "end_time": "2023-01-18T00:48:14.394214",
     "exception": false,
     "start_time": "2023-01-18T00:48:14.343752",
     "status": "completed"
    },
    "tags": []
   },
   "source": [
    "1. The price of the houses will depend on the age of the house. This information is available through year sold and year built columns. However, it would be better if we could create a separate feature 'Age' of the house and then delete the yearbuilt column. A new feature Age is created.\n",
    "\n",
    "\n",
    "2. Similarly, RemodelAge and GarageAge are newly created as additional features\n",
    "\n",
    "\n",
    "3. An analysis of the features showed that presence of Garage is an important factor in determining prices. Hence, it would be better if we could create a GarageFlag that says yes or no about availability of Garage thereby we can delete GarageYearBuilt column which has many (81) missing values\n",
    "\n",
    "\n",
    "4. Similarly, flags to indicate presence or absence of pools, fence, basement, secondfloor are created as new columns\n",
    "\n",
    "\n",
    "5. The features like halfbaths can be converted into number of full baths and those columns can also be deleted"
   ]
  },
  {
   "cell_type": "markdown",
   "id": "bb6b25bf",
   "metadata": {
    "papermill": {
     "duration": 0.050098,
     "end_time": "2023-01-18T00:48:14.494702",
     "exception": false,
     "start_time": "2023-01-18T00:48:14.444604",
     "status": "completed"
    },
    "tags": []
   },
   "source": [
    "It was found that the final model does not predict sale prices above 500000!! An EDA analysis shows that the house prices depend on Neighborhood. "
   ]
  },
  {
   "cell_type": "code",
   "execution_count": 17,
   "id": "c67231b6",
   "metadata": {
    "execution": {
     "iopub.execute_input": "2023-01-18T00:48:14.598945Z",
     "iopub.status.busy": "2023-01-18T00:48:14.598587Z",
     "iopub.status.idle": "2023-01-18T00:48:14.612119Z",
     "shell.execute_reply": "2023-01-18T00:48:14.611145Z"
    },
    "papermill": {
     "duration": 0.067923,
     "end_time": "2023-01-18T00:48:14.614208",
     "exception": false,
     "start_time": "2023-01-18T00:48:14.546285",
     "status": "completed"
    },
    "tags": []
   },
   "outputs": [
    {
     "data": {
      "text/html": [
       "<div>\n",
       "<style scoped>\n",
       "    .dataframe tbody tr th:only-of-type {\n",
       "        vertical-align: middle;\n",
       "    }\n",
       "\n",
       "    .dataframe tbody tr th {\n",
       "        vertical-align: top;\n",
       "    }\n",
       "\n",
       "    .dataframe thead th {\n",
       "        text-align: right;\n",
       "    }\n",
       "</style>\n",
       "<table border=\"1\" class=\"dataframe\">\n",
       "  <thead>\n",
       "    <tr style=\"text-align: right;\">\n",
       "      <th></th>\n",
       "      <th>Neighborhood</th>\n",
       "      <th>SalePrice</th>\n",
       "    </tr>\n",
       "  </thead>\n",
       "  <tbody>\n",
       "    <tr>\n",
       "      <th>691</th>\n",
       "      <td>NoRidge</td>\n",
       "      <td>755000</td>\n",
       "    </tr>\n",
       "    <tr>\n",
       "      <th>1182</th>\n",
       "      <td>NoRidge</td>\n",
       "      <td>745000</td>\n",
       "    </tr>\n",
       "    <tr>\n",
       "      <th>1169</th>\n",
       "      <td>NoRidge</td>\n",
       "      <td>625000</td>\n",
       "    </tr>\n",
       "    <tr>\n",
       "      <th>898</th>\n",
       "      <td>NridgHt</td>\n",
       "      <td>611657</td>\n",
       "    </tr>\n",
       "    <tr>\n",
       "      <th>803</th>\n",
       "      <td>NridgHt</td>\n",
       "      <td>582933</td>\n",
       "    </tr>\n",
       "    <tr>\n",
       "      <th>1046</th>\n",
       "      <td>StoneBr</td>\n",
       "      <td>556581</td>\n",
       "    </tr>\n",
       "    <tr>\n",
       "      <th>440</th>\n",
       "      <td>NridgHt</td>\n",
       "      <td>555000</td>\n",
       "    </tr>\n",
       "    <tr>\n",
       "      <th>769</th>\n",
       "      <td>StoneBr</td>\n",
       "      <td>538000</td>\n",
       "    </tr>\n",
       "    <tr>\n",
       "      <th>178</th>\n",
       "      <td>StoneBr</td>\n",
       "      <td>501837</td>\n",
       "    </tr>\n",
       "    <tr>\n",
       "      <th>798</th>\n",
       "      <td>NridgHt</td>\n",
       "      <td>485000</td>\n",
       "    </tr>\n",
       "    <tr>\n",
       "      <th>185</th>\n",
       "      <td>OldTown</td>\n",
       "      <td>475000</td>\n",
       "    </tr>\n",
       "    <tr>\n",
       "      <th>1373</th>\n",
       "      <td>NoRidge</td>\n",
       "      <td>466500</td>\n",
       "    </tr>\n",
       "    <tr>\n",
       "      <th>1243</th>\n",
       "      <td>NridgHt</td>\n",
       "      <td>465000</td>\n",
       "    </tr>\n",
       "    <tr>\n",
       "      <th>591</th>\n",
       "      <td>NridgHt</td>\n",
       "      <td>451950</td>\n",
       "    </tr>\n",
       "    <tr>\n",
       "      <th>527</th>\n",
       "      <td>NridgHt</td>\n",
       "      <td>446261</td>\n",
       "    </tr>\n",
       "    <tr>\n",
       "      <th>473</th>\n",
       "      <td>NridgHt</td>\n",
       "      <td>440000</td>\n",
       "    </tr>\n",
       "    <tr>\n",
       "      <th>58</th>\n",
       "      <td>StoneBr</td>\n",
       "      <td>438780</td>\n",
       "    </tr>\n",
       "    <tr>\n",
       "      <th>349</th>\n",
       "      <td>NridgHt</td>\n",
       "      <td>437154</td>\n",
       "    </tr>\n",
       "    <tr>\n",
       "      <th>496</th>\n",
       "      <td>NoRidge</td>\n",
       "      <td>430000</td>\n",
       "    </tr>\n",
       "    <tr>\n",
       "      <th>389</th>\n",
       "      <td>NridgHt</td>\n",
       "      <td>426000</td>\n",
       "    </tr>\n",
       "    <tr>\n",
       "      <th>1142</th>\n",
       "      <td>CollgCr</td>\n",
       "      <td>424870</td>\n",
       "    </tr>\n",
       "    <tr>\n",
       "      <th>664</th>\n",
       "      <td>Somerst</td>\n",
       "      <td>423000</td>\n",
       "    </tr>\n",
       "    <tr>\n",
       "      <th>278</th>\n",
       "      <td>NridgHt</td>\n",
       "      <td>415298</td>\n",
       "    </tr>\n",
       "    <tr>\n",
       "      <th>161</th>\n",
       "      <td>NridgHt</td>\n",
       "      <td>412500</td>\n",
       "    </tr>\n",
       "    <tr>\n",
       "      <th>1353</th>\n",
       "      <td>NoRidge</td>\n",
       "      <td>410000</td>\n",
       "    </tr>\n",
       "    <tr>\n",
       "      <th>231</th>\n",
       "      <td>NoRidge</td>\n",
       "      <td>403000</td>\n",
       "    </tr>\n",
       "    <tr>\n",
       "      <th>515</th>\n",
       "      <td>NridgHt</td>\n",
       "      <td>402861</td>\n",
       "    </tr>\n",
       "    <tr>\n",
       "      <th>661</th>\n",
       "      <td>NoRidge</td>\n",
       "      <td>402000</td>\n",
       "    </tr>\n",
       "  </tbody>\n",
       "</table>\n",
       "</div>"
      ],
      "text/plain": [
       "     Neighborhood  SalePrice\n",
       "691       NoRidge     755000\n",
       "1182      NoRidge     745000\n",
       "1169      NoRidge     625000\n",
       "898       NridgHt     611657\n",
       "803       NridgHt     582933\n",
       "1046      StoneBr     556581\n",
       "440       NridgHt     555000\n",
       "769       StoneBr     538000\n",
       "178       StoneBr     501837\n",
       "798       NridgHt     485000\n",
       "185       OldTown     475000\n",
       "1373      NoRidge     466500\n",
       "1243      NridgHt     465000\n",
       "591       NridgHt     451950\n",
       "527       NridgHt     446261\n",
       "473       NridgHt     440000\n",
       "58        StoneBr     438780\n",
       "349       NridgHt     437154\n",
       "496       NoRidge     430000\n",
       "389       NridgHt     426000\n",
       "1142      CollgCr     424870\n",
       "664       Somerst     423000\n",
       "278       NridgHt     415298\n",
       "161       NridgHt     412500\n",
       "1353      NoRidge     410000\n",
       "231       NoRidge     403000\n",
       "515       NridgHt     402861\n",
       "661       NoRidge     402000"
      ]
     },
     "execution_count": 17,
     "metadata": {},
     "output_type": "execute_result"
    }
   ],
   "source": [
    "train[train.SalePrice>400000][['Neighborhood','SalePrice']].sort_values('SalePrice',ascending=False)"
   ]
  },
  {
   "cell_type": "markdown",
   "id": "30f11bac",
   "metadata": {
    "papermill": {
     "duration": 0.050324,
     "end_time": "2023-01-18T00:48:14.715855",
     "exception": false,
     "start_time": "2023-01-18T00:48:14.665531",
     "status": "completed"
    },
    "tags": []
   },
   "source": [
    "Based on the above, a new feature premium flag is introduced to indicate the neighborhood (though however it did not improve accuracy much)"
   ]
  },
  {
   "cell_type": "markdown",
   "id": "0a940f2f",
   "metadata": {
    "papermill": {
     "duration": 0.05044,
     "end_time": "2023-01-18T00:48:14.816648",
     "exception": false,
     "start_time": "2023-01-18T00:48:14.766208",
     "status": "completed"
    },
    "tags": []
   },
   "source": [
    "#### New Columns Added"
   ]
  },
  {
   "cell_type": "code",
   "execution_count": 18,
   "id": "bbf57d48",
   "metadata": {
    "execution": {
     "iopub.execute_input": "2023-01-18T00:48:14.920409Z",
     "iopub.status.busy": "2023-01-18T00:48:14.919382Z",
     "iopub.status.idle": "2023-01-18T00:48:14.941894Z",
     "shell.execute_reply": "2023-01-18T00:48:14.941021Z"
    },
    "papermill": {
     "duration": 0.076359,
     "end_time": "2023-01-18T00:48:14.943914",
     "exception": false,
     "start_time": "2023-01-18T00:48:14.867555",
     "status": "completed"
    },
    "tags": []
   },
   "outputs": [],
   "source": [
    "train['Age']=train['YrSold']+train['MoSold']/12-train['YearBuilt']\n",
    "train['ReModelAge']=train['YrSold']+train['MoSold']/12-train['YearRemodAdd']\n",
    "train['GarageFlag']=np.where(train.GarageArea!=0,1,0)\n",
    "train['GarageAge']=np.where(train.GarageArea!=0,train['YrSold']+train['MoSold']/12-train['GarageYrBlt'],0)\n",
    "train['Baths']=train['FullBath']+0.5*train['HalfBath']\n",
    "train['BsmtBaths']=train['BsmtFullBath']+0.5*train['BsmtHalfBath']\n",
    "\n",
    "train['haspool'] = train['PoolArea'].apply(lambda x: 1 if x > 0 else 0)\n",
    "train['has2ndfloor'] = train['2ndFlrSF'].apply(lambda x: 1 if x > 0 else 0) \n",
    "train['hasbsmt'] = train['TotalBsmtSF'].apply(lambda x: 1 if x > 0 else 0)\n",
    "train['hasfence'] = train['Fence'].apply(lambda x: 1 if x==\"None\" else 0)\n",
    "\n",
    "train['Total_sqr_footage'] = (train['TotalBsmtSF']+train['GrLivArea']+train['LotArea'])\n",
    "train['Total_porch_sf'] = (train['OpenPorchSF'] + train['3SsnPorch'] +\n",
    "                              train['EnclosedPorch'] + train['ScreenPorch'])\n",
    "\n",
    "p=['StoneBr','NrdigHt','NoRidge']\n",
    "\n",
    "train['PremiumFlag']=train['Neighborhood'].apply(lambda x: 1 if x in p else 0)"
   ]
  },
  {
   "cell_type": "markdown",
   "id": "344cc271",
   "metadata": {
    "papermill": {
     "duration": 0.052085,
     "end_time": "2023-01-18T00:48:15.046599",
     "exception": false,
     "start_time": "2023-01-18T00:48:14.994514",
     "status": "completed"
    },
    "tags": []
   },
   "source": [
    "We have to change the new features with appropriate dtypes as these will be one-hot encoded"
   ]
  },
  {
   "cell_type": "code",
   "execution_count": 19,
   "id": "74946f8f",
   "metadata": {
    "execution": {
     "iopub.execute_input": "2023-01-18T00:48:15.151596Z",
     "iopub.status.busy": "2023-01-18T00:48:15.150640Z",
     "iopub.status.idle": "2023-01-18T00:48:15.164236Z",
     "shell.execute_reply": "2023-01-18T00:48:15.163359Z"
    },
    "papermill": {
     "duration": 0.068621,
     "end_time": "2023-01-18T00:48:15.166237",
     "exception": false,
     "start_time": "2023-01-18T00:48:15.097616",
     "status": "completed"
    },
    "tags": []
   },
   "outputs": [],
   "source": [
    "train['haspool']=train['haspool'].astype(str)\n",
    "train['has2ndfloor']=train['has2ndfloor'].astype(str)\n",
    "train['hasbsmt']=train['hasbsmt'].astype(str)\n",
    "train['hasfence']=train['hasfence'].astype(str)\n",
    "train['PremiumFlag']=train['PremiumFlag'].astype(str)\n",
    "train[\"GarageFlag\"]=train[\"GarageFlag\"].astype(str)\n",
    "train[\"CentralAir\"]=train[\"CentralAir\"].astype(str)"
   ]
  },
  {
   "cell_type": "markdown",
   "id": "addd0c93",
   "metadata": {
    "papermill": {
     "duration": 0.051338,
     "end_time": "2023-01-18T00:48:15.269750",
     "exception": false,
     "start_time": "2023-01-18T00:48:15.218412",
     "status": "completed"
    },
    "tags": []
   },
   "source": [
    "#### Columns deleted"
   ]
  },
  {
   "cell_type": "markdown",
   "id": "c1d1deec",
   "metadata": {
    "papermill": {
     "duration": 0.05091,
     "end_time": "2023-01-18T00:48:15.371934",
     "exception": false,
     "start_time": "2023-01-18T00:48:15.321024",
     "status": "completed"
    },
    "tags": []
   },
   "source": [
    "A correlation of sales price with various variables show that some of the columns have negative impact on the prediction. This is not a feature characteristic (for example, age will be inversely related) but may have arisen due to data anomaly. The columns identified to impact prediction are: BsmtFinSF2, MiscVal, LowQualFinSF and EncolsedPorch. Also, the columns alike Yearbuilt are superfluous owing to above addition of features. Hence, these columns are deleted"
   ]
  },
  {
   "cell_type": "code",
   "execution_count": 20,
   "id": "819fa438",
   "metadata": {
    "execution": {
     "iopub.execute_input": "2023-01-18T00:48:15.474828Z",
     "iopub.status.busy": "2023-01-18T00:48:15.474453Z",
     "iopub.status.idle": "2023-01-18T00:48:15.485022Z",
     "shell.execute_reply": "2023-01-18T00:48:15.483612Z"
    },
    "papermill": {
     "duration": 0.064808,
     "end_time": "2023-01-18T00:48:15.487450",
     "exception": false,
     "start_time": "2023-01-18T00:48:15.422642",
     "status": "completed"
    },
    "tags": []
   },
   "outputs": [
    {
     "name": "stdout",
     "output_type": "stream",
     "text": [
      "9  columns deleted\n"
     ]
    }
   ],
   "source": [
    "coldel=['BsmtFinSF2','MiscVal','LowQualFinSF','YearBuilt','YrSold','MoSold','GarageYrBlt',\n",
    "        'EnclosedPorch','BsmtHalfBath']\n",
    " \n",
    "train.drop(columns=coldel,inplace=True)\n",
    "\n",
    "print(len(coldel),\" columns deleted\")"
   ]
  },
  {
   "cell_type": "markdown",
   "id": "6bea61ad",
   "metadata": {
    "papermill": {
     "duration": 0.050326,
     "end_time": "2023-01-18T00:48:15.589108",
     "exception": false,
     "start_time": "2023-01-18T00:48:15.538782",
     "status": "completed"
    },
    "tags": []
   },
   "source": [
    "We can check again the ranking of features and verify that everthing is in order"
   ]
  },
  {
   "cell_type": "code",
   "execution_count": 21,
   "id": "4645b849",
   "metadata": {
    "execution": {
     "iopub.execute_input": "2023-01-18T00:48:15.692776Z",
     "iopub.status.busy": "2023-01-18T00:48:15.692419Z",
     "iopub.status.idle": "2023-01-18T00:48:15.784092Z",
     "shell.execute_reply": "2023-01-18T00:48:15.782991Z"
    },
    "papermill": {
     "duration": 0.147776,
     "end_time": "2023-01-18T00:48:15.787667",
     "exception": false,
     "start_time": "2023-01-18T00:48:15.639891",
     "status": "completed"
    },
    "tags": []
   },
   "outputs": [
    {
     "name": "stdout",
     "output_type": "stream",
     "text": [
      "['Baths'] \n",
      " [29 25  4 11 20 19 28 32 30 15 16 31 12  2  3 10  8  9  7  6 33 22 26 21\n",
      " 17 23 13 18 14  1  5 24 27]\n"
     ]
    },
    {
     "data": {
      "text/plain": [
       "['Baths',\n",
       " 'FullBath',\n",
       " 'HalfBath',\n",
       " 'OverallQual',\n",
       " 'BsmtBaths',\n",
       " 'GarageCars',\n",
       " 'Fireplaces',\n",
       " 'KitchenAbvGr',\n",
       " 'TotRmsAbvGrd',\n",
       " 'BedroomAbvGr',\n",
       " 'OverallCond',\n",
       " 'BsmtFullBath',\n",
       " 'Age',\n",
       " 'GarageAge',\n",
       " '1stFlrSF',\n",
       " '2ndFlrSF',\n",
       " 'ScreenPorch',\n",
       " 'ReModelAge',\n",
       " 'MasVnrArea',\n",
       " 'YearRemodAdd',\n",
       " '3SsnPorch',\n",
       " 'WoodDeckSF',\n",
       " 'PoolArea',\n",
       " 'Total_sqr_footage',\n",
       " 'LotArea',\n",
       " 'OpenPorchSF',\n",
       " 'Total_porch_sf',\n",
       " 'BsmtFinSF1',\n",
       " 'LotFrontage',\n",
       " 'TotalBsmtSF',\n",
       " 'GrLivArea',\n",
       " 'BsmtUnfSF',\n",
       " 'GarageArea']"
      ]
     },
     "execution_count": 21,
     "metadata": {},
     "output_type": "execute_result"
    }
   ],
   "source": [
    "# STudy of features in terms of ranking of thier importance\n",
    "train1=train.copy()\n",
    "y=train['SalePrice'] \n",
    "train1.drop(columns='SalePrice',inplace=True)\n",
    "estimator = LinearRegression()\n",
    "rfe = RFE(estimator, n_features_to_select=1, step=1)\n",
    "selector = rfe.fit(train1.select_dtypes(exclude='object'), y)\n",
    "selectedFeatures = list(train1.select_dtypes(exclude='object').columns[selector.support_])\n",
    "print(selectedFeatures,'\\n',selector.ranking_)\n",
    "rank=selector.ranking_\n",
    "# selector.support_\n",
    "topcolorder=[x for _, x in sorted(zip(rank, train1.select_dtypes(exclude='O').columns.values))]\n",
    "topcolorder"
   ]
  },
  {
   "cell_type": "code",
   "execution_count": 22,
   "id": "9eef764a",
   "metadata": {
    "execution": {
     "iopub.execute_input": "2023-01-18T00:48:15.958881Z",
     "iopub.status.busy": "2023-01-18T00:48:15.958541Z",
     "iopub.status.idle": "2023-01-18T00:48:16.003625Z",
     "shell.execute_reply": "2023-01-18T00:48:16.002604Z"
    },
    "papermill": {
     "duration": 0.099062,
     "end_time": "2023-01-18T00:48:16.005763",
     "exception": false,
     "start_time": "2023-01-18T00:48:15.906701",
     "status": "completed"
    },
    "tags": []
   },
   "outputs": [
    {
     "data": {
      "text/html": [
       "<div>\n",
       "<style scoped>\n",
       "    .dataframe tbody tr th:only-of-type {\n",
       "        vertical-align: middle;\n",
       "    }\n",
       "\n",
       "    .dataframe tbody tr th {\n",
       "        vertical-align: top;\n",
       "    }\n",
       "\n",
       "    .dataframe thead th {\n",
       "        text-align: right;\n",
       "    }\n",
       "</style>\n",
       "<table border=\"1\" class=\"dataframe\">\n",
       "  <thead>\n",
       "    <tr style=\"text-align: right;\">\n",
       "      <th></th>\n",
       "      <th>LotFrontage</th>\n",
       "      <th>LotArea</th>\n",
       "      <th>OverallQual</th>\n",
       "      <th>OverallCond</th>\n",
       "      <th>YearRemodAdd</th>\n",
       "      <th>MasVnrArea</th>\n",
       "      <th>BsmtFinSF1</th>\n",
       "      <th>BsmtUnfSF</th>\n",
       "      <th>TotalBsmtSF</th>\n",
       "      <th>1stFlrSF</th>\n",
       "      <th>...</th>\n",
       "      <th>ScreenPorch</th>\n",
       "      <th>PoolArea</th>\n",
       "      <th>SalePrice</th>\n",
       "      <th>Age</th>\n",
       "      <th>ReModelAge</th>\n",
       "      <th>GarageAge</th>\n",
       "      <th>Baths</th>\n",
       "      <th>BsmtBaths</th>\n",
       "      <th>Total_sqr_footage</th>\n",
       "      <th>Total_porch_sf</th>\n",
       "    </tr>\n",
       "  </thead>\n",
       "  <tbody>\n",
       "    <tr>\n",
       "      <th>SalePrice</th>\n",
       "      <td>0.317984</td>\n",
       "      <td>0.263843</td>\n",
       "      <td>0.790982</td>\n",
       "      <td>-0.077856</td>\n",
       "      <td>0.507118</td>\n",
       "      <td>0.478273</td>\n",
       "      <td>0.386420</td>\n",
       "      <td>0.214479</td>\n",
       "      <td>0.613581</td>\n",
       "      <td>0.605852</td>\n",
       "      <td>...</td>\n",
       "      <td>0.111447</td>\n",
       "      <td>0.092404</td>\n",
       "      <td>1.000000</td>\n",
       "      <td>-0.523063</td>\n",
       "      <td>-0.508730</td>\n",
       "      <td>-0.387809</td>\n",
       "      <td>0.597966</td>\n",
       "      <td>0.224953</td>\n",
       "      <td>0.319082</td>\n",
       "      <td>0.195739</td>\n",
       "    </tr>\n",
       "    <tr>\n",
       "      <th>OverallQual</th>\n",
       "      <td>0.180773</td>\n",
       "      <td>0.105806</td>\n",
       "      <td>1.000000</td>\n",
       "      <td>-0.091932</td>\n",
       "      <td>0.550610</td>\n",
       "      <td>0.413362</td>\n",
       "      <td>0.239666</td>\n",
       "      <td>0.308159</td>\n",
       "      <td>0.537808</td>\n",
       "      <td>0.476224</td>\n",
       "      <td>...</td>\n",
       "      <td>0.064886</td>\n",
       "      <td>0.065166</td>\n",
       "      <td>0.790982</td>\n",
       "      <td>-0.572166</td>\n",
       "      <td>-0.551877</td>\n",
       "      <td>-0.426322</td>\n",
       "      <td>0.585038</td>\n",
       "      <td>0.102640</td>\n",
       "      <td>0.156239</td>\n",
       "      <td>0.171172</td>\n",
       "    </tr>\n",
       "    <tr>\n",
       "      <th>GrLivArea</th>\n",
       "      <td>0.350597</td>\n",
       "      <td>0.263116</td>\n",
       "      <td>0.593007</td>\n",
       "      <td>-0.079686</td>\n",
       "      <td>0.287199</td>\n",
       "      <td>0.392902</td>\n",
       "      <td>0.208171</td>\n",
       "      <td>0.240257</td>\n",
       "      <td>0.454868</td>\n",
       "      <td>0.566024</td>\n",
       "      <td>...</td>\n",
       "      <td>0.101510</td>\n",
       "      <td>0.170205</td>\n",
       "      <td>0.708624</td>\n",
       "      <td>-0.199951</td>\n",
       "      <td>-0.289148</td>\n",
       "      <td>-0.173501</td>\n",
       "      <td>0.710087</td>\n",
       "      <td>0.030717</td>\n",
       "      <td>0.326509</td>\n",
       "      <td>0.272853</td>\n",
       "    </tr>\n",
       "    <tr>\n",
       "      <th>GarageCars</th>\n",
       "      <td>0.245384</td>\n",
       "      <td>0.154871</td>\n",
       "      <td>0.600671</td>\n",
       "      <td>-0.185758</td>\n",
       "      <td>0.420583</td>\n",
       "      <td>0.365436</td>\n",
       "      <td>0.224054</td>\n",
       "      <td>0.214175</td>\n",
       "      <td>0.434585</td>\n",
       "      <td>0.439317</td>\n",
       "      <td>...</td>\n",
       "      <td>0.050494</td>\n",
       "      <td>0.020934</td>\n",
       "      <td>0.640409</td>\n",
       "      <td>-0.538486</td>\n",
       "      <td>-0.422872</td>\n",
       "      <td>-0.308172</td>\n",
       "      <td>0.493479</td>\n",
       "      <td>0.128046</td>\n",
       "      <td>0.193102</td>\n",
       "      <td>0.083265</td>\n",
       "    </tr>\n",
       "    <tr>\n",
       "      <th>GarageArea</th>\n",
       "      <td>0.293183</td>\n",
       "      <td>0.180403</td>\n",
       "      <td>0.562022</td>\n",
       "      <td>-0.151521</td>\n",
       "      <td>0.371550</td>\n",
       "      <td>0.373820</td>\n",
       "      <td>0.296970</td>\n",
       "      <td>0.183303</td>\n",
       "      <td>0.486665</td>\n",
       "      <td>0.489782</td>\n",
       "      <td>...</td>\n",
       "      <td>0.051412</td>\n",
       "      <td>0.061047</td>\n",
       "      <td>0.623431</td>\n",
       "      <td>-0.479253</td>\n",
       "      <td>-0.373195</td>\n",
       "      <td>-0.311985</td>\n",
       "      <td>0.416037</td>\n",
       "      <td>0.174871</td>\n",
       "      <td>0.220247</td>\n",
       "      <td>0.118346</td>\n",
       "    </tr>\n",
       "    <tr>\n",
       "      <th>TotalBsmtSF</th>\n",
       "      <td>0.343854</td>\n",
       "      <td>0.260833</td>\n",
       "      <td>0.537808</td>\n",
       "      <td>-0.171098</td>\n",
       "      <td>0.290919</td>\n",
       "      <td>0.365767</td>\n",
       "      <td>0.522396</td>\n",
       "      <td>0.415360</td>\n",
       "      <td>1.000000</td>\n",
       "      <td>0.819530</td>\n",
       "      <td>...</td>\n",
       "      <td>0.084489</td>\n",
       "      <td>0.126053</td>\n",
       "      <td>0.613581</td>\n",
       "      <td>-0.391443</td>\n",
       "      <td>-0.291886</td>\n",
       "      <td>-0.256237</td>\n",
       "      <td>0.261114</td>\n",
       "      <td>0.309627</td>\n",
       "      <td>0.319680</td>\n",
       "      <td>0.155471</td>\n",
       "    </tr>\n",
       "    <tr>\n",
       "      <th>1stFlrSF</th>\n",
       "      <td>0.406076</td>\n",
       "      <td>0.299475</td>\n",
       "      <td>0.476224</td>\n",
       "      <td>-0.144203</td>\n",
       "      <td>0.240218</td>\n",
       "      <td>0.346115</td>\n",
       "      <td>0.445863</td>\n",
       "      <td>0.317987</td>\n",
       "      <td>0.819530</td>\n",
       "      <td>1.000000</td>\n",
       "      <td>...</td>\n",
       "      <td>0.088758</td>\n",
       "      <td>0.131525</td>\n",
       "      <td>0.605852</td>\n",
       "      <td>-0.281941</td>\n",
       "      <td>-0.240874</td>\n",
       "      <td>-0.176382</td>\n",
       "      <td>0.282300</td>\n",
       "      <td>0.246994</td>\n",
       "      <td>0.355234</td>\n",
       "      <td>0.158072</td>\n",
       "    </tr>\n",
       "    <tr>\n",
       "      <th>Baths</th>\n",
       "      <td>0.162180</td>\n",
       "      <td>0.114805</td>\n",
       "      <td>0.585038</td>\n",
       "      <td>-0.192197</td>\n",
       "      <td>0.452705</td>\n",
       "      <td>0.322940</td>\n",
       "      <td>0.052395</td>\n",
       "      <td>0.233977</td>\n",
       "      <td>0.261114</td>\n",
       "      <td>0.282300</td>\n",
       "      <td>...</td>\n",
       "      <td>0.021611</td>\n",
       "      <td>0.051815</td>\n",
       "      <td>0.597966</td>\n",
       "      <td>-0.501413</td>\n",
       "      <td>-0.453804</td>\n",
       "      <td>-0.424965</td>\n",
       "      <td>1.000000</td>\n",
       "      <td>-0.080700</td>\n",
       "      <td>0.159158</td>\n",
       "      <td>0.131201</td>\n",
       "    </tr>\n",
       "    <tr>\n",
       "      <th>FullBath</th>\n",
       "      <td>0.176306</td>\n",
       "      <td>0.126031</td>\n",
       "      <td>0.550600</td>\n",
       "      <td>-0.194149</td>\n",
       "      <td>0.438976</td>\n",
       "      <td>0.280255</td>\n",
       "      <td>0.058543</td>\n",
       "      <td>0.288886</td>\n",
       "      <td>0.323722</td>\n",
       "      <td>0.380637</td>\n",
       "      <td>...</td>\n",
       "      <td>-0.008106</td>\n",
       "      <td>0.049604</td>\n",
       "      <td>0.560664</td>\n",
       "      <td>-0.468039</td>\n",
       "      <td>-0.439855</td>\n",
       "      <td>-0.419795</td>\n",
       "      <td>0.920116</td>\n",
       "      <td>-0.077647</td>\n",
       "      <td>0.168651</td>\n",
       "      <td>0.102435</td>\n",
       "    </tr>\n",
       "    <tr>\n",
       "      <th>TotRmsAbvGrd</th>\n",
       "      <td>0.289863</td>\n",
       "      <td>0.190015</td>\n",
       "      <td>0.427452</td>\n",
       "      <td>-0.057583</td>\n",
       "      <td>0.191655</td>\n",
       "      <td>0.281377</td>\n",
       "      <td>0.044316</td>\n",
       "      <td>0.250647</td>\n",
       "      <td>0.285573</td>\n",
       "      <td>0.409516</td>\n",
       "      <td>...</td>\n",
       "      <td>0.059383</td>\n",
       "      <td>0.083757</td>\n",
       "      <td>0.533723</td>\n",
       "      <td>-0.096691</td>\n",
       "      <td>-0.193571</td>\n",
       "      <td>-0.112686</td>\n",
       "      <td>0.616319</td>\n",
       "      <td>-0.059208</td>\n",
       "      <td>0.239250</td>\n",
       "      <td>0.179536</td>\n",
       "    </tr>\n",
       "    <tr>\n",
       "      <th>YearRemodAdd</th>\n",
       "      <td>0.058404</td>\n",
       "      <td>0.013691</td>\n",
       "      <td>0.550610</td>\n",
       "      <td>0.073761</td>\n",
       "      <td>1.000000</td>\n",
       "      <td>0.181767</td>\n",
       "      <td>0.128323</td>\n",
       "      <td>0.181116</td>\n",
       "      <td>0.290919</td>\n",
       "      <td>0.240218</td>\n",
       "      <td>...</td>\n",
       "      <td>-0.038732</td>\n",
       "      <td>0.005832</td>\n",
       "      <td>0.507118</td>\n",
       "      <td>-0.590248</td>\n",
       "      <td>-0.997973</td>\n",
       "      <td>-0.560442</td>\n",
       "      <td>0.452705</td>\n",
       "      <td>0.117492</td>\n",
       "      <td>0.040452</td>\n",
       "      <td>0.021851</td>\n",
       "    </tr>\n",
       "    <tr>\n",
       "      <th>MasVnrArea</th>\n",
       "      <td>0.172676</td>\n",
       "      <td>0.105755</td>\n",
       "      <td>0.413362</td>\n",
       "      <td>-0.131388</td>\n",
       "      <td>0.181767</td>\n",
       "      <td>1.000000</td>\n",
       "      <td>0.266982</td>\n",
       "      <td>0.114412</td>\n",
       "      <td>0.365767</td>\n",
       "      <td>0.346115</td>\n",
       "      <td>...</td>\n",
       "      <td>0.059981</td>\n",
       "      <td>0.011359</td>\n",
       "      <td>0.478273</td>\n",
       "      <td>-0.317594</td>\n",
       "      <td>-0.182471</td>\n",
       "      <td>-0.209833</td>\n",
       "      <td>0.322940</td>\n",
       "      <td>0.094959</td>\n",
       "      <td>0.138591</td>\n",
       "      <td>0.055046</td>\n",
       "    </tr>\n",
       "    <tr>\n",
       "      <th>Fireplaces</th>\n",
       "      <td>0.278247</td>\n",
       "      <td>0.271364</td>\n",
       "      <td>0.396765</td>\n",
       "      <td>-0.023820</td>\n",
       "      <td>0.112565</td>\n",
       "      <td>0.250601</td>\n",
       "      <td>0.260011</td>\n",
       "      <td>0.051575</td>\n",
       "      <td>0.339519</td>\n",
       "      <td>0.410531</td>\n",
       "      <td>...</td>\n",
       "      <td>0.184530</td>\n",
       "      <td>0.095074</td>\n",
       "      <td>0.466929</td>\n",
       "      <td>-0.148215</td>\n",
       "      <td>-0.113667</td>\n",
       "      <td>0.005946</td>\n",
       "      <td>0.291578</td>\n",
       "      <td>0.145699</td>\n",
       "      <td>0.302039</td>\n",
       "      <td>0.193231</td>\n",
       "    </tr>\n",
       "    <tr>\n",
       "      <th>BsmtFinSF1</th>\n",
       "      <td>0.226391</td>\n",
       "      <td>0.214103</td>\n",
       "      <td>0.239666</td>\n",
       "      <td>-0.046231</td>\n",
       "      <td>0.128323</td>\n",
       "      <td>0.266982</td>\n",
       "      <td>1.000000</td>\n",
       "      <td>-0.495251</td>\n",
       "      <td>0.522396</td>\n",
       "      <td>0.445863</td>\n",
       "      <td>...</td>\n",
       "      <td>0.062021</td>\n",
       "      <td>0.140491</td>\n",
       "      <td>0.386420</td>\n",
       "      <td>-0.248628</td>\n",
       "      <td>-0.127636</td>\n",
       "      <td>-0.114104</td>\n",
       "      <td>0.052395</td>\n",
       "      <td>0.669802</td>\n",
       "      <td>0.241193</td>\n",
       "      <td>0.051199</td>\n",
       "    </tr>\n",
       "    <tr>\n",
       "      <th>WoodDeckSF</th>\n",
       "      <td>0.131179</td>\n",
       "      <td>0.171698</td>\n",
       "      <td>0.238923</td>\n",
       "      <td>-0.003334</td>\n",
       "      <td>0.205703</td>\n",
       "      <td>0.158318</td>\n",
       "      <td>0.204306</td>\n",
       "      <td>-0.005316</td>\n",
       "      <td>0.232019</td>\n",
       "      <td>0.235459</td>\n",
       "      <td>...</td>\n",
       "      <td>-0.074181</td>\n",
       "      <td>0.073378</td>\n",
       "      <td>0.324413</td>\n",
       "      <td>-0.223420</td>\n",
       "      <td>-0.204145</td>\n",
       "      <td>-0.181823</td>\n",
       "      <td>0.205317</td>\n",
       "      <td>0.185965</td>\n",
       "      <td>0.189554</td>\n",
       "      <td>-0.084709</td>\n",
       "    </tr>\n",
       "    <tr>\n",
       "      <th>2ndFlrSF</th>\n",
       "      <td>0.059436</td>\n",
       "      <td>0.050986</td>\n",
       "      <td>0.295493</td>\n",
       "      <td>0.028942</td>\n",
       "      <td>0.139938</td>\n",
       "      <td>0.174185</td>\n",
       "      <td>-0.137079</td>\n",
       "      <td>0.004469</td>\n",
       "      <td>-0.174512</td>\n",
       "      <td>-0.202646</td>\n",
       "      <td>...</td>\n",
       "      <td>0.040606</td>\n",
       "      <td>0.081487</td>\n",
       "      <td>0.319334</td>\n",
       "      <td>-0.011291</td>\n",
       "      <td>-0.141473</td>\n",
       "      <td>-0.051229</td>\n",
       "      <td>0.606039</td>\n",
       "      <td>-0.176319</td>\n",
       "      <td>0.077321</td>\n",
       "      <td>0.181782</td>\n",
       "    </tr>\n",
       "    <tr>\n",
       "      <th>Total_sqr_footage</th>\n",
       "      <td>0.657915</td>\n",
       "      <td>0.997079</td>\n",
       "      <td>0.156239</td>\n",
       "      <td>-0.016874</td>\n",
       "      <td>0.040452</td>\n",
       "      <td>0.138591</td>\n",
       "      <td>0.241193</td>\n",
       "      <td>0.027508</td>\n",
       "      <td>0.319680</td>\n",
       "      <td>0.355234</td>\n",
       "      <td>...</td>\n",
       "      <td>0.050780</td>\n",
       "      <td>0.089635</td>\n",
       "      <td>0.319082</td>\n",
       "      <td>-0.041384</td>\n",
       "      <td>-0.041479</td>\n",
       "      <td>0.022329</td>\n",
       "      <td>0.159158</td>\n",
       "      <td>0.180612</td>\n",
       "      <td>1.000000</td>\n",
       "      <td>0.089960</td>\n",
       "    </tr>\n",
       "    <tr>\n",
       "      <th>LotFrontage</th>\n",
       "      <td>1.000000</td>\n",
       "      <td>0.642975</td>\n",
       "      <td>0.180773</td>\n",
       "      <td>-0.029074</td>\n",
       "      <td>0.058404</td>\n",
       "      <td>0.172676</td>\n",
       "      <td>0.226391</td>\n",
       "      <td>0.087284</td>\n",
       "      <td>0.343854</td>\n",
       "      <td>0.406076</td>\n",
       "      <td>...</td>\n",
       "      <td>0.025030</td>\n",
       "      <td>0.156634</td>\n",
       "      <td>0.317984</td>\n",
       "      <td>-0.081050</td>\n",
       "      <td>-0.058459</td>\n",
       "      <td>0.000984</td>\n",
       "      <td>0.162180</td>\n",
       "      <td>0.122088</td>\n",
       "      <td>0.657915</td>\n",
       "      <td>0.117511</td>\n",
       "    </tr>\n",
       "    <tr>\n",
       "      <th>OpenPorchSF</th>\n",
       "      <td>0.130800</td>\n",
       "      <td>0.084774</td>\n",
       "      <td>0.308819</td>\n",
       "      <td>-0.032589</td>\n",
       "      <td>0.226126</td>\n",
       "      <td>0.128368</td>\n",
       "      <td>0.111761</td>\n",
       "      <td>0.129005</td>\n",
       "      <td>0.247264</td>\n",
       "      <td>0.211671</td>\n",
       "      <td>...</td>\n",
       "      <td>0.074304</td>\n",
       "      <td>0.060762</td>\n",
       "      <td>0.315856</td>\n",
       "      <td>-0.190411</td>\n",
       "      <td>-0.229171</td>\n",
       "      <td>-0.202316</td>\n",
       "      <td>0.304158</td>\n",
       "      <td>0.061986</td>\n",
       "      <td>0.109914</td>\n",
       "      <td>0.613543</td>\n",
       "    </tr>\n",
       "    <tr>\n",
       "      <th>HalfBath</th>\n",
       "      <td>0.023940</td>\n",
       "      <td>0.014259</td>\n",
       "      <td>0.273458</td>\n",
       "      <td>-0.060769</td>\n",
       "      <td>0.183297</td>\n",
       "      <td>0.202821</td>\n",
       "      <td>0.004262</td>\n",
       "      <td>-0.041118</td>\n",
       "      <td>-0.048804</td>\n",
       "      <td>-0.119916</td>\n",
       "      <td>...</td>\n",
       "      <td>0.072426</td>\n",
       "      <td>0.022381</td>\n",
       "      <td>0.284108</td>\n",
       "      <td>-0.242822</td>\n",
       "      <td>-0.184150</td>\n",
       "      <td>-0.155155</td>\n",
       "      <td>0.513473</td>\n",
       "      <td>-0.034002</td>\n",
       "      <td>0.033067</td>\n",
       "      <td>0.107432</td>\n",
       "    </tr>\n",
       "    <tr>\n",
       "      <th>LotArea</th>\n",
       "      <td>0.642975</td>\n",
       "      <td>1.000000</td>\n",
       "      <td>0.105806</td>\n",
       "      <td>-0.005636</td>\n",
       "      <td>0.013691</td>\n",
       "      <td>0.105755</td>\n",
       "      <td>0.214103</td>\n",
       "      <td>-0.002618</td>\n",
       "      <td>0.260833</td>\n",
       "      <td>0.299475</td>\n",
       "      <td>...</td>\n",
       "      <td>0.043160</td>\n",
       "      <td>0.077672</td>\n",
       "      <td>0.263843</td>\n",
       "      <td>-0.014824</td>\n",
       "      <td>-0.014602</td>\n",
       "      <td>0.043358</td>\n",
       "      <td>0.114805</td>\n",
       "      <td>0.170501</td>\n",
       "      <td>0.997079</td>\n",
       "      <td>0.071310</td>\n",
       "    </tr>\n",
       "    <tr>\n",
       "      <th>BsmtFullBath</th>\n",
       "      <td>0.112356</td>\n",
       "      <td>0.158155</td>\n",
       "      <td>0.111098</td>\n",
       "      <td>-0.054942</td>\n",
       "      <td>0.119437</td>\n",
       "      <td>0.088389</td>\n",
       "      <td>0.649212</td>\n",
       "      <td>-0.422900</td>\n",
       "      <td>0.307351</td>\n",
       "      <td>0.244671</td>\n",
       "      <td>...</td>\n",
       "      <td>0.023148</td>\n",
       "      <td>0.067616</td>\n",
       "      <td>0.227122</td>\n",
       "      <td>-0.184571</td>\n",
       "      <td>-0.115460</td>\n",
       "      <td>-0.100234</td>\n",
       "      <td>-0.068098</td>\n",
       "      <td>0.973365</td>\n",
       "      <td>0.168719</td>\n",
       "      <td>0.025657</td>\n",
       "    </tr>\n",
       "    <tr>\n",
       "      <th>BsmtBaths</th>\n",
       "      <td>0.122088</td>\n",
       "      <td>0.170501</td>\n",
       "      <td>0.102640</td>\n",
       "      <td>-0.028049</td>\n",
       "      <td>0.117492</td>\n",
       "      <td>0.094959</td>\n",
       "      <td>0.669802</td>\n",
       "      <td>-0.448341</td>\n",
       "      <td>0.309627</td>\n",
       "      <td>0.246994</td>\n",
       "      <td>...</td>\n",
       "      <td>0.030771</td>\n",
       "      <td>0.072774</td>\n",
       "      <td>0.224953</td>\n",
       "      <td>-0.177565</td>\n",
       "      <td>-0.114093</td>\n",
       "      <td>-0.083401</td>\n",
       "      <td>-0.080700</td>\n",
       "      <td>1.000000</td>\n",
       "      <td>0.180612</td>\n",
       "      <td>0.027218</td>\n",
       "    </tr>\n",
       "    <tr>\n",
       "      <th>BsmtUnfSF</th>\n",
       "      <td>0.087284</td>\n",
       "      <td>-0.002618</td>\n",
       "      <td>0.308159</td>\n",
       "      <td>-0.136841</td>\n",
       "      <td>0.181116</td>\n",
       "      <td>0.114412</td>\n",
       "      <td>-0.495251</td>\n",
       "      <td>1.000000</td>\n",
       "      <td>0.415360</td>\n",
       "      <td>0.317987</td>\n",
       "      <td>...</td>\n",
       "      <td>-0.012579</td>\n",
       "      <td>-0.035092</td>\n",
       "      <td>0.214479</td>\n",
       "      <td>-0.150376</td>\n",
       "      <td>-0.183483</td>\n",
       "      <td>-0.171696</td>\n",
       "      <td>0.233977</td>\n",
       "      <td>-0.448341</td>\n",
       "      <td>0.027508</td>\n",
       "      <td>0.078901</td>\n",
       "    </tr>\n",
       "    <tr>\n",
       "      <th>Total_porch_sf</th>\n",
       "      <td>0.117511</td>\n",
       "      <td>0.071310</td>\n",
       "      <td>0.171172</td>\n",
       "      <td>0.056514</td>\n",
       "      <td>0.021851</td>\n",
       "      <td>0.055046</td>\n",
       "      <td>0.051199</td>\n",
       "      <td>0.078901</td>\n",
       "      <td>0.155471</td>\n",
       "      <td>0.158072</td>\n",
       "      <td>...</td>\n",
       "      <td>0.519955</td>\n",
       "      <td>0.094734</td>\n",
       "      <td>0.195739</td>\n",
       "      <td>0.122939</td>\n",
       "      <td>-0.023339</td>\n",
       "      <td>0.066453</td>\n",
       "      <td>0.131201</td>\n",
       "      <td>0.027218</td>\n",
       "      <td>0.089960</td>\n",
       "      <td>1.000000</td>\n",
       "    </tr>\n",
       "    <tr>\n",
       "      <th>BedroomAbvGr</th>\n",
       "      <td>0.219632</td>\n",
       "      <td>0.119690</td>\n",
       "      <td>0.101676</td>\n",
       "      <td>0.012980</td>\n",
       "      <td>-0.040588</td>\n",
       "      <td>0.103105</td>\n",
       "      <td>-0.107355</td>\n",
       "      <td>0.166643</td>\n",
       "      <td>0.050450</td>\n",
       "      <td>0.127401</td>\n",
       "      <td>...</td>\n",
       "      <td>0.044300</td>\n",
       "      <td>0.070703</td>\n",
       "      <td>0.168213</td>\n",
       "      <td>0.069314</td>\n",
       "      <td>0.038799</td>\n",
       "      <td>0.054886</td>\n",
       "      <td>0.404253</td>\n",
       "      <td>-0.141041</td>\n",
       "      <td>0.145237</td>\n",
       "      <td>0.099901</td>\n",
       "    </tr>\n",
       "    <tr>\n",
       "      <th>ScreenPorch</th>\n",
       "      <td>0.025030</td>\n",
       "      <td>0.043160</td>\n",
       "      <td>0.064886</td>\n",
       "      <td>0.054811</td>\n",
       "      <td>-0.038732</td>\n",
       "      <td>0.059981</td>\n",
       "      <td>0.062021</td>\n",
       "      <td>-0.012579</td>\n",
       "      <td>0.084489</td>\n",
       "      <td>0.088758</td>\n",
       "      <td>...</td>\n",
       "      <td>1.000000</td>\n",
       "      <td>0.051307</td>\n",
       "      <td>0.111447</td>\n",
       "      <td>0.050934</td>\n",
       "      <td>0.039694</td>\n",
       "      <td>0.090998</td>\n",
       "      <td>0.021611</td>\n",
       "      <td>0.030771</td>\n",
       "      <td>0.050780</td>\n",
       "      <td>0.519955</td>\n",
       "    </tr>\n",
       "    <tr>\n",
       "      <th>PoolArea</th>\n",
       "      <td>0.156634</td>\n",
       "      <td>0.077672</td>\n",
       "      <td>0.065166</td>\n",
       "      <td>-0.001985</td>\n",
       "      <td>0.005832</td>\n",
       "      <td>0.011359</td>\n",
       "      <td>0.140491</td>\n",
       "      <td>-0.035092</td>\n",
       "      <td>0.126053</td>\n",
       "      <td>0.131525</td>\n",
       "      <td>...</td>\n",
       "      <td>0.051307</td>\n",
       "      <td>1.000000</td>\n",
       "      <td>0.092404</td>\n",
       "      <td>-0.007815</td>\n",
       "      <td>-0.010045</td>\n",
       "      <td>0.015008</td>\n",
       "      <td>0.051815</td>\n",
       "      <td>0.072774</td>\n",
       "      <td>0.089635</td>\n",
       "      <td>0.094734</td>\n",
       "    </tr>\n",
       "    <tr>\n",
       "      <th>3SsnPorch</th>\n",
       "      <td>0.060320</td>\n",
       "      <td>0.020423</td>\n",
       "      <td>0.030371</td>\n",
       "      <td>0.025504</td>\n",
       "      <td>0.045291</td>\n",
       "      <td>0.018181</td>\n",
       "      <td>0.026451</td>\n",
       "      <td>0.020764</td>\n",
       "      <td>0.037384</td>\n",
       "      <td>0.056104</td>\n",
       "      <td>...</td>\n",
       "      <td>-0.031436</td>\n",
       "      <td>-0.007992</td>\n",
       "      <td>0.044584</td>\n",
       "      <td>-0.030271</td>\n",
       "      <td>-0.043792</td>\n",
       "      <td>-0.013625</td>\n",
       "      <td>0.028657</td>\n",
       "      <td>0.008033</td>\n",
       "      <td>0.022515</td>\n",
       "      <td>0.236689</td>\n",
       "    </tr>\n",
       "    <tr>\n",
       "      <th>OverallCond</th>\n",
       "      <td>-0.029074</td>\n",
       "      <td>-0.005636</td>\n",
       "      <td>-0.091932</td>\n",
       "      <td>1.000000</td>\n",
       "      <td>0.073761</td>\n",
       "      <td>-0.131388</td>\n",
       "      <td>-0.046231</td>\n",
       "      <td>-0.136841</td>\n",
       "      <td>-0.171098</td>\n",
       "      <td>-0.144203</td>\n",
       "      <td>...</td>\n",
       "      <td>0.054811</td>\n",
       "      <td>-0.001985</td>\n",
       "      <td>-0.077856</td>\n",
       "      <td>0.377342</td>\n",
       "      <td>-0.071008</td>\n",
       "      <td>0.299098</td>\n",
       "      <td>-0.192197</td>\n",
       "      <td>-0.028049</td>\n",
       "      <td>-0.016874</td>\n",
       "      <td>0.056514</td>\n",
       "    </tr>\n",
       "    <tr>\n",
       "      <th>KitchenAbvGr</th>\n",
       "      <td>-0.006964</td>\n",
       "      <td>-0.017784</td>\n",
       "      <td>-0.183882</td>\n",
       "      <td>-0.087001</td>\n",
       "      <td>-0.149596</td>\n",
       "      <td>-0.033499</td>\n",
       "      <td>-0.081007</td>\n",
       "      <td>0.030086</td>\n",
       "      <td>-0.068901</td>\n",
       "      <td>0.068101</td>\n",
       "      <td>...</td>\n",
       "      <td>-0.051613</td>\n",
       "      <td>-0.014525</td>\n",
       "      <td>-0.135907</td>\n",
       "      <td>0.176136</td>\n",
       "      <td>0.152002</td>\n",
       "      <td>0.062200</td>\n",
       "      <td>0.088317</td>\n",
       "      <td>-0.050616</td>\n",
       "      <td>-0.015116</td>\n",
       "      <td>-0.056683</td>\n",
       "    </tr>\n",
       "    <tr>\n",
       "      <th>GarageAge</th>\n",
       "      <td>0.000984</td>\n",
       "      <td>0.043358</td>\n",
       "      <td>-0.426322</td>\n",
       "      <td>0.299098</td>\n",
       "      <td>-0.560442</td>\n",
       "      <td>-0.209833</td>\n",
       "      <td>-0.114104</td>\n",
       "      <td>-0.171696</td>\n",
       "      <td>-0.256237</td>\n",
       "      <td>-0.176382</td>\n",
       "      <td>...</td>\n",
       "      <td>0.090998</td>\n",
       "      <td>0.015008</td>\n",
       "      <td>-0.387809</td>\n",
       "      <td>0.687880</td>\n",
       "      <td>0.563771</td>\n",
       "      <td>1.000000</td>\n",
       "      <td>-0.424965</td>\n",
       "      <td>-0.083401</td>\n",
       "      <td>0.022329</td>\n",
       "      <td>0.066453</td>\n",
       "    </tr>\n",
       "    <tr>\n",
       "      <th>ReModelAge</th>\n",
       "      <td>-0.058459</td>\n",
       "      <td>-0.014602</td>\n",
       "      <td>-0.551877</td>\n",
       "      <td>-0.071008</td>\n",
       "      <td>-0.997973</td>\n",
       "      <td>-0.182471</td>\n",
       "      <td>-0.127636</td>\n",
       "      <td>-0.183483</td>\n",
       "      <td>-0.291886</td>\n",
       "      <td>-0.240874</td>\n",
       "      <td>...</td>\n",
       "      <td>0.039694</td>\n",
       "      <td>-0.010045</td>\n",
       "      <td>-0.508730</td>\n",
       "      <td>0.594056</td>\n",
       "      <td>1.000000</td>\n",
       "      <td>0.563771</td>\n",
       "      <td>-0.453804</td>\n",
       "      <td>-0.114093</td>\n",
       "      <td>-0.041479</td>\n",
       "      <td>-0.023339</td>\n",
       "    </tr>\n",
       "    <tr>\n",
       "      <th>Age</th>\n",
       "      <td>-0.081050</td>\n",
       "      <td>-0.014824</td>\n",
       "      <td>-0.572166</td>\n",
       "      <td>0.377342</td>\n",
       "      <td>-0.590248</td>\n",
       "      <td>-0.317594</td>\n",
       "      <td>-0.248628</td>\n",
       "      <td>-0.150376</td>\n",
       "      <td>-0.391443</td>\n",
       "      <td>-0.281941</td>\n",
       "      <td>...</td>\n",
       "      <td>0.050934</td>\n",
       "      <td>-0.007815</td>\n",
       "      <td>-0.523063</td>\n",
       "      <td>1.000000</td>\n",
       "      <td>0.594056</td>\n",
       "      <td>0.687880</td>\n",
       "      <td>-0.501413</td>\n",
       "      <td>-0.177565</td>\n",
       "      <td>-0.041384</td>\n",
       "      <td>0.122939</td>\n",
       "    </tr>\n",
       "  </tbody>\n",
       "</table>\n",
       "<p>34 rows × 34 columns</p>\n",
       "</div>"
      ],
      "text/plain": [
       "                   LotFrontage   LotArea  OverallQual  OverallCond  \\\n",
       "SalePrice             0.317984  0.263843     0.790982    -0.077856   \n",
       "OverallQual           0.180773  0.105806     1.000000    -0.091932   \n",
       "GrLivArea             0.350597  0.263116     0.593007    -0.079686   \n",
       "GarageCars            0.245384  0.154871     0.600671    -0.185758   \n",
       "GarageArea            0.293183  0.180403     0.562022    -0.151521   \n",
       "TotalBsmtSF           0.343854  0.260833     0.537808    -0.171098   \n",
       "1stFlrSF              0.406076  0.299475     0.476224    -0.144203   \n",
       "Baths                 0.162180  0.114805     0.585038    -0.192197   \n",
       "FullBath              0.176306  0.126031     0.550600    -0.194149   \n",
       "TotRmsAbvGrd          0.289863  0.190015     0.427452    -0.057583   \n",
       "YearRemodAdd          0.058404  0.013691     0.550610     0.073761   \n",
       "MasVnrArea            0.172676  0.105755     0.413362    -0.131388   \n",
       "Fireplaces            0.278247  0.271364     0.396765    -0.023820   \n",
       "BsmtFinSF1            0.226391  0.214103     0.239666    -0.046231   \n",
       "WoodDeckSF            0.131179  0.171698     0.238923    -0.003334   \n",
       "2ndFlrSF              0.059436  0.050986     0.295493     0.028942   \n",
       "Total_sqr_footage     0.657915  0.997079     0.156239    -0.016874   \n",
       "LotFrontage           1.000000  0.642975     0.180773    -0.029074   \n",
       "OpenPorchSF           0.130800  0.084774     0.308819    -0.032589   \n",
       "HalfBath              0.023940  0.014259     0.273458    -0.060769   \n",
       "LotArea               0.642975  1.000000     0.105806    -0.005636   \n",
       "BsmtFullBath          0.112356  0.158155     0.111098    -0.054942   \n",
       "BsmtBaths             0.122088  0.170501     0.102640    -0.028049   \n",
       "BsmtUnfSF             0.087284 -0.002618     0.308159    -0.136841   \n",
       "Total_porch_sf        0.117511  0.071310     0.171172     0.056514   \n",
       "BedroomAbvGr          0.219632  0.119690     0.101676     0.012980   \n",
       "ScreenPorch           0.025030  0.043160     0.064886     0.054811   \n",
       "PoolArea              0.156634  0.077672     0.065166    -0.001985   \n",
       "3SsnPorch             0.060320  0.020423     0.030371     0.025504   \n",
       "OverallCond          -0.029074 -0.005636    -0.091932     1.000000   \n",
       "KitchenAbvGr         -0.006964 -0.017784    -0.183882    -0.087001   \n",
       "GarageAge             0.000984  0.043358    -0.426322     0.299098   \n",
       "ReModelAge           -0.058459 -0.014602    -0.551877    -0.071008   \n",
       "Age                  -0.081050 -0.014824    -0.572166     0.377342   \n",
       "\n",
       "                   YearRemodAdd  MasVnrArea  BsmtFinSF1  BsmtUnfSF  \\\n",
       "SalePrice              0.507118    0.478273    0.386420   0.214479   \n",
       "OverallQual            0.550610    0.413362    0.239666   0.308159   \n",
       "GrLivArea              0.287199    0.392902    0.208171   0.240257   \n",
       "GarageCars             0.420583    0.365436    0.224054   0.214175   \n",
       "GarageArea             0.371550    0.373820    0.296970   0.183303   \n",
       "TotalBsmtSF            0.290919    0.365767    0.522396   0.415360   \n",
       "1stFlrSF               0.240218    0.346115    0.445863   0.317987   \n",
       "Baths                  0.452705    0.322940    0.052395   0.233977   \n",
       "FullBath               0.438976    0.280255    0.058543   0.288886   \n",
       "TotRmsAbvGrd           0.191655    0.281377    0.044316   0.250647   \n",
       "YearRemodAdd           1.000000    0.181767    0.128323   0.181116   \n",
       "MasVnrArea             0.181767    1.000000    0.266982   0.114412   \n",
       "Fireplaces             0.112565    0.250601    0.260011   0.051575   \n",
       "BsmtFinSF1             0.128323    0.266982    1.000000  -0.495251   \n",
       "WoodDeckSF             0.205703    0.158318    0.204306  -0.005316   \n",
       "2ndFlrSF               0.139938    0.174185   -0.137079   0.004469   \n",
       "Total_sqr_footage      0.040452    0.138591    0.241193   0.027508   \n",
       "LotFrontage            0.058404    0.172676    0.226391   0.087284   \n",
       "OpenPorchSF            0.226126    0.128368    0.111761   0.129005   \n",
       "HalfBath               0.183297    0.202821    0.004262  -0.041118   \n",
       "LotArea                0.013691    0.105755    0.214103  -0.002618   \n",
       "BsmtFullBath           0.119437    0.088389    0.649212  -0.422900   \n",
       "BsmtBaths              0.117492    0.094959    0.669802  -0.448341   \n",
       "BsmtUnfSF              0.181116    0.114412   -0.495251   1.000000   \n",
       "Total_porch_sf         0.021851    0.055046    0.051199   0.078901   \n",
       "BedroomAbvGr          -0.040588    0.103105   -0.107355   0.166643   \n",
       "ScreenPorch           -0.038732    0.059981    0.062021  -0.012579   \n",
       "PoolArea               0.005832    0.011359    0.140491  -0.035092   \n",
       "3SsnPorch              0.045291    0.018181    0.026451   0.020764   \n",
       "OverallCond            0.073761   -0.131388   -0.046231  -0.136841   \n",
       "KitchenAbvGr          -0.149596   -0.033499   -0.081007   0.030086   \n",
       "GarageAge             -0.560442   -0.209833   -0.114104  -0.171696   \n",
       "ReModelAge            -0.997973   -0.182471   -0.127636  -0.183483   \n",
       "Age                   -0.590248   -0.317594   -0.248628  -0.150376   \n",
       "\n",
       "                   TotalBsmtSF  1stFlrSF  ...  ScreenPorch  PoolArea  \\\n",
       "SalePrice             0.613581  0.605852  ...     0.111447  0.092404   \n",
       "OverallQual           0.537808  0.476224  ...     0.064886  0.065166   \n",
       "GrLivArea             0.454868  0.566024  ...     0.101510  0.170205   \n",
       "GarageCars            0.434585  0.439317  ...     0.050494  0.020934   \n",
       "GarageArea            0.486665  0.489782  ...     0.051412  0.061047   \n",
       "TotalBsmtSF           1.000000  0.819530  ...     0.084489  0.126053   \n",
       "1stFlrSF              0.819530  1.000000  ...     0.088758  0.131525   \n",
       "Baths                 0.261114  0.282300  ...     0.021611  0.051815   \n",
       "FullBath              0.323722  0.380637  ...    -0.008106  0.049604   \n",
       "TotRmsAbvGrd          0.285573  0.409516  ...     0.059383  0.083757   \n",
       "YearRemodAdd          0.290919  0.240218  ...    -0.038732  0.005832   \n",
       "MasVnrArea            0.365767  0.346115  ...     0.059981  0.011359   \n",
       "Fireplaces            0.339519  0.410531  ...     0.184530  0.095074   \n",
       "BsmtFinSF1            0.522396  0.445863  ...     0.062021  0.140491   \n",
       "WoodDeckSF            0.232019  0.235459  ...    -0.074181  0.073378   \n",
       "2ndFlrSF             -0.174512 -0.202646  ...     0.040606  0.081487   \n",
       "Total_sqr_footage     0.319680  0.355234  ...     0.050780  0.089635   \n",
       "LotFrontage           0.343854  0.406076  ...     0.025030  0.156634   \n",
       "OpenPorchSF           0.247264  0.211671  ...     0.074304  0.060762   \n",
       "HalfBath             -0.048804 -0.119916  ...     0.072426  0.022381   \n",
       "LotArea               0.260833  0.299475  ...     0.043160  0.077672   \n",
       "BsmtFullBath          0.307351  0.244671  ...     0.023148  0.067616   \n",
       "BsmtBaths             0.309627  0.246994  ...     0.030771  0.072774   \n",
       "BsmtUnfSF             0.415360  0.317987  ...    -0.012579 -0.035092   \n",
       "Total_porch_sf        0.155471  0.158072  ...     0.519955  0.094734   \n",
       "BedroomAbvGr          0.050450  0.127401  ...     0.044300  0.070703   \n",
       "ScreenPorch           0.084489  0.088758  ...     1.000000  0.051307   \n",
       "PoolArea              0.126053  0.131525  ...     0.051307  1.000000   \n",
       "3SsnPorch             0.037384  0.056104  ...    -0.031436 -0.007992   \n",
       "OverallCond          -0.171098 -0.144203  ...     0.054811 -0.001985   \n",
       "KitchenAbvGr         -0.068901  0.068101  ...    -0.051613 -0.014525   \n",
       "GarageAge            -0.256237 -0.176382  ...     0.090998  0.015008   \n",
       "ReModelAge           -0.291886 -0.240874  ...     0.039694 -0.010045   \n",
       "Age                  -0.391443 -0.281941  ...     0.050934 -0.007815   \n",
       "\n",
       "                   SalePrice       Age  ReModelAge  GarageAge     Baths  \\\n",
       "SalePrice           1.000000 -0.523063   -0.508730  -0.387809  0.597966   \n",
       "OverallQual         0.790982 -0.572166   -0.551877  -0.426322  0.585038   \n",
       "GrLivArea           0.708624 -0.199951   -0.289148  -0.173501  0.710087   \n",
       "GarageCars          0.640409 -0.538486   -0.422872  -0.308172  0.493479   \n",
       "GarageArea          0.623431 -0.479253   -0.373195  -0.311985  0.416037   \n",
       "TotalBsmtSF         0.613581 -0.391443   -0.291886  -0.256237  0.261114   \n",
       "1stFlrSF            0.605852 -0.281941   -0.240874  -0.176382  0.282300   \n",
       "Baths               0.597966 -0.501413   -0.453804  -0.424965  1.000000   \n",
       "FullBath            0.560664 -0.468039   -0.439855  -0.419795  0.920116   \n",
       "TotRmsAbvGrd        0.533723 -0.096691   -0.193571  -0.112686  0.616319   \n",
       "YearRemodAdd        0.507118 -0.590248   -0.997973  -0.560442  0.452705   \n",
       "MasVnrArea          0.478273 -0.317594   -0.182471  -0.209833  0.322940   \n",
       "Fireplaces          0.466929 -0.148215   -0.113667   0.005946  0.291578   \n",
       "BsmtFinSF1          0.386420 -0.248628   -0.127636  -0.114104  0.052395   \n",
       "WoodDeckSF          0.324413 -0.223420   -0.204145  -0.181823  0.205317   \n",
       "2ndFlrSF            0.319334 -0.011291   -0.141473  -0.051229  0.606039   \n",
       "Total_sqr_footage   0.319082 -0.041384   -0.041479   0.022329  0.159158   \n",
       "LotFrontage         0.317984 -0.081050   -0.058459   0.000984  0.162180   \n",
       "OpenPorchSF         0.315856 -0.190411   -0.229171  -0.202316  0.304158   \n",
       "HalfBath            0.284108 -0.242822   -0.184150  -0.155155  0.513473   \n",
       "LotArea             0.263843 -0.014824   -0.014602   0.043358  0.114805   \n",
       "BsmtFullBath        0.227122 -0.184571   -0.115460  -0.100234 -0.068098   \n",
       "BsmtBaths           0.224953 -0.177565   -0.114093  -0.083401 -0.080700   \n",
       "BsmtUnfSF           0.214479 -0.150376   -0.183483  -0.171696  0.233977   \n",
       "Total_porch_sf      0.195739  0.122939   -0.023339   0.066453  0.131201   \n",
       "BedroomAbvGr        0.168213  0.069314    0.038799   0.054886  0.404253   \n",
       "ScreenPorch         0.111447  0.050934    0.039694   0.090998  0.021611   \n",
       "PoolArea            0.092404 -0.007815   -0.010045   0.015008  0.051815   \n",
       "3SsnPorch           0.044584 -0.030271   -0.043792  -0.013625  0.028657   \n",
       "OverallCond        -0.077856  0.377342   -0.071008   0.299098 -0.192197   \n",
       "KitchenAbvGr       -0.135907  0.176136    0.152002   0.062200  0.088317   \n",
       "GarageAge          -0.387809  0.687880    0.563771   1.000000 -0.424965   \n",
       "ReModelAge         -0.508730  0.594056    1.000000   0.563771 -0.453804   \n",
       "Age                -0.523063  1.000000    0.594056   0.687880 -0.501413   \n",
       "\n",
       "                   BsmtBaths  Total_sqr_footage  Total_porch_sf  \n",
       "SalePrice           0.224953           0.319082        0.195739  \n",
       "OverallQual         0.102640           0.156239        0.171172  \n",
       "GrLivArea           0.030717           0.326509        0.272853  \n",
       "GarageCars          0.128046           0.193102        0.083265  \n",
       "GarageArea          0.174871           0.220247        0.118346  \n",
       "TotalBsmtSF         0.309627           0.319680        0.155471  \n",
       "1stFlrSF            0.246994           0.355234        0.158072  \n",
       "Baths              -0.080700           0.159158        0.131201  \n",
       "FullBath           -0.077647           0.168651        0.102435  \n",
       "TotRmsAbvGrd       -0.059208           0.239250        0.179536  \n",
       "YearRemodAdd        0.117492           0.040452        0.021851  \n",
       "MasVnrArea          0.094959           0.138591        0.055046  \n",
       "Fireplaces          0.145699           0.302039        0.193231  \n",
       "BsmtFinSF1          0.669802           0.241193        0.051199  \n",
       "WoodDeckSF          0.185965           0.189554       -0.084709  \n",
       "2ndFlrSF           -0.176319           0.077321        0.181782  \n",
       "Total_sqr_footage   0.180612           1.000000        0.089960  \n",
       "LotFrontage         0.122088           0.657915        0.117511  \n",
       "OpenPorchSF         0.061986           0.109914        0.613543  \n",
       "HalfBath           -0.034002           0.033067        0.107432  \n",
       "LotArea             0.170501           0.997079        0.071310  \n",
       "BsmtFullBath        0.973365           0.168719        0.025657  \n",
       "BsmtBaths           1.000000           0.180612        0.027218  \n",
       "BsmtUnfSF          -0.448341           0.027508        0.078901  \n",
       "Total_porch_sf      0.027218           0.089960        1.000000  \n",
       "BedroomAbvGr       -0.141041           0.145237        0.099901  \n",
       "ScreenPorch         0.030771           0.050780        0.519955  \n",
       "PoolArea            0.072774           0.089635        0.094734  \n",
       "3SsnPorch           0.008033           0.022515        0.236689  \n",
       "OverallCond        -0.028049          -0.016874        0.056514  \n",
       "KitchenAbvGr       -0.050616          -0.015116       -0.056683  \n",
       "GarageAge          -0.083401           0.022329        0.066453  \n",
       "ReModelAge         -0.114093          -0.041479       -0.023339  \n",
       "Age                -0.177565          -0.041384        0.122939  \n",
       "\n",
       "[34 rows x 34 columns]"
      ]
     },
     "execution_count": 22,
     "metadata": {},
     "output_type": "execute_result"
    }
   ],
   "source": [
    "train.corr().sort_values(by='SalePrice',ascending=False)"
   ]
  },
  {
   "cell_type": "markdown",
   "id": "5dd7d42c",
   "metadata": {
    "papermill": {
     "duration": 0.052317,
     "end_time": "2023-01-18T00:48:16.110249",
     "exception": false,
     "start_time": "2023-01-18T00:48:16.057932",
     "status": "completed"
    },
    "tags": []
   },
   "source": [
    "#### Ordinal Encoding"
   ]
  },
  {
   "cell_type": "markdown",
   "id": "710a1ce1",
   "metadata": {
    "papermill": {
     "duration": 0.051797,
     "end_time": "2023-01-18T00:48:16.213998",
     "exception": false,
     "start_time": "2023-01-18T00:48:16.162201",
     "status": "completed"
    },
    "tags": []
   },
   "source": [
    "* Some of the numerical features gives ratings of quality in ordinal scale. \n",
    "\n",
    "\n",
    "* These variables should be ordinal encoded instead of categorical one-hot encoded. For example, a categorical feature's presence or absence affects the predictions but for the ordinal scaled variable it is the degree of the presence of values.\n",
    "\n",
    "\n",
    "* In the usual sklearn.OrdinalScale function, it is not possible to give the order of the values - which is necessary for any ordinal encoding. However, this is possible with another sklearn library. We can use thecategory_encoders library of sklearn\n",
    "\n",
    "\n",
    "* The mapping of the values have to be done manually and then provided for encoding"
   ]
  },
  {
   "cell_type": "code",
   "execution_count": 23,
   "id": "f1cf59cb",
   "metadata": {
    "execution": {
     "iopub.execute_input": "2023-01-18T00:48:16.321424Z",
     "iopub.status.busy": "2023-01-18T00:48:16.320324Z",
     "iopub.status.idle": "2023-01-18T00:48:16.326147Z",
     "shell.execute_reply": "2023-01-18T00:48:16.325248Z"
    },
    "papermill": {
     "duration": 0.061727,
     "end_time": "2023-01-18T00:48:16.328204",
     "exception": false,
     "start_time": "2023-01-18T00:48:16.266477",
     "status": "completed"
    },
    "tags": []
   },
   "outputs": [],
   "source": [
    "ordlabels=set([\"ExterCond\",\"ExterQual\",\"BsmtQual\",\"BsmtCond\", \"BsmtExposure\",\"HeatingQC\", \n",
    "                \"FireplaceQu\", \"KitchenQual\",\"GarageQual\", \"GarageCond\", \"PoolQC\", \n",
    "                \"OverallQual\",\"OverallCond\"           \n",
    "              ])\n",
    "\n",
    "# \"GarageFlag\",'haspool','has2ndfloor','hasbsmt','hasfence','PremiumFlag'"
   ]
  },
  {
   "cell_type": "code",
   "execution_count": 24,
   "id": "c0f6dbda",
   "metadata": {
    "execution": {
     "iopub.execute_input": "2023-01-18T00:48:16.436989Z",
     "iopub.status.busy": "2023-01-18T00:48:16.435998Z",
     "iopub.status.idle": "2023-01-18T00:48:16.529723Z",
     "shell.execute_reply": "2023-01-18T00:48:16.528708Z"
    },
    "papermill": {
     "duration": 0.151218,
     "end_time": "2023-01-18T00:48:16.532438",
     "exception": false,
     "start_time": "2023-01-18T00:48:16.381220",
     "status": "completed"
    },
    "tags": []
   },
   "outputs": [],
   "source": [
    "import category_encoders as ce\n",
    "\n",
    "ordinal_mappings = {\n",
    "    \n",
    "    \"ExterCond\": ['None','Po','Fa','TA','Gd','Ex'],      \n",
    "    \"ExterQual\": ['None','Po','Fa','TA','Gd','Ex'],     \n",
    "    \"BsmtQual\": ['None','Po','Fa','TA','Gd','Ex'], \n",
    "    \"BsmtCond\": ['None','Po','Fa','TA','Gd','Ex'], \n",
    "    \"BsmtExposure\": ['None','No','Mn','Av','Gd'], \n",
    "    \"HeatingQC\": ['None','Po','Fa','TA','Gd','Ex'],     \n",
    "    \"FireplaceQu\": ['None','Po','Fa','TA','Gd','Ex'], \n",
    "    \"KitchenQual\": ['None','Po','Fa','TA','Gd','Ex'], \n",
    "    \"GarageQual\": ['None','Po','Fa','TA','Gd','Ex'], \n",
    "    \"GarageCond\": ['None','Po','Fa','TA','Gd','Ex'], \n",
    "    \"PoolQC\": ['None','Fa','TA','Gd','Ex'],   \n",
    "    \"OverallCond\": ['None',1,2,3,4,5,6,7,8,9,10],\n",
    "    \"OverallQual\": ['None',1,2,3,4,5,6,7,8,9,10]\n",
    "}\n",
    "\n",
    "ce_ordinal_mappings = []\n",
    "for col, unique_values in ordinal_mappings.items():\n",
    "    local_mapping = {val:idx for idx, val in enumerate(unique_values)}\n",
    "    ce_ordinal_mappings.append({\"col\":col, \"mapping\":local_mapping})\n",
    "    \n",
    "y=train['SalePrice']\n",
    "train=train.drop('SalePrice',axis=1)\n",
    "\n",
    "encoder = ce.OrdinalEncoder(cols=list(ordlabels),mapping=ce_ordinal_mappings, return_df=True)\n",
    "encoder.fit(train)\n",
    "train=encoder.transform(train)\n",
    "\n",
    "#Add back the sale price column which was dropped before encoding\n",
    "train['SalePrice']=y"
   ]
  },
  {
   "cell_type": "markdown",
   "id": "fe04189c",
   "metadata": {
    "papermill": {
     "duration": 0.052098,
     "end_time": "2023-01-18T00:48:16.637040",
     "exception": false,
     "start_time": "2023-01-18T00:48:16.584942",
     "status": "completed"
    },
    "tags": []
   },
   "source": [
    "#### Checking the encoding of variables"
   ]
  },
  {
   "cell_type": "markdown",
   "id": "3e8eca30",
   "metadata": {
    "papermill": {
     "duration": 0.051686,
     "end_time": "2023-01-18T00:48:16.740812",
     "exception": false,
     "start_time": "2023-01-18T00:48:16.689126",
     "status": "completed"
    },
    "tags": []
   },
   "source": [
    "Total columns are original columns + columns added - columns deleted = 80-13-9=84"
   ]
  },
  {
   "cell_type": "code",
   "execution_count": 25,
   "id": "3c439d4c",
   "metadata": {
    "execution": {
     "iopub.execute_input": "2023-01-18T00:48:16.846748Z",
     "iopub.status.busy": "2023-01-18T00:48:16.845782Z",
     "iopub.status.idle": "2023-01-18T00:48:16.852782Z",
     "shell.execute_reply": "2023-01-18T00:48:16.851813Z"
    },
    "papermill": {
     "duration": 0.062332,
     "end_time": "2023-01-18T00:48:16.854764",
     "exception": false,
     "start_time": "2023-01-18T00:48:16.792432",
     "status": "completed"
    },
    "tags": []
   },
   "outputs": [
    {
     "data": {
      "text/plain": [
       "84"
      ]
     },
     "execution_count": 25,
     "metadata": {},
     "output_type": "execute_result"
    }
   ],
   "source": [
    "train.shape[1]"
   ]
  },
  {
   "cell_type": "markdown",
   "id": "55de5750",
   "metadata": {
    "papermill": {
     "duration": 0.052628,
     "end_time": "2023-01-18T00:48:16.960614",
     "exception": false,
     "start_time": "2023-01-18T00:48:16.907986",
     "status": "completed"
    },
    "tags": []
   },
   "source": [
    "Total columns consists of ordinal encoded columns, numerical columns to be normalized and columns to be one-hot encoded"
   ]
  },
  {
   "cell_type": "code",
   "execution_count": 26,
   "id": "929c0ecd",
   "metadata": {
    "execution": {
     "iopub.execute_input": "2023-01-18T00:48:17.067635Z",
     "iopub.status.busy": "2023-01-18T00:48:17.066664Z",
     "iopub.status.idle": "2023-01-18T00:48:17.078739Z",
     "shell.execute_reply": "2023-01-18T00:48:17.077730Z"
    },
    "papermill": {
     "duration": 0.068219,
     "end_time": "2023-01-18T00:48:17.081064",
     "exception": false,
     "start_time": "2023-01-18T00:48:17.012845",
     "status": "completed"
    },
    "tags": []
   },
   "outputs": [
    {
     "data": {
      "text/plain": [
       "True"
      ]
     },
     "execution_count": 26,
     "metadata": {},
     "output_type": "execute_result"
    }
   ],
   "source": [
    "colint=set(train.select_dtypes(exclude='O').columns).difference(ordlabels)\n",
    "colint.remove('SalePrice')\n",
    "catlabels=set(train.select_dtypes(include='O').columns).difference(ordlabels)\n",
    "len(ordlabels)+len(colint)+len(catlabels)==train.shape[1]-1"
   ]
  },
  {
   "cell_type": "markdown",
   "id": "d67995b9",
   "metadata": {
    "papermill": {
     "duration": 0.052364,
     "end_time": "2023-01-18T00:48:17.186459",
     "exception": false,
     "start_time": "2023-01-18T00:48:17.134095",
     "status": "completed"
    },
    "tags": []
   },
   "source": [
    "Total number of features other than target variable should be 83"
   ]
  },
  {
   "cell_type": "code",
   "execution_count": 27,
   "id": "36253b08",
   "metadata": {
    "execution": {
     "iopub.execute_input": "2023-01-18T00:48:17.292913Z",
     "iopub.status.busy": "2023-01-18T00:48:17.292544Z",
     "iopub.status.idle": "2023-01-18T00:48:17.299101Z",
     "shell.execute_reply": "2023-01-18T00:48:17.298147Z"
    },
    "papermill": {
     "duration": 0.063523,
     "end_time": "2023-01-18T00:48:17.302035",
     "exception": false,
     "start_time": "2023-01-18T00:48:17.238512",
     "status": "completed"
    },
    "tags": []
   },
   "outputs": [
    {
     "name": "stdout",
     "output_type": "stream",
     "text": [
      "Features to be Ordinal Encoded:  13 \n",
      " Features to be onehot encoded:  39 \n",
      " Features to be normalized:  31 \n",
      " Features deleted:  9 \n",
      " Total Number of Features:  83 \n",
      " Sanity check: Target Variabe exlcuded:  True\n"
     ]
    }
   ],
   "source": [
    "normlabels=set(colint)\n",
    "\n",
    "print('Features to be Ordinal Encoded: ',len(ordlabels),'\\n','Features to be onehot encoded: ',len(catlabels),'\\n',\n",
    "      'Features to be normalized: ',len(normlabels),'\\n','Features deleted: ',len(coldel),'\\n',\n",
    "      'Total Number of Features: ',(len(catlabels)+len(ordlabels)+len(normlabels)),'\\n',\n",
    "       \n",
    "      'Sanity check: Target Variabe exlcuded: ',(92-len(catlabels)-len(ordlabels)-len(normlabels)\n",
    "                                   -len(coldel))==0) "
   ]
  },
  {
   "cell_type": "markdown",
   "id": "ffaa1d55",
   "metadata": {
    "papermill": {
     "duration": 0.057261,
     "end_time": "2023-01-18T00:48:17.422789",
     "exception": false,
     "start_time": "2023-01-18T00:48:17.365528",
     "status": "completed"
    },
    "tags": []
   },
   "source": [
    "#### Transformation of Skewed Variables"
   ]
  },
  {
   "cell_type": "code",
   "execution_count": 28,
   "id": "6a97106d",
   "metadata": {
    "execution": {
     "iopub.execute_input": "2023-01-18T00:48:17.534295Z",
     "iopub.status.busy": "2023-01-18T00:48:17.533898Z",
     "iopub.status.idle": "2023-01-18T00:48:17.561093Z",
     "shell.execute_reply": "2023-01-18T00:48:17.559107Z"
    },
    "papermill": {
     "duration": 0.08697,
     "end_time": "2023-01-18T00:48:17.563168",
     "exception": false,
     "start_time": "2023-01-18T00:48:17.476198",
     "status": "completed"
    },
    "tags": []
   },
   "outputs": [
    {
     "name": "stdout",
     "output_type": "stream",
     "text": [
      "<class 'pandas.core.frame.DataFrame'>\n",
      "RangeIndex: 1460 entries, 0 to 1459\n",
      "Data columns (total 32 columns):\n",
      " #   Column             Non-Null Count  Dtype  \n",
      "---  ------             --------------  -----  \n",
      " 0   PoolQC             1460 non-null   int64  \n",
      " 1   PoolArea           1460 non-null   int64  \n",
      " 2   haspool            1460 non-null   object \n",
      " 3   LotArea            1460 non-null   int64  \n",
      " 4   Total_sqr_footage  1460 non-null   int64  \n",
      " 5   3SsnPorch          1460 non-null   int64  \n",
      " 6   KitchenAbvGr       1460 non-null   int64  \n",
      " 7   PremiumFlag        1460 non-null   object \n",
      " 8   LotFrontage        1460 non-null   float64\n",
      " 9   ScreenPorch        1460 non-null   int64  \n",
      " 10  MasVnrArea         1460 non-null   float64\n",
      " 11  OpenPorchSF        1460 non-null   int64  \n",
      " 12  Total_porch_sf     1460 non-null   int64  \n",
      " 13  SalePrice          1460 non-null   int64  \n",
      " 14  BsmtFinSF1         1460 non-null   int64  \n",
      " 15  WoodDeckSF         1460 non-null   int64  \n",
      " 16  TotalBsmtSF        1460 non-null   int64  \n",
      " 17  MSSubClass         1460 non-null   object \n",
      " 18  ExterCond          1460 non-null   int64  \n",
      " 19  1stFlrSF           1460 non-null   int64  \n",
      " 20  GrLivArea          1460 non-null   int64  \n",
      " 21  BsmtExposure       1460 non-null   int64  \n",
      " 22  BsmtUnfSF          1460 non-null   int64  \n",
      " 23  ExterQual          1460 non-null   int64  \n",
      " 24  2ndFlrSF           1460 non-null   int64  \n",
      " 25  BsmtQual           1460 non-null   int64  \n",
      " 26  hasfence           1460 non-null   object \n",
      " 27  GarageQual         1460 non-null   int64  \n",
      " 28  GarageCond         1460 non-null   int64  \n",
      " 29  BsmtCond           1460 non-null   int64  \n",
      " 30  GarageFlag         1460 non-null   object \n",
      " 31  hasbsmt            1460 non-null   object \n",
      "dtypes: float64(2), int64(24), object(6)\n",
      "memory usage: 365.1+ KB\n"
     ]
    }
   ],
   "source": [
    "skewness = train.skew().sort_values(ascending=False)\n",
    "skewness = skewness[abs(skewness) > 0.75]\n",
    "\n",
    "train[skewness.index.values.tolist()].info() "
   ]
  },
  {
   "cell_type": "markdown",
   "id": "a141bd86",
   "metadata": {
    "papermill": {
     "duration": 0.053091,
     "end_time": "2023-01-18T00:48:17.669441",
     "exception": false,
     "start_time": "2023-01-18T00:48:17.616350",
     "status": "completed"
    },
    "tags": []
   },
   "source": [
    "* Transformation of skewed variables results only in a very slight improvement in accuracy. I am transforming only the continuous numerical variables and excluding the discrete numerical variables and ordinal scaled variables.  "
   ]
  },
  {
   "cell_type": "code",
   "execution_count": 29,
   "id": "681d8ecc",
   "metadata": {
    "execution": {
     "iopub.execute_input": "2023-01-18T00:48:17.776438Z",
     "iopub.status.busy": "2023-01-18T00:48:17.775518Z",
     "iopub.status.idle": "2023-01-18T00:48:17.789506Z",
     "shell.execute_reply": "2023-01-18T00:48:17.788657Z"
    },
    "papermill": {
     "duration": 0.069488,
     "end_time": "2023-01-18T00:48:17.791687",
     "exception": false,
     "start_time": "2023-01-18T00:48:17.722199",
     "status": "completed"
    },
    "tags": []
   },
   "outputs": [],
   "source": [
    "skewness = skewness[abs(skewness) > 0.5]\n",
    "skewed_cols = skewness.index\n",
    "\n",
    "rv=['MSSubClass','SalePrice','Age','BsmtBaths','BsmtFullBath','Fireplaces','GarageAge','KitchenAbvGr','ReModelAge',\n",
    "   'TotRmsAbvGrd',\"GarageFlag\",'haspool','has2ndfloor','hasbsmt','hasfence','PremiumFlag','CentralAir']\n",
    "\n",
    "sk_train=set(skewed_cols).difference(set(rv)).difference(set(ordlabels))\n",
    "\n",
    "lamb = 0.15\n",
    "for cols in sk_train:  \n",
    "    train[cols] = boxcox1p(train[cols], lamb)\n",
    "    \n",
    "\n",
    "# Transforming with log gives slightly lesser accuracy    \n",
    "# for columns in sk_train:\n",
    "# #     print(np.log(1+train[columns]))\n",
    "#     col=str(columns)\n",
    "#     train[col] = np.log(1 + train[col])"
   ]
  },
  {
   "cell_type": "markdown",
   "id": "6349725e",
   "metadata": {
    "papermill": {
     "duration": 0.053308,
     "end_time": "2023-01-18T00:48:17.897162",
     "exception": false,
     "start_time": "2023-01-18T00:48:17.843854",
     "status": "completed"
    },
    "tags": []
   },
   "source": [
    "We need to do transformation for the same set of variables in set data also. Hence, it is necessary to save the list of columns transformed"
   ]
  },
  {
   "cell_type": "code",
   "execution_count": 30,
   "id": "dd4f4e7b",
   "metadata": {
    "execution": {
     "iopub.execute_input": "2023-01-18T00:48:18.001885Z",
     "iopub.status.busy": "2023-01-18T00:48:18.001561Z",
     "iopub.status.idle": "2023-01-18T00:48:18.007733Z",
     "shell.execute_reply": "2023-01-18T00:48:18.006802Z"
    },
    "papermill": {
     "duration": 0.061128,
     "end_time": "2023-01-18T00:48:18.009626",
     "exception": false,
     "start_time": "2023-01-18T00:48:17.948498",
     "status": "completed"
    },
    "tags": []
   },
   "outputs": [
    {
     "data": {
      "text/plain": [
       "{'1stFlrSF',\n",
       " '2ndFlrSF',\n",
       " '3SsnPorch',\n",
       " 'BsmtFinSF1',\n",
       " 'BsmtUnfSF',\n",
       " 'GrLivArea',\n",
       " 'LotArea',\n",
       " 'LotFrontage',\n",
       " 'MasVnrArea',\n",
       " 'OpenPorchSF',\n",
       " 'PoolArea',\n",
       " 'ScreenPorch',\n",
       " 'TotalBsmtSF',\n",
       " 'Total_porch_sf',\n",
       " 'Total_sqr_footage',\n",
       " 'WoodDeckSF'}"
      ]
     },
     "execution_count": 30,
     "metadata": {},
     "output_type": "execute_result"
    }
   ],
   "source": [
    "sk_train"
   ]
  },
  {
   "cell_type": "markdown",
   "id": "f1b4e1df",
   "metadata": {
    "papermill": {
     "duration": 0.05288,
     "end_time": "2023-01-18T00:48:18.114666",
     "exception": false,
     "start_time": "2023-01-18T00:48:18.061786",
     "status": "completed"
    },
    "tags": []
   },
   "source": [
    "Several experimentations and trials are done. It is better to save the output of processed dataset which can be reloaded when required instead of running all cells again"
   ]
  },
  {
   "cell_type": "code",
   "execution_count": 31,
   "id": "0e326ce8",
   "metadata": {
    "execution": {
     "iopub.execute_input": "2023-01-18T00:48:18.224695Z",
     "iopub.status.busy": "2023-01-18T00:48:18.222843Z",
     "iopub.status.idle": "2023-01-18T00:48:18.273001Z",
     "shell.execute_reply": "2023-01-18T00:48:18.271878Z"
    },
    "papermill": {
     "duration": 0.107329,
     "end_time": "2023-01-18T00:48:18.275050",
     "exception": false,
     "start_time": "2023-01-18T00:48:18.167721",
     "status": "completed"
    },
    "tags": []
   },
   "outputs": [],
   "source": [
    "train.to_csv(\"train2.csv\")"
   ]
  },
  {
   "cell_type": "markdown",
   "id": "d2828c83",
   "metadata": {
    "papermill": {
     "duration": 0.051756,
     "end_time": "2023-01-18T00:48:18.379945",
     "exception": false,
     "start_time": "2023-01-18T00:48:18.328189",
     "status": "completed"
    },
    "tags": []
   },
   "source": [
    "#### Final Encoding and Transformation"
   ]
  },
  {
   "cell_type": "code",
   "execution_count": 32,
   "id": "86295d2a",
   "metadata": {
    "execution": {
     "iopub.execute_input": "2023-01-18T00:48:18.486752Z",
     "iopub.status.busy": "2023-01-18T00:48:18.486049Z",
     "iopub.status.idle": "2023-01-18T00:48:18.494053Z",
     "shell.execute_reply": "2023-01-18T00:48:18.493220Z"
    },
    "papermill": {
     "duration": 0.063451,
     "end_time": "2023-01-18T00:48:18.496094",
     "exception": false,
     "start_time": "2023-01-18T00:48:18.432643",
     "status": "completed"
    },
    "tags": []
   },
   "outputs": [],
   "source": [
    "# The outliers are detected based on regression - refer my previous notebook. \n",
    "# The values are directly being used here for the sake of simplicity\n",
    "outliers=[ 523,  691,  803,  898, 1169, 1182, 1298, 1324]\n",
    "train.drop(outliers, inplace=True)"
   ]
  },
  {
   "cell_type": "code",
   "execution_count": 33,
   "id": "33f05df7",
   "metadata": {
    "execution": {
     "iopub.execute_input": "2023-01-18T00:48:18.602721Z",
     "iopub.status.busy": "2023-01-18T00:48:18.602105Z",
     "iopub.status.idle": "2023-01-18T00:48:18.611013Z",
     "shell.execute_reply": "2023-01-18T00:48:18.609955Z"
    },
    "papermill": {
     "duration": 0.064412,
     "end_time": "2023-01-18T00:48:18.612989",
     "exception": false,
     "start_time": "2023-01-18T00:48:18.548577",
     "status": "completed"
    },
    "tags": []
   },
   "outputs": [
    {
     "data": {
      "text/plain": [
       "((1452, 84), (1452, 83))"
      ]
     },
     "execution_count": 33,
     "metadata": {},
     "output_type": "execute_result"
    }
   ],
   "source": [
    "y=train['SalePrice']\n",
    "X=train.drop(columns='SalePrice')\n",
    "train.shape,X.shape"
   ]
  },
  {
   "cell_type": "code",
   "execution_count": 34,
   "id": "186651f4",
   "metadata": {
    "execution": {
     "iopub.execute_input": "2023-01-18T00:48:18.720413Z",
     "iopub.status.busy": "2023-01-18T00:48:18.719388Z",
     "iopub.status.idle": "2023-01-18T00:48:18.726738Z",
     "shell.execute_reply": "2023-01-18T00:48:18.725797Z"
    },
    "papermill": {
     "duration": 0.063589,
     "end_time": "2023-01-18T00:48:18.728716",
     "exception": false,
     "start_time": "2023-01-18T00:48:18.665127",
     "status": "completed"
    },
    "tags": []
   },
   "outputs": [
    {
     "data": {
      "text/plain": [
       "True"
      ]
     },
     "execution_count": 34,
     "metadata": {},
     "output_type": "execute_result"
    }
   ],
   "source": [
    "#Sanity check\n",
    "len(catlabels)+len(ordlabels)+len(colint)==train.shape[1]-1"
   ]
  },
  {
   "cell_type": "markdown",
   "id": "692dabec",
   "metadata": {
    "papermill": {
     "duration": 0.053444,
     "end_time": "2023-01-18T00:48:18.835585",
     "exception": false,
     "start_time": "2023-01-18T00:48:18.782141",
     "status": "completed"
    },
    "tags": []
   },
   "source": [
    "Normalizing the variables are important for deep learning models. Though the robustscaler results in better performance in the presence of skewed dataset, I found standard scaler to give better accuracy. Also, I chose not to scale the ordinal labels"
   ]
  },
  {
   "cell_type": "code",
   "execution_count": 35,
   "id": "04a3f468",
   "metadata": {
    "execution": {
     "iopub.execute_input": "2023-01-18T00:48:18.952036Z",
     "iopub.status.busy": "2023-01-18T00:48:18.951682Z",
     "iopub.status.idle": "2023-01-18T00:48:19.518013Z",
     "shell.execute_reply": "2023-01-18T00:48:19.517109Z"
    },
    "papermill": {
     "duration": 0.623377,
     "end_time": "2023-01-18T00:48:19.520266",
     "exception": false,
     "start_time": "2023-01-18T00:48:18.896889",
     "status": "completed"
    },
    "tags": []
   },
   "outputs": [
    {
     "data": {
      "text/plain": [
       "(1161, 281)"
      ]
     },
     "execution_count": 35,
     "metadata": {},
     "output_type": "execute_result"
    }
   ],
   "source": [
    "# Note that here in this notebook, X_train is after deletion of outliers \n",
    "# Variables other than ordinal encoded and one-hot-encoded are normalized using Standard Scaler Function\n",
    "\n",
    "ct=ColumnTransformer([('ohem1',OneHotEncoder(sparse=False,handle_unknown='ignore'),list(catlabels)),                                    \n",
    "                      ('rbsm1',StandardScaler(),list(normlabels))\n",
    "                     ], remainder='passthrough')\n",
    "ct.fit(X)\n",
    "X_train,X_test,y_train,y_test=train_test_split(X,y,test_size=0.2,shuffle=True,random_state=1123)\n",
    "X_train,X_test=ct.transform(X_train),ct.transform(X_test)\n",
    "\n",
    "# It is better to save the output - found helpful when running several experimentations\n",
    "X.to_csv(\"Xt.csv\")\n",
    "np.savetxt(\"y.csv\",y,delimiter=',')\n",
    "np.savetxt(\"X_test1.csv\",X_test,delimiter=',')\n",
    "np.savetxt(\"y_test1.csv\",y_test,delimiter=',')\n",
    "np.savetxt(\"X_train1.csv\",X_train,delimiter=',')\n",
    "np.savetxt(\"y_train1.csv\",y_train,delimiter=',')\n",
    "X1=ct.transform(X)\n",
    "np.savetxt(\"x1.csv\",X1,delimiter=',') \n",
    "\n",
    "X_train.shape"
   ]
  },
  {
   "cell_type": "markdown",
   "id": "5d6f277c",
   "metadata": {
    "papermill": {
     "duration": 0.051708,
     "end_time": "2023-01-18T00:48:19.625171",
     "exception": false,
     "start_time": "2023-01-18T00:48:19.573463",
     "status": "completed"
    },
    "tags": []
   },
   "source": [
    "### Test data preprocessing script"
   ]
  },
  {
   "cell_type": "code",
   "execution_count": 36,
   "id": "e6f30adb",
   "metadata": {
    "execution": {
     "iopub.execute_input": "2023-01-18T00:48:19.731455Z",
     "iopub.status.busy": "2023-01-18T00:48:19.731088Z",
     "iopub.status.idle": "2023-01-18T00:48:19.792545Z",
     "shell.execute_reply": "2023-01-18T00:48:19.791629Z"
    },
    "papermill": {
     "duration": 0.117625,
     "end_time": "2023-01-18T00:48:19.794724",
     "exception": false,
     "start_time": "2023-01-18T00:48:19.677099",
     "status": "completed"
    },
    "tags": []
   },
   "outputs": [],
   "source": [
    "testdata=pd.read_csv(\"../input/house-prices-advanced-regression-techniques/test.csv\")\n",
    "test_id=testdata[\"Id\"]\n",
    "def process_testdata2(file2,coldel,encoder,sk_train,ct):  \n",
    "\n",
    "    import numpy as np\n",
    "    import pandas as pd          \n",
    "    from sklearn.model_selection import train_test_split\n",
    "    from sklearn.compose import ColumnTransformer\n",
    "    from sklearn.preprocessing import RobustScaler\n",
    "    from sklearn.preprocessing import OneHotEncoder\n",
    "    from sklearn.preprocessing import OrdinalEncoder,StandardScaler,MinMaxScaler\n",
    "    from sklearn.feature_selection import RFE\n",
    "    from sklearn.linear_model import LinearRegression\n",
    "    from sklearn.linear_model import LinearRegression\n",
    "    import math\n",
    "    import matplotlib.pyplot as plt\n",
    "    from sklearn.metrics import mean_squared_error, r2_score\n",
    "    from sklearn.model_selection import KFold\n",
    "    \n",
    "    import category_encoders as ce\n",
    "    from scipy.special import boxcox1p\n",
    "\n",
    "    import xgboost as xg \n",
    "    import pickle\n",
    "\n",
    "    test_data1=pd.read_csv(file2)\n",
    "    test_data=pd.read_csv(file2)\n",
    "\n",
    "#     test_data1=pd.read_csv('test.csv')\n",
    "#     test_data=pd.read_csv('test.csv')\n",
    "\n",
    "    test_data1.drop(test_data1[test_data1.LotArea>200000].index,inplace=True)\n",
    "    test_data1.drop(test_data1[(test_data1.LotFrontage>300)].index,inplace=True)\n",
    "\n",
    "\n",
    "    from sklearn.linear_model import LinearRegression\n",
    "    lm2=LinearRegression()\n",
    "    x=test_data1[['LotArea']].copy()\n",
    "    x['LotFrontage']=test_data1['LotFrontage'].copy()\n",
    "\n",
    "    x.dropna(inplace=True)\n",
    "\n",
    "    xt=x.iloc[:,:-1]\n",
    "    yt=x['LotFrontage']\n",
    "    lm2.fit(xt,yt)\n",
    "\n",
    "    import math \n",
    "    for item in test_data[['LotFrontage','LotArea']].itertuples(): \n",
    "    #     print(item)\n",
    "\n",
    "        if math.isnan(item[1]):\n",
    "    #         print(np.array([[ test_data.iloc[item[0]].loc['LotArea'],test_data.iloc[item[0]].loc['SalePrice'] ]]))\n",
    "            value=np.round(np.squeeze(lm2.predict(np.array([[ test_data.iloc[item[0]].loc['LotArea']]] ))).tolist())\n",
    "            test_data.loc[item[0],'LotFrontage']=value\n",
    "\n",
    "    import warnings\n",
    "    warnings.filterwarnings('ignore') \n",
    "\n",
    "\n",
    "    test_data1.MasVnrType=test_data1.MasVnrType.fillna('Stone')\n",
    "    test_data1.loc[(test_data1.MasVnrType=='None') & (test_data1.MasVnrArea>0),'MasVnrType']='BrkFace'\n",
    "\n",
    "    idx1=test_data1[test_data1.MasVnrArea>1400].index\n",
    "#     idx2=test_data1[(test_data1.MasVnrArea>700) & (test_data1.SalePrice>600000)].index \n",
    "    test_data1.drop(idx1,inplace=True)\n",
    "#     test_data1.drop(idx2,inplace=True)\n",
    "    test_data1.drop(test_data1[test_data1.MasVnrArea==0].index,inplace=True)\n",
    "\n",
    "    test_data1.drop(test_data1[test_data1.GrLivArea>4000].index,inplace=True)\n",
    "\n",
    "    from sklearn.linear_model import LinearRegression\n",
    "    lmmvt=LinearRegression()\n",
    "    x=test_data1[['GrLivArea']].copy()\n",
    "    x['MasVnrArea']=test_data1['MasVnrArea'].copy()\n",
    "\n",
    "    x.dropna(inplace=True)\n",
    "\n",
    "    xt=x.iloc[:,:-1]\n",
    "    yt=x['MasVnrArea']\n",
    "    lmmvt.fit(xt,yt)\n",
    "\n",
    "    import math \n",
    "    for item in test_data[['MasVnrArea','GrLivArea']].itertuples(): \n",
    "    #     print(item)\n",
    "\n",
    "        if math.isnan(item[1]):\n",
    "    #         print(np.array([[ test_data.iloc[item[0]].loc['LotArea'],test_data.iloc[item[0]].loc['SalePrice'] ]]))\n",
    "            value=np.round(np.squeeze(lmmvt.predict(np.array([[ test_data.iloc[item[0]].loc['GrLivArea']]] ))).tolist())\n",
    "            test_data.loc[item[0],'MasVnrArea']=value\n",
    "\n",
    "    import warnings\n",
    "    warnings.filterwarnings('ignore') \n",
    "\n",
    "\n",
    "#     test_id=test_data['Id']\n",
    "    test_data.drop(columns=['Id'],inplace=True) \n",
    "\n",
    "\n",
    "    # #### 1. Preprocessing of Columns with Null values \n",
    "\n",
    "    # Object columns\n",
    "    test_data['Alley'].fillna('None',inplace=True)\n",
    "    test_data['BsmtQual'].fillna('None',inplace=True)\n",
    "    test_data['BsmtCond'].fillna('None',inplace=True)\n",
    "    test_data['BsmtExposure'].fillna('None',inplace=True) \n",
    "\n",
    "    test_data['BsmtFinType1'].fillna('None',inplace=True)\n",
    "    test_data['BsmtFinType2'].fillna('None',inplace=True)\n",
    "    test_data['Electrical'].fillna('SBrkr',inplace=True)\n",
    "    test_data['FireplaceQu'].fillna('None',inplace=True)\n",
    "    test_data['GarageType'].fillna('None',inplace=True)\n",
    "    test_data['GarageFinish'].fillna('None',inplace=True)\n",
    "    test_data['GarageQual'].fillna('None',inplace=True)\n",
    "    test_data['GarageCond'].fillna('None',inplace=True)\n",
    "\n",
    "    test_data['PoolQC'].fillna('None',inplace=True)\n",
    "    test_data.loc[test_data[(test_data.PoolArea>0) & (test_data.PoolQC.isna())].index,'PoolQC']='Fa'\n",
    "\n",
    "    test_data['Fence'].fillna('None',inplace=True)\n",
    "    test_data['MiscFeature'].fillna('None',inplace=True)\n",
    "\n",
    "\n",
    "    # Type Conversion\n",
    "    test_data['MSSubClass']=test_data['MSSubClass'].astype(str)\n",
    "\n",
    "    test_data.MasVnrType=test_data.MasVnrType.fillna('Stone')\n",
    "    test_data.loc[(test_data.MasVnrType=='None') & (test_data.MasVnrArea>0),'MasVnrType']='BrkFace'\n",
    "\n",
    "    test_data['GarageYrBlt']=test_data['GarageYrBlt'].fillna(0)\n",
    "\n",
    "    test_data.loc[test_data[test_data.GarageCars.isna()].index,\"GarageType\"]='None'\n",
    "\n",
    "\n",
    "    test_data.YrSold=np.where(test_data.YrSold<test_data.YearBuilt,test_data.YearBuilt,test_data.YrSold)\n",
    "    test_data.YearRemodAdd=np.where(test_data.YrSold<test_data.YearRemodAdd,test_data.YrSold,test_data.YearRemodAdd)\n",
    "    test_data.GarageYrBlt=np.where(test_data.GarageYrBlt>test_data.YrSold,test_data.YearBuilt,test_data.GarageYrBlt)\n",
    "\n",
    "\n",
    "    test_data.loc[455,'MSZoning']=\"C (all)\"\n",
    "    test_data.loc[756,'MSZoning']=\"C (all)\"\n",
    "    test_data.loc[1444,'MSZoning']=\"C (all)\"\n",
    "    test_data.loc[790,'MSZoning']=\"FV\"    \n",
    "    test_data.loc[[455,485],'Utilities']='AllPub'\n",
    "    test_data.loc[691,'Exterior1st']=\"Wd Sdng\"\n",
    "    test_data.loc[691,'Exterior2nd']=\"Wd Sdng\"\n",
    "    test_data.loc[95,'KitchenQual']='TA'\n",
    "    test_data.loc[[756,1013],'Functional']='Typ'\n",
    "    test_data.loc[666,'GarageYrBlt']=1910\n",
    "    test_data['GarageArea']=np.where(test_data.GarageYrBlt==0,0,test_data.GarageArea)\n",
    "    test_data.loc[1029,'SaleType']='WD' \n",
    "\n",
    "\n",
    "    idx=np.where(test_data[test_data.columns].count()<test_data.shape[0])\n",
    "    nullcol=test_data.columns[idx].values.tolist()\n",
    "    colcat1=test_data.select_dtypes(include='O').columns.tolist()\n",
    "    colint1=test_data.select_dtypes(exclude='O').columns.tolist()\n",
    "    nullcat=set(colcat1).intersection(nullcol)\n",
    "    for i in nullcat:\n",
    "        test_data[i].fillna('None',inplace=True)\n",
    "    nullint=set(nullcol).intersection(colint1)\n",
    "\n",
    "    for i in nullint:\n",
    "        test_data[i].fillna(0,inplace=True)\n",
    "    #     test_data[i].fillna(test_data[i].mean(),inplace=True)\n",
    "\n",
    "    len(colcat1),len(colint1),len(colcat1)+len(colint1)\n",
    "\n",
    "    print(\"Null columns: \",sum(test_data.isna().sum()))\n",
    "    test_data['Age']=test_data['YrSold']+test_data['MoSold']/12-test_data['YearBuilt']\n",
    "    test_data['ReModelAge']=test_data['YrSold']+test_data['MoSold']/12-test_data['YearRemodAdd']\n",
    "    test_data['GarageFlag']=np.where(test_data.GarageArea!=0,1,0)\n",
    "    test_data['GarageAge']=np.where(test_data.GarageArea!=0,test_data[\"YrSold\"]+test_data[\"MoSold\"]/12-test_data[\"GarageYrBlt\"],0)\n",
    "    test_data['Baths']=test_data['FullBath']+0.5*test_data['HalfBath']\n",
    "    test_data['BsmtBaths']=test_data['BsmtFullBath']+0.5*test_data['BsmtHalfBath']\n",
    "\n",
    "\n",
    "    test_data['haspool'] = test_data['PoolArea'].apply(lambda x: 1 if x > 0 else 0)\n",
    "    test_data['has2ndfloor'] = test_data['2ndFlrSF'].apply(lambda x: 1 if x > 0 else 0) \n",
    "    test_data['hasbsmt'] = test_data['TotalBsmtSF'].apply(lambda x: 1 if x > 0 else 0)\n",
    "    test_data['hasfence'] = test_data['Fence'].apply(lambda x: 1 if x==\"None\" else 0)\n",
    "\n",
    "    test_data['Total_sqr_footage'] = (test_data['TotalBsmtSF']+test_data['GrLivArea']+test_data['LotArea'])\n",
    "\n",
    "    test_data['Total_porch_sf'] = (test_data['OpenPorchSF'] + test_data['3SsnPorch'] +\n",
    "                              test_data['EnclosedPorch'] + test_data['ScreenPorch'])\n",
    "\n",
    "\n",
    "    p=['StoneBr','NrdigHt','NoRidge']\n",
    "\n",
    "    test_data['PremiumFlag']=test_data['Neighborhood'].apply(lambda x: 1 if x in p else 0)\n",
    "\n",
    "\n",
    "    test_data[\"CentralAir\"]=test_data[\"CentralAir\"].astype(str)\n",
    "    test_data['haspool']=test_data['haspool'].astype(str)\n",
    "    test_data['has2ndfloor']=test_data['has2ndfloor'].astype(str)\n",
    "    test_data['hasbsmt']=test_data['hasbsmt'].astype(str)\n",
    "    test_data['hasfence']=test_data['hasfence'].astype(str)\n",
    "    test_data['PremiumFlag']=test_data['PremiumFlag'].astype(str)\n",
    "    test_data[\"GarageFlag\"]=test_data[\"GarageFlag\"].astype(str)\n",
    "\n",
    "    test_data.drop(columns=coldel,inplace=True)\n",
    "\n",
    "    print(len(coldel),\" columns deleted\")\n",
    "\n",
    "    test_data2=encoder.transform(test_data)\n",
    "\n",
    "\n",
    "#     skewness = skewness[abs(skewness) > 0.75]\n",
    "\n",
    "    from scipy.special import boxcox1p\n",
    "#     skewed_cols = skewness.index\n",
    "\n",
    "#     rv=['MSSubClass','SalePrice','Age','BsmtBaths','HalfBath','BsmtFullBath','Fireplaces',\n",
    "#         'GarageAge','KitchenAbvGr','ReModelAge','TotRmsAbvGrd','YearRemodAdd']\n",
    "\n",
    "#     sk_train=set(skewed_cols).difference(set(rv)).difference(set(ordlabels))\n",
    "    lamb = 0.15\n",
    "    for cols in sk_train:  \n",
    "        test_data2[cols] = boxcox1p(test_data2[cols], lamb)\n",
    "\n",
    "    test_data3=ct.transform(test_data2)\n",
    "\n",
    "    print(\"Shape of transformed test data :\",test_data3.shape)\n",
    "\n",
    "    return test_data3"
   ]
  },
  {
   "cell_type": "code",
   "execution_count": 37,
   "id": "dd0b3ff5",
   "metadata": {
    "execution": {
     "iopub.execute_input": "2023-01-18T00:48:19.903819Z",
     "iopub.status.busy": "2023-01-18T00:48:19.903463Z",
     "iopub.status.idle": "2023-01-18T00:48:20.403868Z",
     "shell.execute_reply": "2023-01-18T00:48:20.402401Z"
    },
    "papermill": {
     "duration": 0.559328,
     "end_time": "2023-01-18T00:48:20.407349",
     "exception": false,
     "start_time": "2023-01-18T00:48:19.848021",
     "status": "completed"
    },
    "tags": []
   },
   "outputs": [
    {
     "name": "stdout",
     "output_type": "stream",
     "text": [
      "Null columns:  0\n",
      "9  columns deleted\n",
      "Shape of transformed test data : (1459, 281)\n"
     ]
    }
   ],
   "source": [
    "# ames_preprocessing_script is based on appendix and uploaded to the notebook\n",
    "# import ames_preprocessing_script as ames \n",
    "# test_data=ames.process_testdata2(\"test.csv\",coldel,encoder,sk_train,ct)\n",
    "\n",
    "test_data=process_testdata2(\"../input/house-prices-advanced-regression-techniques/test.csv\",coldel,encoder,sk_train,ct)\n",
    "np.savetxt(\"test_data1.csv\",test_data,delimiter=\",\")"
   ]
  },
  {
   "cell_type": "markdown",
   "id": "40978e96",
   "metadata": {
    "papermill": {
     "duration": 0.052924,
     "end_time": "2023-01-18T00:48:20.515675",
     "exception": false,
     "start_time": "2023-01-18T00:48:20.462751",
     "status": "completed"
    },
    "tags": []
   },
   "source": [
    "## Training the Models and Predictions"
   ]
  },
  {
   "cell_type": "markdown",
   "id": "4f4b710c",
   "metadata": {
    "papermill": {
     "duration": 0.052641,
     "end_time": "2023-01-18T00:48:20.622291",
     "exception": false,
     "start_time": "2023-01-18T00:48:20.569650",
     "status": "completed"
    },
    "tags": []
   },
   "source": [
    "### Cross Validation for XGBoost"
   ]
  },
  {
   "cell_type": "code",
   "execution_count": 38,
   "id": "7bd9d70a",
   "metadata": {
    "execution": {
     "iopub.execute_input": "2023-01-18T00:48:20.728399Z",
     "iopub.status.busy": "2023-01-18T00:48:20.728003Z",
     "iopub.status.idle": "2023-01-18T00:48:21.568834Z",
     "shell.execute_reply": "2023-01-18T00:48:21.567731Z"
    },
    "papermill": {
     "duration": 0.897144,
     "end_time": "2023-01-18T00:48:21.571749",
     "exception": false,
     "start_time": "2023-01-18T00:48:20.674605",
     "status": "completed"
    },
    "tags": []
   },
   "outputs": [],
   "source": [
    "# Though it is not required to save and reload everytime. Once we have finalized the dataset - in terms of processing \n",
    "# null values, adding deleting new columns, encoding the data with column transformer etc., then we can load the \n",
    "# processed data and focus on experimenting with the machine learning model\n",
    "\n",
    "X_test=np.loadtxt(\"X_test1.csv\",delimiter=',')\n",
    "y_test=np.loadtxt(\"y_test1.csv\",delimiter=',')\n",
    "X_train=np.loadtxt(\"X_train1.csv\",delimiter=',')\n",
    "y_train=np.loadtxt(\"y_train1.csv\",delimiter=',') \n",
    "y=np.loadtxt(\"y.csv\",delimiter=',')\n",
    " \n",
    "X=pd.read_csv(\"Xt.csv\")\n",
    "X.drop(columns=\"Unnamed: 0\",inplace=True)\n",
    "X1=np.loadtxt(\"x1.csv\",delimiter=',')\n",
    "test_data=np.loadtxt(\"test_data1.csv\",delimiter=',')"
   ]
  },
  {
   "cell_type": "code",
   "execution_count": 39,
   "id": "69af8e52",
   "metadata": {
    "execution": {
     "iopub.execute_input": "2023-01-18T00:48:21.680747Z",
     "iopub.status.busy": "2023-01-18T00:48:21.679717Z",
     "iopub.status.idle": "2023-01-18T00:48:21.686598Z",
     "shell.execute_reply": "2023-01-18T00:48:21.685631Z"
    },
    "papermill": {
     "duration": 0.063254,
     "end_time": "2023-01-18T00:48:21.688595",
     "exception": false,
     "start_time": "2023-01-18T00:48:21.625341",
     "status": "completed"
    },
    "tags": []
   },
   "outputs": [
    {
     "data": {
      "text/plain": [
       "(1452, 83)"
      ]
     },
     "execution_count": 39,
     "metadata": {},
     "output_type": "execute_result"
    }
   ],
   "source": [
    "X.shape"
   ]
  },
  {
   "cell_type": "code",
   "execution_count": 40,
   "id": "d5ed54f6",
   "metadata": {
    "execution": {
     "iopub.execute_input": "2023-01-18T00:48:21.796532Z",
     "iopub.status.busy": "2023-01-18T00:48:21.796167Z",
     "iopub.status.idle": "2023-01-18T00:48:21.802306Z",
     "shell.execute_reply": "2023-01-18T00:48:21.801249Z"
    },
    "papermill": {
     "duration": 0.062774,
     "end_time": "2023-01-18T00:48:21.804795",
     "exception": false,
     "start_time": "2023-01-18T00:48:21.742021",
     "status": "completed"
    },
    "tags": []
   },
   "outputs": [],
   "source": [
    "# xgr=xg.XGBRegressor(colsample_bytree=0.4603, gamma=0.0468, \n",
    "#                              learning_rate=0.05, max_depth=3, \n",
    "#                              min_child_weight=1.7817, n_estimators=2200,\n",
    "#                              reg_alpha=0.4640, reg_lambda=0.8571,\n",
    "#                              subsample=0.5213, silent=1,\n",
    "#                              random_state =1123, nthread = -1,verbosity=0)\n",
    "\n",
    "\n",
    "# num_folds=5\n",
    "# kfold = KFold(n_splits=num_folds,shuffle=True,random_state=1123)\n",
    "\n",
    "# fold_no = 1\n",
    "# acc_per_fold = []\n",
    "# loss_per_fold = []\n",
    "# ypred_testdata={}\n",
    "\n",
    "# # test_data=preprocess_testdata(\"test.csv\")\n",
    "# ct.fit(X)\n",
    "# for tra, tes in kfold.split(X, y):\n",
    "    \n",
    "#     X_train=ct.transform(X.iloc[tra])\n",
    "#     y_train=y[tra]\n",
    "#     X_test=ct.transform(X.iloc[tes])\n",
    "#     y_test=y[tes]\n",
    "    \n",
    "#     xgr.fit(X_train,np.log(y_train))\n",
    "    \n",
    "# #     filename=r\"F:\\Kaggle\\HousingPrices\\xgboost\\xgcvmodel_\" + str(fold_no)    \n",
    "# #     xgr.save_model(filename)    \n",
    "\n",
    "#     ypred_xg=xgr.predict(X_test)  \n",
    "    \n",
    "#     ypred_testdata[fold_no]=np.exp(xgr.predict(test_data))    \n",
    "    \n",
    "#     scores = mean_squared_error((ypred_xg),np.log(y_test),squared=False)\n",
    "    \n",
    "#     print(f'Score for fold {fold_no}: {scores}')\n",
    "#     acc_per_fold.append(scores) \n",
    "#     fold_no +=1\n",
    "          \n",
    "# print(\"Average RMSE over \",num_folds,\" folds :\",sum(acc_per_fold)/len(acc_per_fold))\n",
    "\n",
    "# # Result 1 - without removing outliers\n",
    "# # Score for fold 1: 0.11046911788633561\n",
    "# # Score for fold 2: 0.12659792674069162\n",
    "# # Score for fold 3: 0.15770987377810577\n",
    "# # Score for fold 4: 0.108230843149171\n",
    "# # Score for fold 5: 0.12680772941599697\n",
    "# # Average RMSE over  5  folds : 0.12596309819406018\n",
    " \n",
    "# #Result 2 - after removing 8 outliers\n",
    "# # Score for fold 1: 0.11102508831659731\n",
    "# # Score for fold 2: 0.10350964965561603\n",
    "# # Score for fold 3: 0.11602991923229042\n",
    "# # Score for fold 4: 0.10807433147223645\n",
    "# # Score for fold 5: 0.11883951688117621\n",
    "# # Average RMSE over  5  folds : 0.11149570111158329"
   ]
  },
  {
   "cell_type": "markdown",
   "id": "cf982bc5",
   "metadata": {
    "papermill": {
     "duration": 0.052458,
     "end_time": "2023-01-18T00:48:21.909671",
     "exception": false,
     "start_time": "2023-01-18T00:48:21.857213",
     "status": "completed"
    },
    "tags": []
   },
   "source": [
    "Note that in the original model above, the accuracy could have been anything from 0.10 to 0.157. We can test Kaggle score for the first model which has got lowest error, though it is not necessary that the model that gives lowest error will also give the lowest error for Kaggle test data!!"
   ]
  },
  {
   "cell_type": "code",
   "execution_count": 41,
   "id": "c8a5eec9",
   "metadata": {
    "execution": {
     "iopub.execute_input": "2023-01-18T00:48:22.107965Z",
     "iopub.status.busy": "2023-01-18T00:48:22.107480Z",
     "iopub.status.idle": "2023-01-18T00:48:22.113036Z",
     "shell.execute_reply": "2023-01-18T00:48:22.112004Z"
    },
    "papermill": {
     "duration": 0.116998,
     "end_time": "2023-01-18T00:48:22.118341",
     "exception": false,
     "start_time": "2023-01-18T00:48:22.001343",
     "status": "completed"
    },
    "tags": []
   },
   "outputs": [],
   "source": [
    "# ypred_testdata[2]"
   ]
  },
  {
   "cell_type": "code",
   "execution_count": 42,
   "id": "f1040f24",
   "metadata": {
    "execution": {
     "iopub.execute_input": "2023-01-18T00:48:22.291481Z",
     "iopub.status.busy": "2023-01-18T00:48:22.291003Z",
     "iopub.status.idle": "2023-01-18T00:48:22.296537Z",
     "shell.execute_reply": "2023-01-18T00:48:22.295348Z"
    },
    "papermill": {
     "duration": 0.094701,
     "end_time": "2023-01-18T00:48:22.299213",
     "exception": false,
     "start_time": "2023-01-18T00:48:22.204512",
     "status": "completed"
    },
    "tags": []
   },
   "outputs": [],
   "source": [
    "# testdata=pd.read_csv(\"test.csv\")\n",
    "# test_id=testdata[\"Id\"]\n",
    "\n",
    "# xgrsubmission=pd.DataFrame({'Id':test_id,'SalePrice':ypred_testdata[2]})\n",
    "# xgrsubmission.to_csv('nm-final-xgbcv.csv',index=False) \n",
    "# xgrsubmission\n",
    "\n",
    "#Kaggle score for above - 0.12349"
   ]
  },
  {
   "cell_type": "markdown",
   "id": "20985750",
   "metadata": {
    "papermill": {
     "duration": 0.083389,
     "end_time": "2023-01-18T00:48:22.470862",
     "exception": false,
     "start_time": "2023-01-18T00:48:22.387473",
     "status": "completed"
    },
    "tags": []
   },
   "source": [
    "**In the above cross validation, the accuracies range from 10.35% to 11.88%. The best prediction is from second cross validation at 10.35%. Submitting the result to Kaggle however gives only a Kaggle score of 0.12349 implying variance**"
   ]
  },
  {
   "cell_type": "markdown",
   "id": "039279bb",
   "metadata": {
    "papermill": {
     "duration": 0.075364,
     "end_time": "2023-01-18T00:48:22.626812",
     "exception": false,
     "start_time": "2023-01-18T00:48:22.551448",
     "status": "completed"
    },
    "tags": []
   },
   "source": [
    "### We can now apply the model for the entire dataset to get the maximum possible accuracy "
   ]
  },
  {
   "cell_type": "markdown",
   "id": "34ee1efa",
   "metadata": {
    "papermill": {
     "duration": 0.052633,
     "end_time": "2023-01-18T00:48:22.732348",
     "exception": false,
     "start_time": "2023-01-18T00:48:22.679715",
     "status": "completed"
    },
    "tags": []
   },
   "source": [
    "### XGBoost with Full Dataset"
   ]
  },
  {
   "cell_type": "code",
   "execution_count": 43,
   "id": "a9ab29d2",
   "metadata": {
    "execution": {
     "iopub.execute_input": "2023-01-18T00:48:22.848453Z",
     "iopub.status.busy": "2023-01-18T00:48:22.847935Z",
     "iopub.status.idle": "2023-01-18T00:48:23.386983Z",
     "shell.execute_reply": "2023-01-18T00:48:23.385989Z"
    },
    "papermill": {
     "duration": 0.599457,
     "end_time": "2023-01-18T00:48:23.389663",
     "exception": false,
     "start_time": "2023-01-18T00:48:22.790206",
     "status": "completed"
    },
    "tags": []
   },
   "outputs": [],
   "source": [
    "#load the input data\n",
    "y=np.loadtxt(\"y.csv\",delimiter=',') \n",
    "X1=np.loadtxt(\"x1.csv\",delimiter=',')\n",
    "test_data=np.loadtxt(\"test_data1.csv\",delimiter=',')"
   ]
  },
  {
   "cell_type": "code",
   "execution_count": 44,
   "id": "b85acda3",
   "metadata": {
    "execution": {
     "iopub.execute_input": "2023-01-18T00:48:23.499897Z",
     "iopub.status.busy": "2023-01-18T00:48:23.498940Z",
     "iopub.status.idle": "2023-01-18T00:48:37.502217Z",
     "shell.execute_reply": "2023-01-18T00:48:37.501108Z"
    },
    "papermill": {
     "duration": 14.060458,
     "end_time": "2023-01-18T00:48:37.504419",
     "exception": false,
     "start_time": "2023-01-18T00:48:23.443961",
     "status": "completed"
    },
    "tags": []
   },
   "outputs": [
    {
     "data": {
      "text/plain": [
       "XGBRegressor(base_score=0.5, booster='gbtree', callbacks=None,\n",
       "             colsample_bylevel=1, colsample_bynode=1, colsample_bytree=0.4603,\n",
       "             early_stopping_rounds=None, enable_categorical=False,\n",
       "             eval_metric=None, gamma=0.0468, gpu_id=-1, grow_policy='depthwise',\n",
       "             importance_type=None, interaction_constraints='',\n",
       "             learning_rate=0.05, max_bin=256, max_cat_to_onehot=4,\n",
       "             max_delta_step=0, max_depth=3, max_leaves=0,\n",
       "             min_child_weight=1.7817, missing=nan, monotone_constraints='()',\n",
       "             n_estimators=2200, n_jobs=-1, nthread=-1, num_parallel_tree=1,\n",
       "             predictor='auto', random_state=1123, reg_alpha=0.464, ...)"
      ]
     },
     "execution_count": 44,
     "metadata": {},
     "output_type": "execute_result"
    }
   ],
   "source": [
    "# X1=ct.transform(X)\n",
    "xgr=xg.XGBRegressor(colsample_bytree=0.4603, gamma=0.0468, \n",
    "                             learning_rate=0.05, max_depth=3, \n",
    "                             min_child_weight=1.7817, n_estimators=2200,\n",
    "                             reg_alpha=0.4640, reg_lambda=0.8571,\n",
    "                             subsample=0.5213, silent=1,\n",
    "                             random_state =1123, nthread = -1,verbosity=0)\n",
    "xgr.fit(X1,np.log(y))"
   ]
  },
  {
   "cell_type": "code",
   "execution_count": 45,
   "id": "328f4ddb",
   "metadata": {
    "execution": {
     "iopub.execute_input": "2023-01-18T00:48:37.615044Z",
     "iopub.status.busy": "2023-01-18T00:48:37.613966Z",
     "iopub.status.idle": "2023-01-18T00:48:37.636920Z",
     "shell.execute_reply": "2023-01-18T00:48:37.636134Z"
    },
    "papermill": {
     "duration": 0.080247,
     "end_time": "2023-01-18T00:48:37.638959",
     "exception": false,
     "start_time": "2023-01-18T00:48:37.558712",
     "status": "completed"
    },
    "tags": []
   },
   "outputs": [
    {
     "data": {
      "text/plain": [
       "0.07815089235416145"
      ]
     },
     "execution_count": 45,
     "metadata": {},
     "output_type": "execute_result"
    }
   ],
   "source": [
    "#0.077459\n",
    "y_pred_xgf=xgr.predict(X1)\n",
    "mean_squared_error((y_pred_xgf),np.log(y),squared=False)"
   ]
  },
  {
   "cell_type": "code",
   "execution_count": 46,
   "id": "58e1ec24",
   "metadata": {
    "execution": {
     "iopub.execute_input": "2023-01-18T00:48:37.753798Z",
     "iopub.status.busy": "2023-01-18T00:48:37.753444Z",
     "iopub.status.idle": "2023-01-18T00:48:38.048320Z",
     "shell.execute_reply": "2023-01-18T00:48:38.047169Z"
    },
    "papermill": {
     "duration": 0.350773,
     "end_time": "2023-01-18T00:48:38.050472",
     "exception": false,
     "start_time": "2023-01-18T00:48:37.699699",
     "status": "completed"
    },
    "tags": []
   },
   "outputs": [
    {
     "data": {
      "text/plain": [
       "array([125218.07 , 163346.77 , 181304.98 , ..., 159926.8  , 119465.914,\n",
       "       219473.44 ], dtype=float32)"
      ]
     },
     "execution_count": 46,
     "metadata": {},
     "output_type": "execute_result"
    }
   ],
   "source": [
    "test_data=np.loadtxt(\"test_data1.csv\",delimiter=',')\n",
    "np.exp(xgr.predict(test_data))"
   ]
  },
  {
   "cell_type": "code",
   "execution_count": 47,
   "id": "250254b5",
   "metadata": {
    "execution": {
     "iopub.execute_input": "2023-01-18T00:48:38.162164Z",
     "iopub.status.busy": "2023-01-18T00:48:38.161735Z",
     "iopub.status.idle": "2023-01-18T00:48:38.166306Z",
     "shell.execute_reply": "2023-01-18T00:48:38.165326Z"
    },
    "papermill": {
     "duration": 0.06157,
     "end_time": "2023-01-18T00:48:38.168281",
     "exception": false,
     "start_time": "2023-01-18T00:48:38.106711",
     "status": "completed"
    },
    "tags": []
   },
   "outputs": [],
   "source": [
    "# testdata=pd.read_csv(\"test.csv\")\n",
    "# test_id=testdata[\"Id\"]\n",
    " \n",
    "# xgrsubmission=pd.DataFrame({'Id':test_id,'SalePrice':np.exp(xgr.predict(test_data))})\n",
    "# xgrsubmission.to_csv('nm-final-xgbfull.csv',index=False) \n",
    "# xgrsubmission\n",
    "# #Kaggle Score - 0.12452"
   ]
  },
  {
   "cell_type": "markdown",
   "id": "7ed6c5f0",
   "metadata": {
    "papermill": {
     "duration": 0.052667,
     "end_time": "2023-01-18T00:48:38.275196",
     "exception": false,
     "start_time": "2023-01-18T00:48:38.222529",
     "status": "completed"
    },
    "tags": []
   },
   "source": [
    "### Alternate XGBoost Model"
   ]
  },
  {
   "cell_type": "code",
   "execution_count": 48,
   "id": "52a8ec61",
   "metadata": {
    "execution": {
     "iopub.execute_input": "2023-01-18T00:48:38.384261Z",
     "iopub.status.busy": "2023-01-18T00:48:38.383272Z",
     "iopub.status.idle": "2023-01-18T00:49:03.385148Z",
     "shell.execute_reply": "2023-01-18T00:49:03.383991Z"
    },
    "papermill": {
     "duration": 25.058346,
     "end_time": "2023-01-18T00:49:03.387374",
     "exception": false,
     "start_time": "2023-01-18T00:48:38.329028",
     "status": "completed"
    },
    "tags": []
   },
   "outputs": [
    {
     "data": {
      "text/plain": [
       "XGBRegressor(base_score=0.5, booster='gbtree', callbacks=None,\n",
       "             colsample_bylevel=1, colsample_bynode=1, colsample_bytree=0.7,\n",
       "             early_stopping_rounds=None, enable_categorical=False,\n",
       "             eval_metric=None, gamma=0, gpu_id=-1, grow_policy='depthwise',\n",
       "             importance_type=None, interaction_constraints='',\n",
       "             learning_rate=0.01, max_bin=256, max_cat_to_onehot=4,\n",
       "             max_delta_step=0, max_depth=3, max_leaves=0, min_child_weight=0,\n",
       "             missing=nan, monotone_constraints='()', n_estimators=3460,\n",
       "             n_jobs=-1, nthread=-1, num_parallel_tree=1, objective='reg:linear',\n",
       "             predictor='auto', random_state=27, ...)"
      ]
     },
     "execution_count": 48,
     "metadata": {},
     "output_type": "execute_result"
    }
   ],
   "source": [
    "# Another check - this model is from https://www.kaggle.com/code/jesucristo/1-house-prices-solution-top-1/notebook#Models\n",
    "\n",
    "xgr2 = xg.XGBRegressor(learning_rate=0.01,n_estimators=3460,\n",
    "                                     max_depth=3, min_child_weight=0,\n",
    "                                     gamma=0, subsample=0.7,\n",
    "                                     colsample_bytree=0.7,\n",
    "                                     objective='reg:linear', nthread=-1,\n",
    "                                     scale_pos_weight=1, seed=27,\n",
    "                                     reg_alpha=0.00006)\n",
    "\n",
    "xgr2.fit(X1,np.log(y))"
   ]
  },
  {
   "cell_type": "code",
   "execution_count": 49,
   "id": "b47bfc92",
   "metadata": {
    "execution": {
     "iopub.execute_input": "2023-01-18T00:49:03.499532Z",
     "iopub.status.busy": "2023-01-18T00:49:03.499157Z",
     "iopub.status.idle": "2023-01-18T00:49:03.553037Z",
     "shell.execute_reply": "2023-01-18T00:49:03.552347Z"
    },
    "papermill": {
     "duration": 0.113304,
     "end_time": "2023-01-18T00:49:03.555425",
     "exception": false,
     "start_time": "2023-01-18T00:49:03.442121",
     "status": "completed"
    },
    "tags": []
   },
   "outputs": [
    {
     "data": {
      "text/plain": [
       "array([125115.17 , 162701.4  , 182761.66 , ..., 159474.61 , 116862.195,\n",
       "       216507.27 ], dtype=float32)"
      ]
     },
     "execution_count": 49,
     "metadata": {},
     "output_type": "execute_result"
    }
   ],
   "source": [
    "np.exp(xgr2.predict(test_data))"
   ]
  },
  {
   "cell_type": "code",
   "execution_count": 50,
   "id": "f8edc71e",
   "metadata": {
    "execution": {
     "iopub.execute_input": "2023-01-18T00:49:03.664833Z",
     "iopub.status.busy": "2023-01-18T00:49:03.664457Z",
     "iopub.status.idle": "2023-01-18T00:49:03.716958Z",
     "shell.execute_reply": "2023-01-18T00:49:03.716266Z"
    },
    "papermill": {
     "duration": 0.108601,
     "end_time": "2023-01-18T00:49:03.719119",
     "exception": false,
     "start_time": "2023-01-18T00:49:03.610518",
     "status": "completed"
    },
    "tags": []
   },
   "outputs": [
    {
     "data": {
      "text/plain": [
       "0.048479862637744016"
      ]
     },
     "execution_count": 50,
     "metadata": {},
     "output_type": "execute_result"
    }
   ],
   "source": [
    "y_pred_xgf=xgr2.predict(X1)\n",
    "mean_squared_error((y_pred_xgf),np.log(y),squared=False)"
   ]
  },
  {
   "cell_type": "code",
   "execution_count": 51,
   "id": "3f23e985",
   "metadata": {
    "execution": {
     "iopub.execute_input": "2023-01-18T00:49:03.831975Z",
     "iopub.status.busy": "2023-01-18T00:49:03.831635Z",
     "iopub.status.idle": "2023-01-18T00:49:03.885179Z",
     "shell.execute_reply": "2023-01-18T00:49:03.884236Z"
    },
    "papermill": {
     "duration": 0.110447,
     "end_time": "2023-01-18T00:49:03.887449",
     "exception": false,
     "start_time": "2023-01-18T00:49:03.777002",
     "status": "completed"
    },
    "tags": []
   },
   "outputs": [
    {
     "data": {
      "text/plain": [
       "array([125115.17 , 162701.4  , 182761.66 , ..., 159474.61 , 116862.195,\n",
       "       216507.27 ], dtype=float32)"
      ]
     },
     "execution_count": 51,
     "metadata": {},
     "output_type": "execute_result"
    }
   ],
   "source": [
    "np.exp(xgr2.predict(test_data))"
   ]
  },
  {
   "cell_type": "code",
   "execution_count": 52,
   "id": "c23dc767",
   "metadata": {
    "execution": {
     "iopub.execute_input": "2023-01-18T00:49:04.000330Z",
     "iopub.status.busy": "2023-01-18T00:49:03.999934Z",
     "iopub.status.idle": "2023-01-18T00:49:04.004583Z",
     "shell.execute_reply": "2023-01-18T00:49:04.003487Z"
    },
    "papermill": {
     "duration": 0.062446,
     "end_time": "2023-01-18T00:49:04.006755",
     "exception": false,
     "start_time": "2023-01-18T00:49:03.944309",
     "status": "completed"
    },
    "tags": []
   },
   "outputs": [],
   "source": [
    "# testdata=pd.read_csv(\"test.csv\")\n",
    "# test_id=testdata[\"Id\"]\n",
    " \n",
    "# xgrsubmission=pd.DataFrame({'Id':test_id,'SalePrice':np.exp(xgboost.predict(test_data))})\n",
    "# xgrsubmission.to_csv('nm-xgboost-final-model2.csv',index=False) "
   ]
  },
  {
   "cell_type": "markdown",
   "id": "1cb3b165",
   "metadata": {
    "papermill": {
     "duration": 0.052489,
     "end_time": "2023-01-18T00:49:04.111634",
     "exception": false,
     "start_time": "2023-01-18T00:49:04.059145",
     "status": "completed"
    },
    "tags": []
   },
   "source": [
    "## Stacking"
   ]
  },
  {
   "cell_type": "markdown",
   "id": "4066764c",
   "metadata": {
    "papermill": {
     "duration": 0.052307,
     "end_time": "2023-01-18T00:49:04.216580",
     "exception": false,
     "start_time": "2023-01-18T00:49:04.164273",
     "status": "completed"
    },
    "tags": []
   },
   "source": [
    "We shall now do stacked regressions. I have used both Sklearn's stacked regressor and also mlxtend's stackedCV regressor. Here are some insights:\n",
    "\n",
    "1. Mlextend's StackedCVRegressor gives higher accuracy\n",
    "2. Using the option \"use_features_in_secondary\" as \"False\" - implying that the meta regressor does not use actual dataset itself - gives better accuracy than otherwise\n",
    "3. Adding deep learning model to a stacked regressor does not perceptibly improve accuracy\n",
    "4. Higher number of stacked models does not automatically result in better accuracy. Some times 3 models gave better accuracy than 5-7 models\n",
    "5. Changing the meta-regressor, say, from lasso to xgboost, changes the accuracy. But to really see the difference, we need to do cross validation of entire stacked regression model which takes quite sometime. I have given one output as commented cell\n",
    "\n",
    "**6. As like cross validation of any machine learning model, the cross validation of stacked regression also gives a wide range of 10% to 11x% implying the accuracy gained through stacking is minimal and that it is also dependent on random state and input data order**"
   ]
  },
  {
   "cell_type": "markdown",
   "id": "ed7ac766",
   "metadata": {
    "papermill": {
     "duration": 0.052987,
     "end_time": "2023-01-18T00:49:04.321981",
     "exception": false,
     "start_time": "2023-01-18T00:49:04.268994",
     "status": "completed"
    },
    "tags": []
   },
   "source": [
    "#### Import various models"
   ]
  },
  {
   "cell_type": "markdown",
   "id": "fc3edd6e",
   "metadata": {
    "papermill": {
     "duration": 0.053233,
     "end_time": "2023-01-18T00:49:04.428106",
     "exception": false,
     "start_time": "2023-01-18T00:49:04.374873",
     "status": "completed"
    },
    "tags": []
   },
   "source": [
    "**While using various models for stacking, I have not done any gridsearch. Instead, I have directly used parameters from some of the top accuracy notebooks from Kaggle - reducing clutter and saving time!**"
   ]
  },
  {
   "cell_type": "code",
   "execution_count": 53,
   "id": "3a9afbec",
   "metadata": {
    "execution": {
     "iopub.execute_input": "2023-01-18T00:49:04.540054Z",
     "iopub.status.busy": "2023-01-18T00:49:04.539681Z",
     "iopub.status.idle": "2023-01-18T00:49:04.551062Z",
     "shell.execute_reply": "2023-01-18T00:49:04.549964Z"
    },
    "papermill": {
     "duration": 0.071253,
     "end_time": "2023-01-18T00:49:04.553697",
     "exception": false,
     "start_time": "2023-01-18T00:49:04.482444",
     "status": "completed"
    },
    "tags": []
   },
   "outputs": [],
   "source": [
    "from sklearn.linear_model import ElasticNetCV\n",
    "from sklearn.linear_model import Ridge\n",
    "from sklearn.svm import LinearSVR\n",
    "from sklearn.ensemble import StackingRegressor\n",
    "from sklearn.linear_model import Lasso\n",
    "from sklearn.linear_model import LassoCV\n",
    "\n",
    "from sklearn.linear_model import ElasticNet, Lasso,  BayesianRidge, LassoLarsIC\n",
    "from sklearn.ensemble import RandomForestRegressor,  GradientBoostingRegressor\n",
    "from sklearn.kernel_ridge import KernelRidge\n",
    " \n",
    "import lightgbm as lgb\n",
    "\n",
    "lgbm = lgb.LGBMRegressor(objective='regression',num_leaves=5,\n",
    "                              learning_rate=0.05, n_estimators=720,\n",
    "                              max_bin = 55, bagging_fraction = 0.8,\n",
    "                              bagging_freq = 5, feature_fraction = 0.2319,\n",
    "                              feature_fraction_seed=9, bagging_seed=9,\n",
    "                              min_data_in_leaf =6, min_sum_hessian_in_leaf = 11,random_state=1123)\n",
    "\n",
    "GBoost = GradientBoostingRegressor(n_estimators=3000, learning_rate=0.05,\n",
    "                                   max_depth=4, max_features='sqrt',\n",
    "                                   min_samples_leaf=15, min_samples_split=10, \n",
    "                                   loss='huber', random_state =1123)\n",
    "\n",
    "KRR = KernelRidge(alpha=0.6, kernel='polynomial', degree=2, coef0=2.5)\n",
    "\n",
    "\n",
    "ENet = ElasticNet(alpha=0.0005, l1_ratio=.9, random_state=1123)\n",
    "\n",
    "lass = Lasso(alpha =0.0005, random_state=1123)\n",
    "\n",
    "lasso = LassoCV(random_state=1123)\n",
    "\n",
    "\n",
    "xgr=xg.XGBRegressor(colsample_bytree=0.4603, gamma=0.0468, \n",
    "                             learning_rate=0.05, max_depth=3, \n",
    "                             min_child_weight=1.7817, n_estimators=2200,\n",
    "                             reg_alpha=0.4640, reg_lambda=0.8571,\n",
    "                             subsample=0.5213, silent=1,\n",
    "                             random_state =1123, nthread = -1)\n",
    "\n",
    "\n",
    "xgr2 = xg.XGBRegressor(learning_rate=0.01,n_estimators=3460,\n",
    "                                     max_depth=3, min_child_weight=0,\n",
    "                                     gamma=0, subsample=0.7,\n",
    "                                     colsample_bytree=0.7,\n",
    "                                     objective='reg:linear', nthread=-1,\n",
    "                                     scale_pos_weight=1, random_state=1123,\n",
    "#                        seed=27,\n",
    "                                     reg_alpha=0.00006)\n"
   ]
  },
  {
   "cell_type": "markdown",
   "id": "72e13cdc",
   "metadata": {
    "papermill": {
     "duration": 0.052433,
     "end_time": "2023-01-18T00:49:04.660103",
     "exception": false,
     "start_time": "2023-01-18T00:49:04.607670",
     "status": "completed"
    },
    "tags": []
   },
   "source": [
    "### Sklearn Stacking Regressor"
   ]
  },
  {
   "cell_type": "markdown",
   "id": "0e0c72cb",
   "metadata": {
    "papermill": {
     "duration": 0.052768,
     "end_time": "2023-01-18T00:49:04.765131",
     "exception": false,
     "start_time": "2023-01-18T00:49:04.712363",
     "status": "completed"
    },
    "tags": []
   },
   "source": [
    "In the first model, I am using training dataset without deleting the outliers"
   ]
  },
  {
   "cell_type": "code",
   "execution_count": 54,
   "id": "c52b8de4",
   "metadata": {
    "execution": {
     "iopub.execute_input": "2023-01-18T00:49:04.871704Z",
     "iopub.status.busy": "2023-01-18T00:49:04.871350Z",
     "iopub.status.idle": "2023-01-18T00:49:04.897757Z",
     "shell.execute_reply": "2023-01-18T00:49:04.896718Z"
    },
    "papermill": {
     "duration": 0.082099,
     "end_time": "2023-01-18T00:49:04.899766",
     "exception": false,
     "start_time": "2023-01-18T00:49:04.817667",
     "status": "completed"
    },
    "tags": []
   },
   "outputs": [
    {
     "data": {
      "text/plain": [
       "((1460, 84), (1460, 83), (1460,))"
      ]
     },
     "execution_count": 54,
     "metadata": {},
     "output_type": "execute_result"
    }
   ],
   "source": [
    "train2=pd.read_csv(\"train2.csv\")\n",
    "train2.drop(columns='Unnamed: 0', inplace=True)\n",
    " \n",
    "y=train2['SalePrice']\n",
    "X=train2.drop(columns='SalePrice')\n",
    "\n",
    "train2.shape,X.shape,y.shape"
   ]
  },
  {
   "cell_type": "code",
   "execution_count": 55,
   "id": "952afb58",
   "metadata": {
    "execution": {
     "iopub.execute_input": "2023-01-18T00:49:05.012142Z",
     "iopub.status.busy": "2023-01-18T00:49:05.011776Z",
     "iopub.status.idle": "2023-01-18T00:49:05.082644Z",
     "shell.execute_reply": "2023-01-18T00:49:05.081704Z"
    },
    "papermill": {
     "duration": 0.131797,
     "end_time": "2023-01-18T00:49:05.085200",
     "exception": false,
     "start_time": "2023-01-18T00:49:04.953403",
     "status": "completed"
    },
    "tags": []
   },
   "outputs": [],
   "source": [
    "ct=ColumnTransformer([('ohem1',OneHotEncoder(sparse=False,handle_unknown='ignore'),list(catlabels)),                                    \n",
    "                      ('rbsm1',StandardScaler(),list(normlabels))\n",
    "                     ], remainder='passthrough')\n",
    "ct.fit(X)\n",
    "X_train,X_test,y_train,y_test=train_test_split(X,y,test_size=0.2,shuffle=True,random_state=1123)\n",
    "X_train,X_test=ct.transform(X_train),ct.transform(X_test)"
   ]
  },
  {
   "cell_type": "code",
   "execution_count": 56,
   "id": "1b03efa4",
   "metadata": {
    "execution": {
     "iopub.execute_input": "2023-01-18T00:49:05.195352Z",
     "iopub.status.busy": "2023-01-18T00:49:05.194294Z",
     "iopub.status.idle": "2023-01-18T00:51:17.034899Z",
     "shell.execute_reply": "2023-01-18T00:51:17.033932Z"
    },
    "papermill": {
     "duration": 131.954637,
     "end_time": "2023-01-18T00:51:17.094180",
     "exception": false,
     "start_time": "2023-01-18T00:49:05.139543",
     "status": "completed"
    },
    "tags": []
   },
   "outputs": [
    {
     "name": "stdout",
     "output_type": "stream",
     "text": [
      "[LightGBM] [Warning] bagging_fraction is set=0.8, subsample=1.0 will be ignored. Current value: bagging_fraction=0.8\n",
      "[LightGBM] [Warning] min_sum_hessian_in_leaf is set=11, min_child_weight=0.001 will be ignored. Current value: min_sum_hessian_in_leaf=11\n",
      "[LightGBM] [Warning] min_data_in_leaf is set=6, min_child_samples=20 will be ignored. Current value: min_data_in_leaf=6\n",
      "[LightGBM] [Warning] feature_fraction is set=0.2319, colsample_bytree=1.0 will be ignored. Current value: feature_fraction=0.2319\n",
      "[LightGBM] [Warning] bagging_freq is set=5, subsample_freq=0 will be ignored. Current value: bagging_freq=5\n",
      "[LightGBM] [Warning] bagging_fraction is set=0.8, subsample=1.0 will be ignored. Current value: bagging_fraction=0.8\n",
      "[LightGBM] [Warning] min_sum_hessian_in_leaf is set=11, min_child_weight=0.001 will be ignored. Current value: min_sum_hessian_in_leaf=11\n",
      "[LightGBM] [Warning] min_data_in_leaf is set=6, min_child_samples=20 will be ignored. Current value: min_data_in_leaf=6\n",
      "[LightGBM] [Warning] feature_fraction is set=0.2319, colsample_bytree=1.0 will be ignored. Current value: feature_fraction=0.2319\n",
      "[LightGBM] [Warning] bagging_freq is set=5, subsample_freq=0 will be ignored. Current value: bagging_freq=5\n",
      "[LightGBM] [Warning] bagging_fraction is set=0.8, subsample=1.0 will be ignored. Current value: bagging_fraction=0.8\n",
      "[LightGBM] [Warning] min_sum_hessian_in_leaf is set=11, min_child_weight=0.001 will be ignored. Current value: min_sum_hessian_in_leaf=11\n",
      "[LightGBM] [Warning] min_data_in_leaf is set=6, min_child_samples=20 will be ignored. Current value: min_data_in_leaf=6\n",
      "[LightGBM] [Warning] feature_fraction is set=0.2319, colsample_bytree=1.0 will be ignored. Current value: feature_fraction=0.2319\n",
      "[LightGBM] [Warning] bagging_freq is set=5, subsample_freq=0 will be ignored. Current value: bagging_freq=5\n",
      "[LightGBM] [Warning] bagging_fraction is set=0.8, subsample=1.0 will be ignored. Current value: bagging_fraction=0.8\n",
      "[LightGBM] [Warning] min_sum_hessian_in_leaf is set=11, min_child_weight=0.001 will be ignored. Current value: min_sum_hessian_in_leaf=11\n",
      "[LightGBM] [Warning] min_data_in_leaf is set=6, min_child_samples=20 will be ignored. Current value: min_data_in_leaf=6\n",
      "[LightGBM] [Warning] feature_fraction is set=0.2319, colsample_bytree=1.0 will be ignored. Current value: feature_fraction=0.2319\n",
      "[LightGBM] [Warning] bagging_freq is set=5, subsample_freq=0 will be ignored. Current value: bagging_freq=5\n",
      "[LightGBM] [Warning] bagging_fraction is set=0.8, subsample=1.0 will be ignored. Current value: bagging_fraction=0.8\n",
      "[LightGBM] [Warning] min_sum_hessian_in_leaf is set=11, min_child_weight=0.001 will be ignored. Current value: min_sum_hessian_in_leaf=11\n",
      "[LightGBM] [Warning] min_data_in_leaf is set=6, min_child_samples=20 will be ignored. Current value: min_data_in_leaf=6\n",
      "[LightGBM] [Warning] feature_fraction is set=0.2319, colsample_bytree=1.0 will be ignored. Current value: feature_fraction=0.2319\n",
      "[LightGBM] [Warning] bagging_freq is set=5, subsample_freq=0 will be ignored. Current value: bagging_freq=5\n"
     ]
    },
    {
     "data": {
      "text/plain": [
       "StackingRegressor(estimators=[('ls', Lasso(alpha=0.0005, random_state=1123)),\n",
       "                              ('lgbm',\n",
       "                               LGBMRegressor(bagging_fraction=0.8,\n",
       "                                             bagging_freq=5, bagging_seed=9,\n",
       "                                             feature_fraction=0.2319,\n",
       "                                             feature_fraction_seed=9,\n",
       "                                             learning_rate=0.05, max_bin=55,\n",
       "                                             min_data_in_leaf=6,\n",
       "                                             min_sum_hessian_in_leaf=11,\n",
       "                                             n_estimators=720, num_leaves=5,\n",
       "                                             objective='regression')),\n",
       "                              ('gboost',\n",
       "                               GradientBoost...\n",
       "                                            importance_type=None,\n",
       "                                            interaction_constraints=None,\n",
       "                                            learning_rate=0.05, max_bin=None,\n",
       "                                            max_cat_to_onehot=None,\n",
       "                                            max_delta_step=None, max_depth=3,\n",
       "                                            max_leaves=None,\n",
       "                                            min_child_weight=1.7817,\n",
       "                                            missing=nan,\n",
       "                                            monotone_constraints=None,\n",
       "                                            n_estimators=2200, n_jobs=None,\n",
       "                                            nthread=-1, num_parallel_tree=None,\n",
       "                                            predictor=None, random_state=1123,\n",
       "                                            reg_alpha=0.464, ...))],\n",
       "                  final_estimator=LassoCV())"
      ]
     },
     "execution_count": 56,
     "metadata": {},
     "output_type": "execute_result"
    }
   ],
   "source": [
    "lgbm = lgb.LGBMRegressor(objective='regression',num_leaves=5,\n",
    "                              learning_rate=0.05, n_estimators=720,\n",
    "                              max_bin = 55, bagging_fraction = 0.8,\n",
    "                              bagging_freq = 5, feature_fraction = 0.2319,\n",
    "                              feature_fraction_seed=9, bagging_seed=9,\n",
    "                              min_data_in_leaf =6, min_sum_hessian_in_leaf = 11)\n",
    "\n",
    "GBoost = GradientBoostingRegressor(n_estimators=3000, learning_rate=0.05,\n",
    "                                   max_depth=4, max_features='sqrt',\n",
    "                                   min_samples_leaf=15, min_samples_split=10, \n",
    "                                   loss='huber', random_state =1123)\n",
    "\n",
    "KRR = KernelRidge(alpha=0.6, kernel='polynomial', degree=2, coef0=2.5)\n",
    "\n",
    "\n",
    "ENet = ElasticNet(alpha=0.0005, l1_ratio=.9, random_state=1123)\n",
    "\n",
    "lasso = Lasso(alpha =0.0005, random_state=1123)\n",
    "\n",
    "\n",
    "xgr=xg.XGBRegressor(colsample_bytree=0.4603, gamma=0.0468, \n",
    "                             learning_rate=0.05, max_depth=3, \n",
    "                             min_child_weight=1.7817, n_estimators=2200,\n",
    "                             reg_alpha=0.4640, reg_lambda=0.8571,\n",
    "                             subsample=0.5213, silent=1,\n",
    "                             random_state =1123, nthread = -1)\n",
    "\n",
    " \n",
    "estimators = [\n",
    "              ('ls', lasso),\n",
    "              ('lgbm',lgbm),\n",
    "              ('gboost',GBoost),\n",
    "              ('krr',KRR),\n",
    "              ('enet',ENet),\n",
    "              ('xg',xgr)]\n",
    "\n",
    "\n",
    "stacking_regressor = StackingRegressor(estimators=estimators, final_estimator=LassoCV(),verbose=0)\n",
    "stacking_regressor.fit(X_train,np.log(y_train))\n",
    "  "
   ]
  },
  {
   "cell_type": "code",
   "execution_count": 57,
   "id": "bef9941c",
   "metadata": {
    "execution": {
     "iopub.execute_input": "2023-01-18T00:51:17.205337Z",
     "iopub.status.busy": "2023-01-18T00:51:17.204454Z",
     "iopub.status.idle": "2023-01-18T00:51:17.354836Z",
     "shell.execute_reply": "2023-01-18T00:51:17.353801Z"
    },
    "papermill": {
     "duration": 0.210267,
     "end_time": "2023-01-18T00:51:17.359291",
     "exception": false,
     "start_time": "2023-01-18T00:51:17.149024",
     "status": "completed"
    },
    "tags": []
   },
   "outputs": [
    {
     "data": {
      "text/plain": [
       "0.1045404499985335"
      ]
     },
     "execution_count": 57,
     "metadata": {},
     "output_type": "execute_result"
    }
   ],
   "source": [
    "y_pred=stacking_regressor.predict(X_test)\n",
    "mean_squared_error(y_pred,np.log(y_test),squared=False)"
   ]
  },
  {
   "cell_type": "code",
   "execution_count": 58,
   "id": "e15e5bd7",
   "metadata": {
    "execution": {
     "iopub.execute_input": "2023-01-18T00:51:17.530999Z",
     "iopub.status.busy": "2023-01-18T00:51:17.530040Z",
     "iopub.status.idle": "2023-01-18T00:51:17.873264Z",
     "shell.execute_reply": "2023-01-18T00:51:17.872058Z"
    },
    "papermill": {
     "duration": 0.403476,
     "end_time": "2023-01-18T00:51:17.876028",
     "exception": false,
     "start_time": "2023-01-18T00:51:17.472552",
     "status": "completed"
    },
    "tags": []
   },
   "outputs": [
    {
     "name": "stdout",
     "output_type": "stream",
     "text": [
      "Null columns:  0\n",
      "9  columns deleted\n",
      "Shape of transformed test data : (1459, 282)\n"
     ]
    }
   ],
   "source": [
    "test_data2=process_testdata2(\"../input/house-prices-advanced-regression-techniques/test.csv\",coldel,encoder,sk_train,ct)"
   ]
  },
  {
   "cell_type": "code",
   "execution_count": 59,
   "id": "f7da62a5",
   "metadata": {
    "execution": {
     "iopub.execute_input": "2023-01-18T00:51:17.989665Z",
     "iopub.status.busy": "2023-01-18T00:51:17.989298Z",
     "iopub.status.idle": "2023-01-18T00:51:18.329265Z",
     "shell.execute_reply": "2023-01-18T00:51:18.327967Z"
    },
    "papermill": {
     "duration": 0.39989,
     "end_time": "2023-01-18T00:51:18.332637",
     "exception": false,
     "start_time": "2023-01-18T00:51:17.932747",
     "status": "completed"
    },
    "tags": []
   },
   "outputs": [
    {
     "data": {
      "text/plain": [
       "array([122163.44651859, 164546.92246063, 191488.26422503, ...,\n",
       "       176792.31211099, 119423.84438106, 232629.15144903])"
      ]
     },
     "execution_count": 59,
     "metadata": {},
     "output_type": "execute_result"
    }
   ],
   "source": [
    "ypred_testdata=stacking_regressor.predict(test_data2)\n",
    "np.exp(ypred_testdata)"
   ]
  },
  {
   "cell_type": "code",
   "execution_count": 60,
   "id": "77a4b4e9",
   "metadata": {
    "execution": {
     "iopub.execute_input": "2023-01-18T00:51:18.558874Z",
     "iopub.status.busy": "2023-01-18T00:51:18.558341Z",
     "iopub.status.idle": "2023-01-18T00:51:18.563678Z",
     "shell.execute_reply": "2023-01-18T00:51:18.562471Z"
    },
    "papermill": {
     "duration": 0.094038,
     "end_time": "2023-01-18T00:51:18.567186",
     "exception": false,
     "start_time": "2023-01-18T00:51:18.473148",
     "status": "completed"
    },
    "tags": []
   },
   "outputs": [],
   "source": [
    "# testdata=pd.read_csv(\"test.csv\")\n",
    "# test_id=testdata[\"Id\"]\n",
    " \n",
    "# stacksubmission=pd.DataFrame({'Id':test_id,'SalePrice':np.exp(ypred_testdata)})\n",
    "# stacksubmission.to_csv('nm-stacked2.csv',index=False) \n",
    "# stacksubmission\n",
    "#Kaggle Score - 0.12093"
   ]
  },
  {
   "cell_type": "markdown",
   "id": "e839509f",
   "metadata": {
    "papermill": {
     "duration": 0.082615,
     "end_time": "2023-01-18T00:51:18.732377",
     "exception": false,
     "start_time": "2023-01-18T00:51:18.649762",
     "status": "completed"
    },
    "tags": []
   },
   "source": [
    "#### With Full dataset - after deleting outliers"
   ]
  },
  {
   "cell_type": "code",
   "execution_count": 61,
   "id": "8dac8160",
   "metadata": {
    "execution": {
     "iopub.execute_input": "2023-01-18T00:51:18.843122Z",
     "iopub.status.busy": "2023-01-18T00:51:18.842748Z",
     "iopub.status.idle": "2023-01-18T00:51:19.398959Z",
     "shell.execute_reply": "2023-01-18T00:51:19.397976Z"
    },
    "papermill": {
     "duration": 0.613646,
     "end_time": "2023-01-18T00:51:19.401340",
     "exception": false,
     "start_time": "2023-01-18T00:51:18.787694",
     "status": "completed"
    },
    "tags": []
   },
   "outputs": [],
   "source": [
    "#load the input data\n",
    "y=np.loadtxt(\"y.csv\",delimiter=',') \n",
    "X1=np.loadtxt(\"x1.csv\",delimiter=',')\n",
    "test_data=np.loadtxt(\"test_data1.csv\",delimiter=',')"
   ]
  },
  {
   "cell_type": "code",
   "execution_count": 62,
   "id": "a71b599b",
   "metadata": {
    "execution": {
     "iopub.execute_input": "2023-01-18T00:51:19.512811Z",
     "iopub.status.busy": "2023-01-18T00:51:19.512472Z",
     "iopub.status.idle": "2023-01-18T00:53:51.638962Z",
     "shell.execute_reply": "2023-01-18T00:53:51.638022Z"
    },
    "papermill": {
     "duration": 152.237304,
     "end_time": "2023-01-18T00:53:51.693668",
     "exception": false,
     "start_time": "2023-01-18T00:51:19.456364",
     "status": "completed"
    },
    "tags": []
   },
   "outputs": [
    {
     "name": "stdout",
     "output_type": "stream",
     "text": [
      "[LightGBM] [Warning] bagging_fraction is set=0.8, subsample=1.0 will be ignored. Current value: bagging_fraction=0.8\n",
      "[LightGBM] [Warning] min_sum_hessian_in_leaf is set=11, min_child_weight=0.001 will be ignored. Current value: min_sum_hessian_in_leaf=11\n",
      "[LightGBM] [Warning] min_data_in_leaf is set=6, min_child_samples=20 will be ignored. Current value: min_data_in_leaf=6\n",
      "[LightGBM] [Warning] feature_fraction is set=0.2319, colsample_bytree=1.0 will be ignored. Current value: feature_fraction=0.2319\n",
      "[LightGBM] [Warning] bagging_freq is set=5, subsample_freq=0 will be ignored. Current value: bagging_freq=5\n",
      "[LightGBM] [Warning] bagging_fraction is set=0.8, subsample=1.0 will be ignored. Current value: bagging_fraction=0.8\n",
      "[LightGBM] [Warning] min_sum_hessian_in_leaf is set=11, min_child_weight=0.001 will be ignored. Current value: min_sum_hessian_in_leaf=11\n",
      "[LightGBM] [Warning] min_data_in_leaf is set=6, min_child_samples=20 will be ignored. Current value: min_data_in_leaf=6\n",
      "[LightGBM] [Warning] feature_fraction is set=0.2319, colsample_bytree=1.0 will be ignored. Current value: feature_fraction=0.2319\n",
      "[LightGBM] [Warning] bagging_freq is set=5, subsample_freq=0 will be ignored. Current value: bagging_freq=5\n",
      "[LightGBM] [Warning] bagging_fraction is set=0.8, subsample=1.0 will be ignored. Current value: bagging_fraction=0.8\n",
      "[LightGBM] [Warning] min_sum_hessian_in_leaf is set=11, min_child_weight=0.001 will be ignored. Current value: min_sum_hessian_in_leaf=11\n",
      "[LightGBM] [Warning] min_data_in_leaf is set=6, min_child_samples=20 will be ignored. Current value: min_data_in_leaf=6\n",
      "[LightGBM] [Warning] feature_fraction is set=0.2319, colsample_bytree=1.0 will be ignored. Current value: feature_fraction=0.2319\n",
      "[LightGBM] [Warning] bagging_freq is set=5, subsample_freq=0 will be ignored. Current value: bagging_freq=5\n",
      "[LightGBM] [Warning] bagging_fraction is set=0.8, subsample=1.0 will be ignored. Current value: bagging_fraction=0.8\n",
      "[LightGBM] [Warning] min_sum_hessian_in_leaf is set=11, min_child_weight=0.001 will be ignored. Current value: min_sum_hessian_in_leaf=11\n",
      "[LightGBM] [Warning] min_data_in_leaf is set=6, min_child_samples=20 will be ignored. Current value: min_data_in_leaf=6\n",
      "[LightGBM] [Warning] feature_fraction is set=0.2319, colsample_bytree=1.0 will be ignored. Current value: feature_fraction=0.2319\n",
      "[LightGBM] [Warning] bagging_freq is set=5, subsample_freq=0 will be ignored. Current value: bagging_freq=5\n",
      "[LightGBM] [Warning] bagging_fraction is set=0.8, subsample=1.0 will be ignored. Current value: bagging_fraction=0.8\n",
      "[LightGBM] [Warning] min_sum_hessian_in_leaf is set=11, min_child_weight=0.001 will be ignored. Current value: min_sum_hessian_in_leaf=11\n",
      "[LightGBM] [Warning] min_data_in_leaf is set=6, min_child_samples=20 will be ignored. Current value: min_data_in_leaf=6\n",
      "[LightGBM] [Warning] feature_fraction is set=0.2319, colsample_bytree=1.0 will be ignored. Current value: feature_fraction=0.2319\n",
      "[LightGBM] [Warning] bagging_freq is set=5, subsample_freq=0 will be ignored. Current value: bagging_freq=5\n"
     ]
    },
    {
     "data": {
      "text/plain": [
       "StackingRegressor(estimators=[('ls', Lasso(alpha=0.0005, random_state=1123)),\n",
       "                              ('lgbm',\n",
       "                               LGBMRegressor(bagging_fraction=0.8,\n",
       "                                             bagging_freq=5, bagging_seed=9,\n",
       "                                             feature_fraction=0.2319,\n",
       "                                             feature_fraction_seed=9,\n",
       "                                             learning_rate=0.05, max_bin=55,\n",
       "                                             min_data_in_leaf=6,\n",
       "                                             min_sum_hessian_in_leaf=11,\n",
       "                                             n_estimators=720, num_leaves=5,\n",
       "                                             objective='regression')),\n",
       "                              ('gboost',\n",
       "                               GradientBoost...\n",
       "                                            importance_type=None,\n",
       "                                            interaction_constraints=None,\n",
       "                                            learning_rate=0.05, max_bin=None,\n",
       "                                            max_cat_to_onehot=None,\n",
       "                                            max_delta_step=None, max_depth=3,\n",
       "                                            max_leaves=None,\n",
       "                                            min_child_weight=1.7817,\n",
       "                                            missing=nan,\n",
       "                                            monotone_constraints=None,\n",
       "                                            n_estimators=2200, n_jobs=None,\n",
       "                                            nthread=-1, num_parallel_tree=None,\n",
       "                                            predictor=None, random_state=1123,\n",
       "                                            reg_alpha=0.464, ...))],\n",
       "                  final_estimator=LassoCV())"
      ]
     },
     "execution_count": 62,
     "metadata": {},
     "output_type": "execute_result"
    }
   ],
   "source": [
    "stacking_regressor.fit(X1,np.log(y))"
   ]
  },
  {
   "cell_type": "code",
   "execution_count": 63,
   "id": "77f14e8a",
   "metadata": {
    "execution": {
     "iopub.execute_input": "2023-01-18T00:53:51.805960Z",
     "iopub.status.busy": "2023-01-18T00:53:51.805596Z",
     "iopub.status.idle": "2023-01-18T00:53:52.148345Z",
     "shell.execute_reply": "2023-01-18T00:53:52.136761Z"
    },
    "papermill": {
     "duration": 0.405465,
     "end_time": "2023-01-18T00:53:52.153968",
     "exception": false,
     "start_time": "2023-01-18T00:53:51.748503",
     "status": "completed"
    },
    "tags": []
   },
   "outputs": [
    {
     "data": {
      "text/plain": [
       "0.07455194549584211"
      ]
     },
     "execution_count": 63,
     "metadata": {},
     "output_type": "execute_result"
    }
   ],
   "source": [
    "y_pred=stacking_regressor.predict(X1)\n",
    "mean_squared_error(y_pred,np.log(y),squared=False)"
   ]
  },
  {
   "cell_type": "code",
   "execution_count": 64,
   "id": "83e079d0",
   "metadata": {
    "execution": {
     "iopub.execute_input": "2023-01-18T00:53:52.350133Z",
     "iopub.status.busy": "2023-01-18T00:53:52.349607Z",
     "iopub.status.idle": "2023-01-18T00:53:52.737146Z",
     "shell.execute_reply": "2023-01-18T00:53:52.736135Z"
    },
    "papermill": {
     "duration": 0.471922,
     "end_time": "2023-01-18T00:53:52.739575",
     "exception": false,
     "start_time": "2023-01-18T00:53:52.267653",
     "status": "completed"
    },
    "tags": []
   },
   "outputs": [],
   "source": [
    "test_data=np.loadtxt(\"test_data1.csv\",delimiter=',')"
   ]
  },
  {
   "cell_type": "code",
   "execution_count": 65,
   "id": "d82b6b9f",
   "metadata": {
    "execution": {
     "iopub.execute_input": "2023-01-18T00:53:52.852810Z",
     "iopub.status.busy": "2023-01-18T00:53:52.852236Z",
     "iopub.status.idle": "2023-01-18T00:53:53.078399Z",
     "shell.execute_reply": "2023-01-18T00:53:53.077336Z"
    },
    "papermill": {
     "duration": 0.287264,
     "end_time": "2023-01-18T00:53:53.082463",
     "exception": false,
     "start_time": "2023-01-18T00:53:52.795199",
     "status": "completed"
    },
    "tags": []
   },
   "outputs": [
    {
     "data": {
      "text/plain": [
       "array([120880.40335073, 157414.3301691 , 184034.36960507, ...,\n",
       "       161371.69632505, 117441.31133625, 225561.77509518])"
      ]
     },
     "execution_count": 65,
     "metadata": {},
     "output_type": "execute_result"
    }
   ],
   "source": [
    "ypred_testdata=stacking_regressor.predict(test_data)\n",
    "np.exp(ypred_testdata)"
   ]
  },
  {
   "cell_type": "code",
   "execution_count": 66,
   "id": "242430e3",
   "metadata": {
    "execution": {
     "iopub.execute_input": "2023-01-18T00:53:53.267770Z",
     "iopub.status.busy": "2023-01-18T00:53:53.267431Z",
     "iopub.status.idle": "2023-01-18T00:53:53.271900Z",
     "shell.execute_reply": "2023-01-18T00:53:53.270743Z"
    },
    "papermill": {
     "duration": 0.062508,
     "end_time": "2023-01-18T00:53:53.273996",
     "exception": false,
     "start_time": "2023-01-18T00:53:53.211488",
     "status": "completed"
    },
    "tags": []
   },
   "outputs": [],
   "source": [
    "# testdata=pd.read_csv(\"test.csv\")\n",
    "# test_id=testdata[\"Id\"]\n",
    " \n",
    "# stacksubmission=pd.DataFrame({'Id':test_id,'SalePrice':np.exp(ypred_testdata)})\n",
    "# stacksubmission.to_csv('nm-stacked3.csv',index=False) \n",
    "# stacksubmission\n",
    "# Kaggle Score - 0.12023"
   ]
  },
  {
   "cell_type": "markdown",
   "id": "8a1a829a",
   "metadata": {
    "papermill": {
     "duration": 0.054068,
     "end_time": "2023-01-18T00:53:53.382165",
     "exception": false,
     "start_time": "2023-01-18T00:53:53.328097",
     "status": "completed"
    },
    "tags": []
   },
   "source": [
    "### Deep Learning Model for Stacking"
   ]
  },
  {
   "cell_type": "code",
   "execution_count": 67,
   "id": "18b676e6",
   "metadata": {
    "execution": {
     "iopub.execute_input": "2023-01-18T00:53:53.492575Z",
     "iopub.status.busy": "2023-01-18T00:53:53.491946Z",
     "iopub.status.idle": "2023-01-18T00:53:53.501110Z",
     "shell.execute_reply": "2023-01-18T00:53:53.499965Z"
    },
    "papermill": {
     "duration": 0.067582,
     "end_time": "2023-01-18T00:53:53.503449",
     "exception": false,
     "start_time": "2023-01-18T00:53:53.435867",
     "status": "completed"
    },
    "tags": []
   },
   "outputs": [],
   "source": [
    "def create_model(): \n",
    "    \n",
    "#     boundaries = [9600,19200,28800]\n",
    "#     values = [0.001,0.001, 0.0005,0.0001]\n",
    "\n",
    "    boundaries = [19201,28801]\n",
    "    values = [0.001, 0.0005,0.0001]\n",
    "\n",
    " \n",
    "    lr_schedule = tf.keras.optimizers.schedules.PiecewiseConstantDecay(boundaries, values)\n",
    "    optimizer = tf.keras.optimizers.Adam(learning_rate=lr_schedule)\n",
    "\n",
    "    model =Sequential([  \n",
    "    Dense(80,activation='relu',kernel_initializer=tf.keras.initializers.HeNormal(seed=1234),\n",
    "          kernel_regularizer=tf.keras.regularizers.L2(0.01)),\n",
    "    Dense(60,activation='relu',kernel_initializer=tf.keras.initializers.HeNormal(seed=1234),\n",
    "          kernel_regularizer=tf.keras.regularizers.L2(0.00075)),\n",
    "    Dense(40,activation='relu',kernel_initializer=tf.keras.initializers.HeNormal(seed=1234)),\n",
    "    Dense(20,activation='relu',kernel_initializer=tf.keras.initializers.HeNormal(seed=1234)), \n",
    "    Dense(10,activation='relu',kernel_initializer=tf.keras.initializers.HeNormal(seed=1234)), \n",
    "    Dense(1,activation='relu',kernel_initializer=tf.keras.initializers.HeNormal(seed=1234))\n",
    "    ])\n",
    "\n",
    "    model.compile(loss=tf.keras.losses.MeanSquaredLogarithmicError(),optimizer=optimizer, \n",
    "              metrics=[tf.keras.metrics.MeanSquaredLogarithmicError()])\n",
    "\n",
    "    return model\n"
   ]
  },
  {
   "cell_type": "code",
   "execution_count": 68,
   "id": "a9979306",
   "metadata": {
    "execution": {
     "iopub.execute_input": "2023-01-18T00:53:53.617394Z",
     "iopub.status.busy": "2023-01-18T00:53:53.616468Z",
     "iopub.status.idle": "2023-01-18T00:57:20.076362Z",
     "shell.execute_reply": "2023-01-18T00:57:20.075148Z"
    },
    "papermill": {
     "duration": 206.520002,
     "end_time": "2023-01-18T00:57:20.079360",
     "exception": false,
     "start_time": "2023-01-18T00:53:53.559358",
     "status": "completed"
    },
    "tags": []
   },
   "outputs": [
    {
     "name": "stderr",
     "output_type": "stream",
     "text": [
      "2023-01-18 00:53:59.203272: W tensorflow/compiler/xla/stream_executor/gpu/asm_compiler.cc:115] *** WARNING *** You are using ptxas 11.0.221, which is older than 11.1. ptxas before 11.1 is known to miscompile XLA code, leading to incorrect results or invalid-address errors.\n",
      "\n",
      "You may not need to update to CUDA 11.1; cherry-picking the ptxas binary is often sufficient.\n",
      "2023-01-18 00:53:59.374700: W tensorflow/compiler/xla/stream_executor/gpu/asm_compiler.cc:115] *** WARNING *** You are using ptxas 11.0.221, which is older than 11.1. ptxas before 11.1 is known to miscompile XLA code, leading to incorrect results or invalid-address errors.\n",
      "\n",
      "You may not need to update to CUDA 11.1; cherry-picking the ptxas binary is often sufficient.\n",
      "2023-01-18 00:53:59.518670: W tensorflow/compiler/xla/stream_executor/gpu/asm_compiler.cc:115] *** WARNING *** You are using ptxas 11.0.221, which is older than 11.1. ptxas before 11.1 is known to miscompile XLA code, leading to incorrect results or invalid-address errors.\n",
      "\n",
      "You may not need to update to CUDA 11.1; cherry-picking the ptxas binary is often sufficient.\n",
      "2023-01-18 00:53:59.739651: W tensorflow/compiler/xla/stream_executor/gpu/asm_compiler.cc:115] *** WARNING *** You are using ptxas 11.0.221, which is older than 11.1. ptxas before 11.1 is known to miscompile XLA code, leading to incorrect results or invalid-address errors.\n",
      "\n",
      "You may not need to update to CUDA 11.1; cherry-picking the ptxas binary is often sufficient.\n",
      "2023-01-18 00:53:59.885371: W tensorflow/compiler/xla/stream_executor/gpu/asm_compiler.cc:115] *** WARNING *** You are using ptxas 11.0.221, which is older than 11.1. ptxas before 11.1 is known to miscompile XLA code, leading to incorrect results or invalid-address errors.\n",
      "\n",
      "You may not need to update to CUDA 11.1; cherry-picking the ptxas binary is often sufficient.\n",
      "2023-01-18 00:54:00.034757: W tensorflow/compiler/xla/stream_executor/gpu/asm_compiler.cc:115] *** WARNING *** You are using ptxas 11.0.221, which is older than 11.1. ptxas before 11.1 is known to miscompile XLA code, leading to incorrect results or invalid-address errors.\n",
      "\n",
      "You may not need to update to CUDA 11.1; cherry-picking the ptxas binary is often sufficient.\n",
      "2023-01-18 00:54:00.180710: W tensorflow/compiler/xla/stream_executor/gpu/asm_compiler.cc:115] *** WARNING *** You are using ptxas 11.0.221, which is older than 11.1. ptxas before 11.1 is known to miscompile XLA code, leading to incorrect results or invalid-address errors.\n",
      "\n",
      "You may not need to update to CUDA 11.1; cherry-picking the ptxas binary is often sufficient.\n",
      "2023-01-18 00:54:00.328653: W tensorflow/compiler/xla/stream_executor/gpu/asm_compiler.cc:115] *** WARNING *** You are using ptxas 11.0.221, which is older than 11.1. ptxas before 11.1 is known to miscompile XLA code, leading to incorrect results or invalid-address errors.\n",
      "\n",
      "You may not need to update to CUDA 11.1; cherry-picking the ptxas binary is often sufficient.\n",
      "2023-01-18 00:54:00.472572: W tensorflow/compiler/xla/stream_executor/gpu/asm_compiler.cc:115] *** WARNING *** You are using ptxas 11.0.221, which is older than 11.1. ptxas before 11.1 is known to miscompile XLA code, leading to incorrect results or invalid-address errors.\n",
      "\n",
      "You may not need to update to CUDA 11.1; cherry-picking the ptxas binary is often sufficient.\n",
      "2023-01-18 00:54:00.621226: W tensorflow/compiler/xla/stream_executor/gpu/asm_compiler.cc:115] *** WARNING *** You are using ptxas 11.0.221, which is older than 11.1. ptxas before 11.1 is known to miscompile XLA code, leading to incorrect results or invalid-address errors.\n",
      "\n",
      "You may not need to update to CUDA 11.1; cherry-picking the ptxas binary is often sufficient.\n",
      "2023-01-18 00:54:00.768162: W tensorflow/compiler/xla/stream_executor/gpu/asm_compiler.cc:115] *** WARNING *** You are using ptxas 11.0.221, which is older than 11.1. ptxas before 11.1 is known to miscompile XLA code, leading to incorrect results or invalid-address errors.\n",
      "\n",
      "You may not need to update to CUDA 11.1; cherry-picking the ptxas binary is often sufficient.\n"
     ]
    }
   ],
   "source": [
    "dlmodel=create_model()\n",
    "\n",
    "num_epochs=800\n",
    "\n",
    "hist_model=dlmodel.fit(X_train,y_train,validation_data=(X_test,y_test),batch_size=32,\n",
    "                      verbose=0,epochs=num_epochs)"
   ]
  },
  {
   "cell_type": "code",
   "execution_count": 69,
   "id": "4c89d094",
   "metadata": {
    "execution": {
     "iopub.execute_input": "2023-01-18T00:57:20.199873Z",
     "iopub.status.busy": "2023-01-18T00:57:20.198913Z",
     "iopub.status.idle": "2023-01-18T01:02:21.264280Z",
     "shell.execute_reply": "2023-01-18T01:02:21.263213Z"
    },
    "papermill": {
     "duration": 301.127212,
     "end_time": "2023-01-18T01:02:21.267316",
     "exception": false,
     "start_time": "2023-01-18T00:57:20.140104",
     "status": "completed"
    },
    "tags": []
   },
   "outputs": [],
   "source": [
    "absl.logging.set_verbosity(absl.logging.ERROR)\n",
    "logging.getLogger(\"tensorflow\").setLevel(logging.WARNING)\n",
    "\n",
    "dlmodel=create_model()\n",
    "\n",
    "num_epochs=300\n",
    "\n",
    "checkpoint_stackdl_path = '/stackdl'\n",
    "\n",
    "model_checkpoint = tf.keras.callbacks.ModelCheckpoint(checkpoint_stackdl_path,save_best_only=True,verbose=0,\n",
    "                                                      monitor=\"val_loss\")\n",
    "\n",
    "hist_model=dlmodel.fit(X_train,y_train,validation_data=(X_test,y_test),batch_size=32,\n",
    "                      verbose=0,epochs=num_epochs,callbacks=[model_checkpoint]) "
   ]
  },
  {
   "cell_type": "code",
   "execution_count": 70,
   "id": "9ae19ad8",
   "metadata": {
    "execution": {
     "iopub.execute_input": "2023-01-18T01:02:21.430059Z",
     "iopub.status.busy": "2023-01-18T01:02:21.429690Z",
     "iopub.status.idle": "2023-01-18T01:02:21.614188Z",
     "shell.execute_reply": "2023-01-18T01:02:21.612634Z"
    },
    "papermill": {
     "duration": 0.290791,
     "end_time": "2023-01-18T01:02:21.616382",
     "exception": false,
     "start_time": "2023-01-18T01:02:21.325591",
     "status": "completed"
    },
    "tags": []
   },
   "outputs": [
    {
     "name": "stdout",
     "output_type": "stream",
     "text": [
      "10/10 [==============================] - 0s 2ms/step\n",
      "Root mean squared log error  is  35940.926880118626\n",
      "R2 Score is  0.6616771284037459\n"
     ]
    }
   ],
   "source": [
    "y_pred=dlmodel.predict(X_test)\n",
    "rmsle=mean_squared_error(y_pred,y_test,squared=False)\n",
    "print(\"Root mean squared log error  is \",rmsle)\n",
    "print(\"R2 Score is \",r2_score(y_pred,y_test))"
   ]
  },
  {
   "cell_type": "code",
   "execution_count": 71,
   "id": "08cdc431",
   "metadata": {
    "execution": {
     "iopub.execute_input": "2023-01-18T01:02:21.730092Z",
     "iopub.status.busy": "2023-01-18T01:02:21.729768Z",
     "iopub.status.idle": "2023-01-18T01:02:22.248971Z",
     "shell.execute_reply": "2023-01-18T01:02:22.247252Z"
    },
    "papermill": {
     "duration": 0.57824,
     "end_time": "2023-01-18T01:02:22.251213",
     "exception": false,
     "start_time": "2023-01-18T01:02:21.672973",
     "status": "completed"
    },
    "tags": []
   },
   "outputs": [
    {
     "name": "stdout",
     "output_type": "stream",
     "text": [
      "10/10 [==============================] - 0s 2ms/step\n",
      "Root mean squared log error is  0.14793482357290322\n",
      "R2 Score is  0.8118403559997341\n"
     ]
    }
   ],
   "source": [
    "checkpoint_stackdl_path = '/stackdl'\n",
    "dlmodel=tf.keras.models.load_model(checkpoint_stackdl_path)\n",
    "\n",
    "yx_pred1=dlmodel.predict(X_test)\n",
    "rmsle=mean_squared_error(np.log(yx_pred1),np.log(y_test),squared=False)\n",
    "print(\"Root mean squared log error is \",rmsle)\n",
    "print(\"R2 Score is \",r2_score(np.log(yx_pred1),np.log(y_test)))"
   ]
  },
  {
   "cell_type": "code",
   "execution_count": 72,
   "id": "a440e358",
   "metadata": {
    "execution": {
     "iopub.execute_input": "2023-01-18T01:02:22.367395Z",
     "iopub.status.busy": "2023-01-18T01:02:22.365536Z",
     "iopub.status.idle": "2023-01-18T01:02:22.371674Z",
     "shell.execute_reply": "2023-01-18T01:02:22.370782Z"
    },
    "papermill": {
     "duration": 0.066168,
     "end_time": "2023-01-18T01:02:22.373750",
     "exception": false,
     "start_time": "2023-01-18T01:02:22.307582",
     "status": "completed"
    },
    "tags": []
   },
   "outputs": [],
   "source": [
    "# yx_pred=dlmodel.predict(test_data)\n",
    "# yx_pred"
   ]
  },
  {
   "cell_type": "markdown",
   "id": "e3c832b7",
   "metadata": {
    "papermill": {
     "duration": 0.057015,
     "end_time": "2023-01-18T01:02:22.488166",
     "exception": false,
     "start_time": "2023-01-18T01:02:22.431151",
     "status": "completed"
    },
    "tags": []
   },
   "source": [
    "### Cross Validation of Deep Learning Model"
   ]
  },
  {
   "cell_type": "markdown",
   "id": "1e5b8c49",
   "metadata": {
    "papermill": {
     "duration": 0.055049,
     "end_time": "2023-01-18T01:02:22.599229",
     "exception": false,
     "start_time": "2023-01-18T01:02:22.544180",
     "status": "completed"
    },
    "tags": []
   },
   "source": [
    "**This takes a lot of time, I have given the output and not running it in kaggle**"
   ]
  },
  {
   "cell_type": "code",
   "execution_count": 73,
   "id": "5f6336f2",
   "metadata": {
    "execution": {
     "iopub.execute_input": "2023-01-18T01:02:22.712127Z",
     "iopub.status.busy": "2023-01-18T01:02:22.711734Z",
     "iopub.status.idle": "2023-01-18T01:02:22.717948Z",
     "shell.execute_reply": "2023-01-18T01:02:22.716875Z"
    },
    "papermill": {
     "duration": 0.066147,
     "end_time": "2023-01-18T01:02:22.720680",
     "exception": false,
     "start_time": "2023-01-18T01:02:22.654533",
     "status": "completed"
    },
    "tags": []
   },
   "outputs": [],
   "source": [
    "# tf.random.set_seed(1123)\n",
    "\n",
    "# cv_model=create_model()\n",
    "\n",
    "# absl.logging.set_verbosity(absl.logging.ERROR)\n",
    "# logging.getLogger(\"tensorflow\").setLevel(logging.ERROR)\n",
    "\n",
    "# num_folds=5\n",
    "# kfold = KFold(n_splits=num_folds, shuffle=True,random_state=1123)\n",
    "\n",
    "# fold_no = 1\n",
    "# acc_per_fold = []\n",
    "# loss_per_fold = []\n",
    "\n",
    "# cv_model=create_model() \n",
    "\n",
    "# ct.fit(X)\n",
    "\n",
    "# for tra, tes in kfold.split(X, y):    \n",
    "    \n",
    "#     X_train=ct.transform(X.iloc[tra])\n",
    "#     y_train=y[tra]\n",
    "#     X_test=ct.transform(X.iloc[tes])\n",
    "#     y_test=y[tes]\n",
    "\n",
    "#     num_epochs=900\n",
    "\n",
    "#     cv_model.fit(X_train,y_train,validation_data=(X_test,y_test),batch_size=32,\n",
    "#                       verbose=0,epochs=num_epochs) \n",
    "    \n",
    "#     scores = cv_model.evaluate(X_test, y_test, verbose=0)\n",
    "    \n",
    "# #     ypred_testdata[fold_no] = cv_model.predict(test_data)\n",
    "    \n",
    "#     print(f'Score for fold {fold_no}:{cv_model.metrics_names[0]} of {scores[0]};{cv_model.metrics_names[1]} of {np.sqrt(scores[1])}')\n",
    "#     acc_per_fold.append(np.sqrt(scores[1]))\n",
    "#     loss_per_fold.append(scores[0])\n",
    "    \n",
    "#     fold_no += 1\n",
    "          \n",
    "# print(\"Average loss over \",num_folds,\" folds :\",sum(loss_per_fold)/len(loss_per_fold),\"\\n\",\n",
    "#       \"Average RMSLE over \",num_folds,\" folds :\",sum(acc_per_fold)/len(acc_per_fold))\n",
    "\n",
    "\n",
    "# # Result without removing outliers\n",
    "# # # Score for fold 1:loss of 0.01851341500878334;mean_squared_logarithmic_error of 0.11922487031967988\n",
    "# # # Score for fold 2:loss of 0.020068099722266197;mean_squared_logarithmic_error of 0.12776380806454743\n",
    "# # # Score for fold 3:loss of 0.028314953669905663;mean_squared_logarithmic_error of 0.15836473734414347\n",
    "# # # Score for fold 4:loss of 0.01694272831082344;mean_squared_logarithmic_error of 0.11727990242707094\n",
    "# # # Score for fold 5:loss of 0.020004048943519592;mean_squared_logarithmic_error of 0.13101463928261295\n",
    "# # # Average loss over  5  folds : 0.020768649131059646 \n",
    "# # #  Average RMSLE over  5  folds : 0.13072959148761093\n",
    "\n",
    "# #Result after removing 8 outliers\n",
    "# # Score for fold 1:loss of 0.017953351140022278;mean_squared_logarithmic_error of 0.1176721208248425\n",
    "# # Score for fold 2:loss of 0.014617688953876495;mean_squared_logarithmic_error of 0.10603736433876926\n",
    "# # Score for fold 3:loss of 0.015291799791157246;mean_squared_logarithmic_error of 0.11097516609180755\n",
    "# # Score for fold 4:loss of 0.013014090247452259;mean_squared_logarithmic_error of 0.1020088657284752\n",
    "# # Score for fold 5:loss of 0.01701594702899456;mean_squared_logarithmic_error of 0.12146330785692717\n",
    "# # Average loss over  5  folds : 0.015578575432300568 \n",
    "# #  Average RMSLE over  5  folds : 0.11163136496816435"
   ]
  },
  {
   "cell_type": "markdown",
   "id": "f08a6ea9",
   "metadata": {
    "papermill": {
     "duration": 0.054902,
     "end_time": "2023-01-18T01:02:22.830473",
     "exception": false,
     "start_time": "2023-01-18T01:02:22.775571",
     "status": "completed"
    },
    "tags": []
   },
   "source": [
    "#### Using Scikeras to wrap Deep Learning Model"
   ]
  },
  {
   "cell_type": "code",
   "execution_count": 74,
   "id": "0e6d58f9",
   "metadata": {
    "execution": {
     "iopub.execute_input": "2023-01-18T01:02:22.943644Z",
     "iopub.status.busy": "2023-01-18T01:02:22.943306Z",
     "iopub.status.idle": "2023-01-18T01:02:22.948499Z",
     "shell.execute_reply": "2023-01-18T01:02:22.947423Z"
    },
    "papermill": {
     "duration": 0.064412,
     "end_time": "2023-01-18T01:02:22.951094",
     "exception": false,
     "start_time": "2023-01-18T01:02:22.886682",
     "status": "completed"
    },
    "tags": []
   },
   "outputs": [],
   "source": [
    "from scikeras.wrappers import KerasRegressor\n",
    "\n",
    "dlmodel2=KerasRegressor(model=dlmodel, warm_start=True, random_state=1123) \n",
    "#                                        optimizer=None, loss=None, metrics=None, batch_size=None, \n",
    "#                                        validation_batch_size=None, verbose=1, callbacks=None, validation_split=0.0, \n",
    "#                                        shuffle=True, run_eagerly=False, epochs=900)"
   ]
  },
  {
   "cell_type": "markdown",
   "id": "fa38462c",
   "metadata": {
    "papermill": {
     "duration": 0.056248,
     "end_time": "2023-01-18T01:02:23.063093",
     "exception": false,
     "start_time": "2023-01-18T01:02:23.006845",
     "status": "completed"
    },
    "tags": []
   },
   "source": [
    "### Stacking including Deep Learnng Model - Cross Validation"
   ]
  },
  {
   "cell_type": "code",
   "execution_count": 75,
   "id": "11bdc22d",
   "metadata": {
    "execution": {
     "iopub.execute_input": "2023-01-18T01:02:23.176019Z",
     "iopub.status.busy": "2023-01-18T01:02:23.175655Z",
     "iopub.status.idle": "2023-01-18T01:02:23.180894Z",
     "shell.execute_reply": "2023-01-18T01:02:23.179151Z"
    },
    "papermill": {
     "duration": 0.063584,
     "end_time": "2023-01-18T01:02:23.182786",
     "exception": false,
     "start_time": "2023-01-18T01:02:23.119202",
     "status": "completed"
    },
    "tags": []
   },
   "outputs": [],
   "source": [
    "# stackdlmodel = StackingCVRegressor(regressors=(dlmodel2,model_lgb,GBoost,ENet,KRR,xgr2),\n",
    "#                             meta_regressor=lasso, cv=5,\n",
    "#                             use_features_in_secondary=False,\n",
    "#                             store_train_meta_features=True,\n",
    "#                             shuffle=True,\n",
    "#                             random_state=89765)"
   ]
  },
  {
   "cell_type": "code",
   "execution_count": 76,
   "id": "7c04918c",
   "metadata": {
    "execution": {
     "iopub.execute_input": "2023-01-18T01:02:23.295257Z",
     "iopub.status.busy": "2023-01-18T01:02:23.294425Z",
     "iopub.status.idle": "2023-01-18T01:02:23.299841Z",
     "shell.execute_reply": "2023-01-18T01:02:23.298757Z"
    },
    "papermill": {
     "duration": 0.063941,
     "end_time": "2023-01-18T01:02:23.301901",
     "exception": false,
     "start_time": "2023-01-18T01:02:23.237960",
     "status": "completed"
    },
    "tags": []
   },
   "outputs": [],
   "source": [
    "def rmsle_stack(model):\n",
    "     \n",
    "    rmse= np.sqrt(-cross_val_score(model, X_train, np.log(y_train), scoring=\"neg_mean_squared_error\", cv = 5))\n",
    "    return(rmse)"
   ]
  },
  {
   "cell_type": "code",
   "execution_count": 77,
   "id": "07ddfc5f",
   "metadata": {
    "execution": {
     "iopub.execute_input": "2023-01-18T01:02:23.414012Z",
     "iopub.status.busy": "2023-01-18T01:02:23.413665Z",
     "iopub.status.idle": "2023-01-18T01:02:23.417959Z",
     "shell.execute_reply": "2023-01-18T01:02:23.416985Z"
    },
    "papermill": {
     "duration": 0.063285,
     "end_time": "2023-01-18T01:02:23.420244",
     "exception": false,
     "start_time": "2023-01-18T01:02:23.356959",
     "status": "completed"
    },
    "tags": []
   },
   "outputs": [],
   "source": [
    "# Dont run this cell.. takes a long time - result for given pythonseed and random state noted here\n",
    "\n",
    "# rmsle_stack(stackdlmodel)\n",
    "\n",
    "#Results - array([0.11673763, 0.11025071, 0.09852142, 0.10274116, 0.09937728]) - Mean --> 0.1055"
   ]
  },
  {
   "cell_type": "markdown",
   "id": "ec10db1c",
   "metadata": {
    "papermill": {
     "duration": 0.056056,
     "end_time": "2023-01-18T01:02:23.531834",
     "exception": false,
     "start_time": "2023-01-18T01:02:23.475778",
     "status": "completed"
    },
    "tags": []
   },
   "source": [
    "### Stacking without a deep learning model"
   ]
  },
  {
   "cell_type": "code",
   "execution_count": 78,
   "id": "11c664d1",
   "metadata": {
    "execution": {
     "iopub.execute_input": "2023-01-18T01:02:23.646980Z",
     "iopub.status.busy": "2023-01-18T01:02:23.646003Z",
     "iopub.status.idle": "2023-01-18T01:02:24.203428Z",
     "shell.execute_reply": "2023-01-18T01:02:24.202267Z"
    },
    "papermill": {
     "duration": 0.617917,
     "end_time": "2023-01-18T01:02:24.206054",
     "exception": false,
     "start_time": "2023-01-18T01:02:23.588137",
     "status": "completed"
    },
    "tags": []
   },
   "outputs": [
    {
     "data": {
      "text/plain": [
       "((1452, 281), (1452,), (1459, 281))"
      ]
     },
     "execution_count": 78,
     "metadata": {},
     "output_type": "execute_result"
    }
   ],
   "source": [
    "y=np.loadtxt(\"y.csv\",delimiter=',')\n",
    "\n",
    "X1=np.loadtxt(\"x1.csv\",delimiter=',')\n",
    "\n",
    "test_data=np.loadtxt(\"test_data1.csv\",delimiter=',')\n",
    "X1.shape,y.shape,test_data.shape"
   ]
  },
  {
   "cell_type": "code",
   "execution_count": 79,
   "id": "80e2b4cf",
   "metadata": {
    "execution": {
     "iopub.execute_input": "2023-01-18T01:02:24.320275Z",
     "iopub.status.busy": "2023-01-18T01:02:24.319895Z",
     "iopub.status.idle": "2023-01-18T01:06:00.100092Z",
     "shell.execute_reply": "2023-01-18T01:06:00.098663Z"
    },
    "papermill": {
     "duration": 215.888863,
     "end_time": "2023-01-18T01:06:00.151579",
     "exception": false,
     "start_time": "2023-01-18T01:02:24.262716",
     "status": "completed"
    },
    "tags": []
   },
   "outputs": [
    {
     "name": "stdout",
     "output_type": "stream",
     "text": [
      "[LightGBM] [Warning] bagging_fraction is set=0.8, subsample=1.0 will be ignored. Current value: bagging_fraction=0.8\n",
      "[LightGBM] [Warning] min_sum_hessian_in_leaf is set=11, min_child_weight=0.001 will be ignored. Current value: min_sum_hessian_in_leaf=11\n",
      "[LightGBM] [Warning] min_data_in_leaf is set=6, min_child_samples=20 will be ignored. Current value: min_data_in_leaf=6\n",
      "[LightGBM] [Warning] feature_fraction is set=0.2319, colsample_bytree=1.0 will be ignored. Current value: feature_fraction=0.2319\n",
      "[LightGBM] [Warning] bagging_freq is set=5, subsample_freq=0 will be ignored. Current value: bagging_freq=5\n",
      "[LightGBM] [Warning] bagging_fraction is set=0.8, subsample=1.0 will be ignored. Current value: bagging_fraction=0.8\n",
      "[LightGBM] [Warning] min_sum_hessian_in_leaf is set=11, min_child_weight=0.001 will be ignored. Current value: min_sum_hessian_in_leaf=11\n",
      "[LightGBM] [Warning] min_data_in_leaf is set=6, min_child_samples=20 will be ignored. Current value: min_data_in_leaf=6\n",
      "[LightGBM] [Warning] feature_fraction is set=0.2319, colsample_bytree=1.0 will be ignored. Current value: feature_fraction=0.2319\n",
      "[LightGBM] [Warning] bagging_freq is set=5, subsample_freq=0 will be ignored. Current value: bagging_freq=5\n",
      "[LightGBM] [Warning] bagging_fraction is set=0.8, subsample=1.0 will be ignored. Current value: bagging_fraction=0.8\n",
      "[LightGBM] [Warning] min_sum_hessian_in_leaf is set=11, min_child_weight=0.001 will be ignored. Current value: min_sum_hessian_in_leaf=11\n",
      "[LightGBM] [Warning] min_data_in_leaf is set=6, min_child_samples=20 will be ignored. Current value: min_data_in_leaf=6\n",
      "[LightGBM] [Warning] feature_fraction is set=0.2319, colsample_bytree=1.0 will be ignored. Current value: feature_fraction=0.2319\n",
      "[LightGBM] [Warning] bagging_freq is set=5, subsample_freq=0 will be ignored. Current value: bagging_freq=5\n",
      "[LightGBM] [Warning] bagging_fraction is set=0.8, subsample=1.0 will be ignored. Current value: bagging_fraction=0.8\n",
      "[LightGBM] [Warning] min_sum_hessian_in_leaf is set=11, min_child_weight=0.001 will be ignored. Current value: min_sum_hessian_in_leaf=11\n",
      "[LightGBM] [Warning] min_data_in_leaf is set=6, min_child_samples=20 will be ignored. Current value: min_data_in_leaf=6\n",
      "[LightGBM] [Warning] feature_fraction is set=0.2319, colsample_bytree=1.0 will be ignored. Current value: feature_fraction=0.2319\n",
      "[LightGBM] [Warning] bagging_freq is set=5, subsample_freq=0 will be ignored. Current value: bagging_freq=5\n",
      "[LightGBM] [Warning] bagging_fraction is set=0.8, subsample=1.0 will be ignored. Current value: bagging_fraction=0.8\n",
      "[LightGBM] [Warning] min_sum_hessian_in_leaf is set=11, min_child_weight=0.001 will be ignored. Current value: min_sum_hessian_in_leaf=11\n",
      "[LightGBM] [Warning] min_data_in_leaf is set=6, min_child_samples=20 will be ignored. Current value: min_data_in_leaf=6\n",
      "[LightGBM] [Warning] feature_fraction is set=0.2319, colsample_bytree=1.0 will be ignored. Current value: feature_fraction=0.2319\n",
      "[LightGBM] [Warning] bagging_freq is set=5, subsample_freq=0 will be ignored. Current value: bagging_freq=5\n",
      "[LightGBM] [Warning] bagging_fraction is set=0.8, subsample=1.0 will be ignored. Current value: bagging_fraction=0.8\n",
      "[LightGBM] [Warning] min_sum_hessian_in_leaf is set=11, min_child_weight=0.001 will be ignored. Current value: min_sum_hessian_in_leaf=11\n",
      "[LightGBM] [Warning] min_data_in_leaf is set=6, min_child_samples=20 will be ignored. Current value: min_data_in_leaf=6\n",
      "[LightGBM] [Warning] feature_fraction is set=0.2319, colsample_bytree=1.0 will be ignored. Current value: feature_fraction=0.2319\n",
      "[LightGBM] [Warning] bagging_freq is set=5, subsample_freq=0 will be ignored. Current value: bagging_freq=5\n"
     ]
    },
    {
     "data": {
      "text/plain": [
       "0.06809419689984791"
      ]
     },
     "execution_count": 79,
     "metadata": {},
     "output_type": "execute_result"
    }
   ],
   "source": [
    "stackmodel = StackingCVRegressor(regressors=(lgbm,GBoost,ENet,KRR,xgr2),\n",
    "                            meta_regressor=lass, cv=5,\n",
    "                            use_features_in_secondary=False,\n",
    "                            store_train_meta_features=True,\n",
    "                            shuffle=True,\n",
    "                            random_state=1123)\n",
    "stackmodel.fit(X1,np.log(y))\n",
    "y_pred=stackmodel.predict(X1)\n",
    "mean_squared_error(y_pred,np.log(y),squared=False)\n",
    "\n",
    "\n",
    "#0.07127655369326556"
   ]
  },
  {
   "cell_type": "code",
   "execution_count": 80,
   "id": "32687d1d",
   "metadata": {
    "execution": {
     "iopub.execute_input": "2023-01-18T01:06:00.266319Z",
     "iopub.status.busy": "2023-01-18T01:06:00.265699Z",
     "iopub.status.idle": "2023-01-18T01:06:00.535093Z",
     "shell.execute_reply": "2023-01-18T01:06:00.534251Z"
    },
    "papermill": {
     "duration": 0.329699,
     "end_time": "2023-01-18T01:06:00.537633",
     "exception": false,
     "start_time": "2023-01-18T01:06:00.207934",
     "status": "completed"
    },
    "tags": []
   },
   "outputs": [
    {
     "data": {
      "text/plain": [
       "array([120935.37432942, 158447.66756033, 182983.64285854, ...,\n",
       "       161337.0262369 , 115845.41317044, 224101.87775808])"
      ]
     },
     "execution_count": 80,
     "metadata": {},
     "output_type": "execute_result"
    }
   ],
   "source": [
    "np.exp(stackmodel.predict(test_data))"
   ]
  },
  {
   "cell_type": "code",
   "execution_count": 81,
   "id": "7ac8ba6b",
   "metadata": {
    "execution": {
     "iopub.execute_input": "2023-01-18T01:06:00.678883Z",
     "iopub.status.busy": "2023-01-18T01:06:00.678576Z",
     "iopub.status.idle": "2023-01-18T01:06:01.001234Z",
     "shell.execute_reply": "2023-01-18T01:06:01.000420Z"
    },
    "papermill": {
     "duration": 0.383499,
     "end_time": "2023-01-18T01:06:01.004228",
     "exception": false,
     "start_time": "2023-01-18T01:06:00.620729",
     "status": "completed"
    },
    "tags": []
   },
   "outputs": [],
   "source": [
    "# submission\n",
    "\n",
    "ypred_testdata=np.exp(stackmodel.predict(test_data))\n",
    " \n",
    "stacksubmission=pd.DataFrame({'Id':test_id,'SalePrice':ypred_testdata})\n",
    "stacksubmission.to_csv('nm-stacked-stack1.csv',index=False) "
   ]
  },
  {
   "cell_type": "code",
   "execution_count": 82,
   "id": "e1759a81",
   "metadata": {
    "execution": {
     "iopub.execute_input": "2023-01-18T01:06:01.123549Z",
     "iopub.status.busy": "2023-01-18T01:06:01.122504Z",
     "iopub.status.idle": "2023-01-18T01:06:01.135460Z",
     "shell.execute_reply": "2023-01-18T01:06:01.134394Z"
    },
    "papermill": {
     "duration": 0.07412,
     "end_time": "2023-01-18T01:06:01.137722",
     "exception": false,
     "start_time": "2023-01-18T01:06:01.063602",
     "status": "completed"
    },
    "tags": []
   },
   "outputs": [
    {
     "data": {
      "text/html": [
       "<div>\n",
       "<style scoped>\n",
       "    .dataframe tbody tr th:only-of-type {\n",
       "        vertical-align: middle;\n",
       "    }\n",
       "\n",
       "    .dataframe tbody tr th {\n",
       "        vertical-align: top;\n",
       "    }\n",
       "\n",
       "    .dataframe thead th {\n",
       "        text-align: right;\n",
       "    }\n",
       "</style>\n",
       "<table border=\"1\" class=\"dataframe\">\n",
       "  <thead>\n",
       "    <tr style=\"text-align: right;\">\n",
       "      <th></th>\n",
       "      <th>Id</th>\n",
       "      <th>SalePrice</th>\n",
       "    </tr>\n",
       "  </thead>\n",
       "  <tbody>\n",
       "    <tr>\n",
       "      <th>0</th>\n",
       "      <td>1461</td>\n",
       "      <td>120935.374329</td>\n",
       "    </tr>\n",
       "    <tr>\n",
       "      <th>1</th>\n",
       "      <td>1462</td>\n",
       "      <td>158447.667560</td>\n",
       "    </tr>\n",
       "    <tr>\n",
       "      <th>2</th>\n",
       "      <td>1463</td>\n",
       "      <td>182983.642859</td>\n",
       "    </tr>\n",
       "    <tr>\n",
       "      <th>3</th>\n",
       "      <td>1464</td>\n",
       "      <td>193361.315307</td>\n",
       "    </tr>\n",
       "    <tr>\n",
       "      <th>4</th>\n",
       "      <td>1465</td>\n",
       "      <td>195278.039644</td>\n",
       "    </tr>\n",
       "    <tr>\n",
       "      <th>...</th>\n",
       "      <td>...</td>\n",
       "      <td>...</td>\n",
       "    </tr>\n",
       "    <tr>\n",
       "      <th>1454</th>\n",
       "      <td>2915</td>\n",
       "      <td>82227.567773</td>\n",
       "    </tr>\n",
       "    <tr>\n",
       "      <th>1455</th>\n",
       "      <td>2916</td>\n",
       "      <td>82022.321482</td>\n",
       "    </tr>\n",
       "    <tr>\n",
       "      <th>1456</th>\n",
       "      <td>2917</td>\n",
       "      <td>161337.026237</td>\n",
       "    </tr>\n",
       "    <tr>\n",
       "      <th>1457</th>\n",
       "      <td>2918</td>\n",
       "      <td>115845.413170</td>\n",
       "    </tr>\n",
       "    <tr>\n",
       "      <th>1458</th>\n",
       "      <td>2919</td>\n",
       "      <td>224101.877758</td>\n",
       "    </tr>\n",
       "  </tbody>\n",
       "</table>\n",
       "<p>1459 rows × 2 columns</p>\n",
       "</div>"
      ],
      "text/plain": [
       "        Id      SalePrice\n",
       "0     1461  120935.374329\n",
       "1     1462  158447.667560\n",
       "2     1463  182983.642859\n",
       "3     1464  193361.315307\n",
       "4     1465  195278.039644\n",
       "...    ...            ...\n",
       "1454  2915   82227.567773\n",
       "1455  2916   82022.321482\n",
       "1456  2917  161337.026237\n",
       "1457  2918  115845.413170\n",
       "1458  2919  224101.877758\n",
       "\n",
       "[1459 rows x 2 columns]"
      ]
     },
     "execution_count": 82,
     "metadata": {},
     "output_type": "execute_result"
    }
   ],
   "source": [
    "stacksubmission\n",
    "#Kaggle Score - nm-stacked-stack1.csv - 0.1196"
   ]
  },
  {
   "cell_type": "markdown",
   "id": "3dfd9c18",
   "metadata": {
    "papermill": {
     "duration": 0.056395,
     "end_time": "2023-01-18T01:06:01.251778",
     "exception": false,
     "start_time": "2023-01-18T01:06:01.195383",
     "status": "completed"
    },
    "tags": []
   },
   "source": [
    "### Stacking along with a deep learning model"
   ]
  },
  {
   "cell_type": "code",
   "execution_count": 83,
   "id": "82b355c9",
   "metadata": {
    "execution": {
     "iopub.execute_input": "2023-01-18T01:06:01.366914Z",
     "iopub.status.busy": "2023-01-18T01:06:01.366585Z",
     "iopub.status.idle": "2023-01-18T01:08:24.478318Z",
     "shell.execute_reply": "2023-01-18T01:08:24.477283Z"
    },
    "papermill": {
     "duration": 143.173123,
     "end_time": "2023-01-18T01:08:24.481507",
     "exception": false,
     "start_time": "2023-01-18T01:06:01.308384",
     "status": "completed"
    },
    "tags": []
   },
   "outputs": [
    {
     "name": "stderr",
     "output_type": "stream",
     "text": [
      "2023-01-18 01:06:03.502718: W tensorflow/compiler/xla/stream_executor/gpu/asm_compiler.cc:115] *** WARNING *** You are using ptxas 11.0.221, which is older than 11.1. ptxas before 11.1 is known to miscompile XLA code, leading to incorrect results or invalid-address errors.\n",
      "\n",
      "You may not need to update to CUDA 11.1; cherry-picking the ptxas binary is often sufficient.\n"
     ]
    }
   ],
   "source": [
    "dlmodel=create_model()\n",
    "\n",
    "num_epochs=800\n",
    "\n",
    "hist_model=dlmodel.fit(X1,y,batch_size=32,verbose=0,epochs=num_epochs)"
   ]
  },
  {
   "cell_type": "code",
   "execution_count": 84,
   "id": "65df1f3c",
   "metadata": {
    "execution": {
     "iopub.execute_input": "2023-01-18T01:08:24.598427Z",
     "iopub.status.busy": "2023-01-18T01:08:24.598027Z",
     "iopub.status.idle": "2023-01-18T01:09:46.574047Z",
     "shell.execute_reply": "2023-01-18T01:09:46.572963Z"
    },
    "papermill": {
     "duration": 82.03742,
     "end_time": "2023-01-18T01:09:46.577167",
     "exception": false,
     "start_time": "2023-01-18T01:08:24.539747",
     "status": "completed"
    },
    "tags": []
   },
   "outputs": [],
   "source": [
    "absl.logging.set_verbosity(absl.logging.ERROR)\n",
    "logging.getLogger(\"tensorflow\").setLevel(logging.ERROR)\n",
    "\n",
    "num_epochs=200\n",
    "\n",
    "checkpoint_stackdl_path = '/stackdl'\n",
    "\n",
    "model_checkpoint = tf.keras.callbacks.ModelCheckpoint(checkpoint_stackdl_path,save_best_only=True,verbose=0,\n",
    "                                                      monitor=\"loss\")\n",
    "\n",
    "hist_model=dlmodel.fit(X1,y,batch_size=32,verbose=0,epochs=num_epochs,callbacks=[model_checkpoint]) "
   ]
  },
  {
   "cell_type": "code",
   "execution_count": 85,
   "id": "5692cb7d",
   "metadata": {
    "execution": {
     "iopub.execute_input": "2023-01-18T01:09:46.695661Z",
     "iopub.status.busy": "2023-01-18T01:09:46.695291Z",
     "iopub.status.idle": "2023-01-18T01:09:46.965867Z",
     "shell.execute_reply": "2023-01-18T01:09:46.964819Z"
    },
    "papermill": {
     "duration": 0.331626,
     "end_time": "2023-01-18T01:09:46.968180",
     "exception": false,
     "start_time": "2023-01-18T01:09:46.636554",
     "status": "completed"
    },
    "tags": []
   },
   "outputs": [
    {
     "name": "stdout",
     "output_type": "stream",
     "text": [
      "46/46 [==============================] - 0s 2ms/step\n"
     ]
    },
    {
     "data": {
      "text/plain": [
       "0.08485433655264361"
      ]
     },
     "execution_count": 85,
     "metadata": {},
     "output_type": "execute_result"
    }
   ],
   "source": [
    "y_pred=dlmodel.predict(X1)\n",
    "mean_squared_error(np.log(y_pred),np.log(y),squared=False)"
   ]
  },
  {
   "cell_type": "code",
   "execution_count": 86,
   "id": "72b23351",
   "metadata": {
    "execution": {
     "iopub.execute_input": "2023-01-18T01:09:47.085453Z",
     "iopub.status.busy": "2023-01-18T01:09:47.085055Z",
     "iopub.status.idle": "2023-01-18T01:09:47.731532Z",
     "shell.execute_reply": "2023-01-18T01:09:47.730502Z"
    },
    "papermill": {
     "duration": 0.706696,
     "end_time": "2023-01-18T01:09:47.733424",
     "exception": false,
     "start_time": "2023-01-18T01:09:47.026728",
     "status": "completed"
    },
    "tags": []
   },
   "outputs": [
    {
     "name": "stdout",
     "output_type": "stream",
     "text": [
      "46/46 [==============================] - 0s 2ms/step\n"
     ]
    },
    {
     "data": {
      "text/plain": [
       "0.08398087733215805"
      ]
     },
     "execution_count": 86,
     "metadata": {},
     "output_type": "execute_result"
    }
   ],
   "source": [
    "checkpoint_stackdl_path = '/stackdl'\n",
    "model=tf.keras.models.load_model(checkpoint_stackdl_path)\n",
    "y_pred=model.predict(X1)\n",
    "mean_squared_error(np.log(y_pred),np.log(y),squared=False)"
   ]
  },
  {
   "cell_type": "code",
   "execution_count": 87,
   "id": "913cb0ef",
   "metadata": {
    "execution": {
     "iopub.execute_input": "2023-01-18T01:09:47.853386Z",
     "iopub.status.busy": "2023-01-18T01:09:47.852434Z",
     "iopub.status.idle": "2023-01-18T01:09:48.485045Z",
     "shell.execute_reply": "2023-01-18T01:09:48.483996Z"
    },
    "papermill": {
     "duration": 0.695659,
     "end_time": "2023-01-18T01:09:48.487349",
     "exception": false,
     "start_time": "2023-01-18T01:09:47.791690",
     "status": "completed"
    },
    "tags": []
   },
   "outputs": [
    {
     "name": "stdout",
     "output_type": "stream",
     "text": [
      "46/46 [==============================] - 0s 2ms/step\n"
     ]
    },
    {
     "data": {
      "text/plain": [
       "array([120895.695, 159695.94 , 184686.48 , ..., 157239.89 , 122077.49 ,\n",
       "       217576.   ], dtype=float32)"
      ]
     },
     "execution_count": 87,
     "metadata": {},
     "output_type": "execute_result"
    }
   ],
   "source": [
    "checkpoint_stackdl_path = '/stackdl'\n",
    "model=tf.keras.models.load_model(checkpoint_stackdl_path)\n",
    "ypred_testdata_dl=model.predict(test_data).ravel()\n",
    "ypred_testdata_dl"
   ]
  },
  {
   "cell_type": "code",
   "execution_count": 88,
   "id": "7dac3a76",
   "metadata": {
    "execution": {
     "iopub.execute_input": "2023-01-18T01:09:48.604447Z",
     "iopub.status.busy": "2023-01-18T01:09:48.604138Z",
     "iopub.status.idle": "2023-01-18T01:09:48.613904Z",
     "shell.execute_reply": "2023-01-18T01:09:48.613054Z"
    },
    "papermill": {
     "duration": 0.069283,
     "end_time": "2023-01-18T01:09:48.615897",
     "exception": false,
     "start_time": "2023-01-18T01:09:48.546614",
     "status": "completed"
    },
    "tags": []
   },
   "outputs": [],
   "source": [
    "# Submission for deep learning model\n",
    " \n",
    "stacksubmission=pd.DataFrame({'Id':test_id,'SalePrice':ypred_testdata_dl})\n",
    "stacksubmission.to_csv('nm-stacked-dl.csv',index=False) "
   ]
  },
  {
   "cell_type": "code",
   "execution_count": 89,
   "id": "78d44204",
   "metadata": {
    "execution": {
     "iopub.execute_input": "2023-01-18T01:09:48.731889Z",
     "iopub.status.busy": "2023-01-18T01:09:48.731612Z",
     "iopub.status.idle": "2023-01-18T01:09:48.743437Z",
     "shell.execute_reply": "2023-01-18T01:09:48.742519Z"
    },
    "papermill": {
     "duration": 0.070837,
     "end_time": "2023-01-18T01:09:48.745485",
     "exception": false,
     "start_time": "2023-01-18T01:09:48.674648",
     "status": "completed"
    },
    "tags": []
   },
   "outputs": [
    {
     "data": {
      "text/html": [
       "<div>\n",
       "<style scoped>\n",
       "    .dataframe tbody tr th:only-of-type {\n",
       "        vertical-align: middle;\n",
       "    }\n",
       "\n",
       "    .dataframe tbody tr th {\n",
       "        vertical-align: top;\n",
       "    }\n",
       "\n",
       "    .dataframe thead th {\n",
       "        text-align: right;\n",
       "    }\n",
       "</style>\n",
       "<table border=\"1\" class=\"dataframe\">\n",
       "  <thead>\n",
       "    <tr style=\"text-align: right;\">\n",
       "      <th></th>\n",
       "      <th>Id</th>\n",
       "      <th>SalePrice</th>\n",
       "    </tr>\n",
       "  </thead>\n",
       "  <tbody>\n",
       "    <tr>\n",
       "      <th>0</th>\n",
       "      <td>1461</td>\n",
       "      <td>120895.695312</td>\n",
       "    </tr>\n",
       "    <tr>\n",
       "      <th>1</th>\n",
       "      <td>1462</td>\n",
       "      <td>159695.937500</td>\n",
       "    </tr>\n",
       "    <tr>\n",
       "      <th>2</th>\n",
       "      <td>1463</td>\n",
       "      <td>184686.484375</td>\n",
       "    </tr>\n",
       "    <tr>\n",
       "      <th>3</th>\n",
       "      <td>1464</td>\n",
       "      <td>190487.671875</td>\n",
       "    </tr>\n",
       "    <tr>\n",
       "      <th>4</th>\n",
       "      <td>1465</td>\n",
       "      <td>193177.546875</td>\n",
       "    </tr>\n",
       "    <tr>\n",
       "      <th>...</th>\n",
       "      <td>...</td>\n",
       "      <td>...</td>\n",
       "    </tr>\n",
       "    <tr>\n",
       "      <th>1454</th>\n",
       "      <td>2915</td>\n",
       "      <td>91320.078125</td>\n",
       "    </tr>\n",
       "    <tr>\n",
       "      <th>1455</th>\n",
       "      <td>2916</td>\n",
       "      <td>81233.117188</td>\n",
       "    </tr>\n",
       "    <tr>\n",
       "      <th>1456</th>\n",
       "      <td>2917</td>\n",
       "      <td>157239.890625</td>\n",
       "    </tr>\n",
       "    <tr>\n",
       "      <th>1457</th>\n",
       "      <td>2918</td>\n",
       "      <td>122077.492188</td>\n",
       "    </tr>\n",
       "    <tr>\n",
       "      <th>1458</th>\n",
       "      <td>2919</td>\n",
       "      <td>217576.000000</td>\n",
       "    </tr>\n",
       "  </tbody>\n",
       "</table>\n",
       "<p>1459 rows × 2 columns</p>\n",
       "</div>"
      ],
      "text/plain": [
       "        Id      SalePrice\n",
       "0     1461  120895.695312\n",
       "1     1462  159695.937500\n",
       "2     1463  184686.484375\n",
       "3     1464  190487.671875\n",
       "4     1465  193177.546875\n",
       "...    ...            ...\n",
       "1454  2915   91320.078125\n",
       "1455  2916   81233.117188\n",
       "1456  2917  157239.890625\n",
       "1457  2918  122077.492188\n",
       "1458  2919  217576.000000\n",
       "\n",
       "[1459 rows x 2 columns]"
      ]
     },
     "execution_count": 89,
     "metadata": {},
     "output_type": "execute_result"
    }
   ],
   "source": [
    "stacksubmission\n",
    "#Kaggle score - 0.12547"
   ]
  },
  {
   "cell_type": "code",
   "execution_count": 90,
   "id": "bb8a647a",
   "metadata": {
    "execution": {
     "iopub.execute_input": "2023-01-18T01:09:48.905952Z",
     "iopub.status.busy": "2023-01-18T01:09:48.905020Z",
     "iopub.status.idle": "2023-01-18T01:13:47.499472Z",
     "shell.execute_reply": "2023-01-18T01:13:47.498657Z"
    },
    "papermill": {
     "duration": 238.655463,
     "end_time": "2023-01-18T01:13:47.501872",
     "exception": false,
     "start_time": "2023-01-18T01:09:48.846409",
     "status": "completed"
    },
    "tags": []
   },
   "outputs": [
    {
     "name": "stderr",
     "output_type": "stream",
     "text": [
      "2023-01-18 01:09:50.634458: W tensorflow/core/util/tensor_slice_reader.cc:96] Could not open ram://551a784a182248b4b30adcea8fc26c7c: INVALID_ARGUMENT: ram://551a784a182248b4b30adcea8fc26c7c is a directory.\n",
      "2023-01-18 01:09:51.976866: W tensorflow/core/util/tensor_slice_reader.cc:96] Could not open ram://0d3981f3b3ce4fdaab39ed39f02477b0: INVALID_ARGUMENT: ram://0d3981f3b3ce4fdaab39ed39f02477b0 is a directory.\n"
     ]
    },
    {
     "name": "stdout",
     "output_type": "stream",
     "text": [
      "37/37 [==============================] - 2s 6ms/step - loss: 0.0146 - mean_squared_logarithmic_error: 0.0109\n",
      "10/10 [==============================] - 0s 2ms/step\n"
     ]
    },
    {
     "name": "stderr",
     "output_type": "stream",
     "text": [
      "2023-01-18 01:09:57.621526: W tensorflow/core/util/tensor_slice_reader.cc:96] Could not open ram://035eb0b425ea493587d7cbc637d70281: INVALID_ARGUMENT: ram://035eb0b425ea493587d7cbc637d70281 is a directory.\n"
     ]
    },
    {
     "name": "stdout",
     "output_type": "stream",
     "text": [
      "37/37 [==============================] - 2s 4ms/step - loss: 0.0135 - mean_squared_logarithmic_error: 0.0099\n",
      "10/10 [==============================] - 0s 5ms/step\n"
     ]
    },
    {
     "name": "stderr",
     "output_type": "stream",
     "text": [
      "2023-01-18 01:10:01.679005: W tensorflow/core/util/tensor_slice_reader.cc:96] Could not open ram://5748b24ecf9b4b7683c43855d1bf2830: INVALID_ARGUMENT: ram://5748b24ecf9b4b7683c43855d1bf2830 is a directory.\n"
     ]
    },
    {
     "name": "stdout",
     "output_type": "stream",
     "text": [
      "37/37 [==============================] - 2s 4ms/step - loss: 0.0156 - mean_squared_logarithmic_error: 0.0120\n",
      "10/10 [==============================] - 0s 2ms/step\n"
     ]
    },
    {
     "name": "stderr",
     "output_type": "stream",
     "text": [
      "2023-01-18 01:10:05.196937: W tensorflow/core/util/tensor_slice_reader.cc:96] Could not open ram://7519f2f86b1f42b7bcc03e4f3ee6cddc: INVALID_ARGUMENT: ram://7519f2f86b1f42b7bcc03e4f3ee6cddc is a directory.\n"
     ]
    },
    {
     "name": "stdout",
     "output_type": "stream",
     "text": [
      "37/37 [==============================] - 2s 4ms/step - loss: 0.0135 - mean_squared_logarithmic_error: 0.0098\n",
      "10/10 [==============================] - 0s 2ms/step\n"
     ]
    },
    {
     "name": "stderr",
     "output_type": "stream",
     "text": [
      "2023-01-18 01:10:08.945518: W tensorflow/core/util/tensor_slice_reader.cc:96] Could not open ram://cd27a9317d1e4865b42a12a9baff0451: INVALID_ARGUMENT: ram://cd27a9317d1e4865b42a12a9baff0451 is a directory.\n"
     ]
    },
    {
     "name": "stdout",
     "output_type": "stream",
     "text": [
      "37/37 [==============================] - 2s 4ms/step - loss: 0.0131 - mean_squared_logarithmic_error: 0.0095\n",
      "10/10 [==============================] - 0s 2ms/step\n",
      "[LightGBM] [Warning] bagging_fraction is set=0.8, subsample=1.0 will be ignored. Current value: bagging_fraction=0.8\n",
      "[LightGBM] [Warning] min_sum_hessian_in_leaf is set=11, min_child_weight=0.001 will be ignored. Current value: min_sum_hessian_in_leaf=11\n",
      "[LightGBM] [Warning] min_data_in_leaf is set=6, min_child_samples=20 will be ignored. Current value: min_data_in_leaf=6\n",
      "[LightGBM] [Warning] feature_fraction is set=0.2319, colsample_bytree=1.0 will be ignored. Current value: feature_fraction=0.2319\n",
      "[LightGBM] [Warning] bagging_freq is set=5, subsample_freq=0 will be ignored. Current value: bagging_freq=5\n",
      "[LightGBM] [Warning] bagging_fraction is set=0.8, subsample=1.0 will be ignored. Current value: bagging_fraction=0.8\n",
      "[LightGBM] [Warning] min_sum_hessian_in_leaf is set=11, min_child_weight=0.001 will be ignored. Current value: min_sum_hessian_in_leaf=11\n",
      "[LightGBM] [Warning] min_data_in_leaf is set=6, min_child_samples=20 will be ignored. Current value: min_data_in_leaf=6\n",
      "[LightGBM] [Warning] feature_fraction is set=0.2319, colsample_bytree=1.0 will be ignored. Current value: feature_fraction=0.2319\n",
      "[LightGBM] [Warning] bagging_freq is set=5, subsample_freq=0 will be ignored. Current value: bagging_freq=5\n",
      "[LightGBM] [Warning] bagging_fraction is set=0.8, subsample=1.0 will be ignored. Current value: bagging_fraction=0.8\n",
      "[LightGBM] [Warning] min_sum_hessian_in_leaf is set=11, min_child_weight=0.001 will be ignored. Current value: min_sum_hessian_in_leaf=11\n",
      "[LightGBM] [Warning] min_data_in_leaf is set=6, min_child_samples=20 will be ignored. Current value: min_data_in_leaf=6\n",
      "[LightGBM] [Warning] feature_fraction is set=0.2319, colsample_bytree=1.0 will be ignored. Current value: feature_fraction=0.2319\n",
      "[LightGBM] [Warning] bagging_freq is set=5, subsample_freq=0 will be ignored. Current value: bagging_freq=5\n",
      "[LightGBM] [Warning] bagging_fraction is set=0.8, subsample=1.0 will be ignored. Current value: bagging_fraction=0.8\n",
      "[LightGBM] [Warning] min_sum_hessian_in_leaf is set=11, min_child_weight=0.001 will be ignored. Current value: min_sum_hessian_in_leaf=11\n",
      "[LightGBM] [Warning] min_data_in_leaf is set=6, min_child_samples=20 will be ignored. Current value: min_data_in_leaf=6\n",
      "[LightGBM] [Warning] feature_fraction is set=0.2319, colsample_bytree=1.0 will be ignored. Current value: feature_fraction=0.2319\n",
      "[LightGBM] [Warning] bagging_freq is set=5, subsample_freq=0 will be ignored. Current value: bagging_freq=5\n",
      "[LightGBM] [Warning] bagging_fraction is set=0.8, subsample=1.0 will be ignored. Current value: bagging_fraction=0.8\n",
      "[LightGBM] [Warning] min_sum_hessian_in_leaf is set=11, min_child_weight=0.001 will be ignored. Current value: min_sum_hessian_in_leaf=11\n",
      "[LightGBM] [Warning] min_data_in_leaf is set=6, min_child_samples=20 will be ignored. Current value: min_data_in_leaf=6\n",
      "[LightGBM] [Warning] feature_fraction is set=0.2319, colsample_bytree=1.0 will be ignored. Current value: feature_fraction=0.2319\n",
      "[LightGBM] [Warning] bagging_freq is set=5, subsample_freq=0 will be ignored. Current value: bagging_freq=5\n",
      "46/46 [==============================] - 2s 5ms/step - loss: 0.0140 - mean_squared_logarithmic_error: 0.0104\n",
      "[LightGBM] [Warning] bagging_fraction is set=0.8, subsample=1.0 will be ignored. Current value: bagging_fraction=0.8\n",
      "[LightGBM] [Warning] min_sum_hessian_in_leaf is set=11, min_child_weight=0.001 will be ignored. Current value: min_sum_hessian_in_leaf=11\n",
      "[LightGBM] [Warning] min_data_in_leaf is set=6, min_child_samples=20 will be ignored. Current value: min_data_in_leaf=6\n",
      "[LightGBM] [Warning] feature_fraction is set=0.2319, colsample_bytree=1.0 will be ignored. Current value: feature_fraction=0.2319\n",
      "[LightGBM] [Warning] bagging_freq is set=5, subsample_freq=0 will be ignored. Current value: bagging_freq=5\n",
      "46/46 [==============================] - 0s 2ms/step\n"
     ]
    },
    {
     "data": {
      "text/plain": [
       "0.07719432813510839"
      ]
     },
     "execution_count": 90,
     "metadata": {},
     "output_type": "execute_result"
    }
   ],
   "source": [
    "from scikeras.wrappers import KerasRegressor\n",
    "\n",
    "checkpoint_stackdl_path = '/stackdl'\n",
    "dlmodel=tf.keras.models.load_model(checkpoint_stackdl_path)\n",
    "\n",
    "\n",
    "dlmodel2=KerasRegressor(model=dlmodel,random_state=1123)\n",
    "\n",
    "# , warm_start=True, random_state=1123)\n",
    "#                                        optimizer='Adam', loss=tf.keras.losses.MeanSquaredLogarithmicError,\n",
    "#                         metrics=tf.keras.metrics.MeanSquaredLogarithmicError, batch_size=32, \n",
    "#                                        validation_batch_size=None, verbose=1, callbacks=None, validation_split=0.0, \n",
    "#                                        shuffle=True, run_eagerly=False, epochs=1)\n",
    "\n",
    "stackdlmodel = StackingCVRegressor(regressors=(dlmodel2,lgbm,GBoost,xgr2),\n",
    "                            meta_regressor=lasso, cv=5,\n",
    "                            use_features_in_secondary=False,\n",
    "                            store_train_meta_features=True,\n",
    "                            shuffle=True,\n",
    "                            random_state=1123)\n",
    "\n",
    "stackdlmodel.fit(X1,y)\n",
    "y_pred=stackdlmodel.predict(X1)\n",
    "mean_squared_error(np.log(y_pred),np.log(y),squared=False)"
   ]
  },
  {
   "cell_type": "code",
   "execution_count": 91,
   "id": "90a2bc9c",
   "metadata": {
    "execution": {
     "iopub.execute_input": "2023-01-18T01:13:47.628727Z",
     "iopub.status.busy": "2023-01-18T01:13:47.628369Z",
     "iopub.status.idle": "2023-01-18T01:13:47.635598Z",
     "shell.execute_reply": "2023-01-18T01:13:47.634566Z"
    },
    "papermill": {
     "duration": 0.073586,
     "end_time": "2023-01-18T01:13:47.638734",
     "exception": false,
     "start_time": "2023-01-18T01:13:47.565148",
     "status": "completed"
    },
    "tags": []
   },
   "outputs": [
    {
     "data": {
      "text/plain": [
       "array([[201412.5625    , 205965.37437443, 202384.66392848],\n",
       "       [177399.453125  , 166072.35428384, 161410.17008345],\n",
       "       [214064.765625  , 212853.6235954 , 222796.24821647],\n",
       "       ...,\n",
       "       [237503.609375  , 247786.18832348, 253048.52724101],\n",
       "       [143064.        , 138544.07397712, 136997.43205442],\n",
       "       [148188.71875   , 151423.9775706 , 149747.87900404]])"
      ]
     },
     "execution_count": 91,
     "metadata": {},
     "output_type": "execute_result"
    }
   ],
   "source": [
    "stackdlmodel.train_meta_features_[:,:3]"
   ]
  },
  {
   "cell_type": "code",
   "execution_count": 92,
   "id": "5f0196c1",
   "metadata": {
    "execution": {
     "iopub.execute_input": "2023-01-18T01:13:47.761701Z",
     "iopub.status.busy": "2023-01-18T01:13:47.761070Z",
     "iopub.status.idle": "2023-01-18T01:13:48.140343Z",
     "shell.execute_reply": "2023-01-18T01:13:48.139477Z"
    },
    "papermill": {
     "duration": 0.442969,
     "end_time": "2023-01-18T01:13:48.142494",
     "exception": false,
     "start_time": "2023-01-18T01:13:47.699525",
     "status": "completed"
    },
    "tags": []
   },
   "outputs": [
    {
     "name": "stdout",
     "output_type": "stream",
     "text": [
      "46/46 [==============================] - 0s 2ms/step\n"
     ]
    },
    {
     "data": {
      "text/plain": [
       "array([119389.35705543, 163334.18860315, 191267.00295213, ...,\n",
       "       160535.47959181, 116973.14694624, 221599.83309012])"
      ]
     },
     "execution_count": 92,
     "metadata": {},
     "output_type": "execute_result"
    }
   ],
   "source": [
    "ypred_testdata_stackdl=stackdlmodel.predict(test_data)\n",
    "ypred_testdata_stackdl"
   ]
  },
  {
   "cell_type": "code",
   "execution_count": 93,
   "id": "88e7db2c",
   "metadata": {
    "execution": {
     "iopub.execute_input": "2023-01-18T01:13:48.270394Z",
     "iopub.status.busy": "2023-01-18T01:13:48.270020Z",
     "iopub.status.idle": "2023-01-18T01:13:48.281171Z",
     "shell.execute_reply": "2023-01-18T01:13:48.280291Z"
    },
    "papermill": {
     "duration": 0.076846,
     "end_time": "2023-01-18T01:13:48.283357",
     "exception": false,
     "start_time": "2023-01-18T01:13:48.206511",
     "status": "completed"
    },
    "tags": []
   },
   "outputs": [],
   "source": [
    "# submission\n",
    " \n",
    "stacksubmission=pd.DataFrame({'Id':test_id,'SalePrice':ypred_testdata_stackdl})\n",
    "stacksubmission.to_csv('nm-stacked-withdl.csv',index=False) "
   ]
  },
  {
   "cell_type": "code",
   "execution_count": 94,
   "id": "86986ff3",
   "metadata": {
    "execution": {
     "iopub.execute_input": "2023-01-18T01:13:48.406379Z",
     "iopub.status.busy": "2023-01-18T01:13:48.405769Z",
     "iopub.status.idle": "2023-01-18T01:13:48.419652Z",
     "shell.execute_reply": "2023-01-18T01:13:48.418826Z"
    },
    "papermill": {
     "duration": 0.077462,
     "end_time": "2023-01-18T01:13:48.421707",
     "exception": false,
     "start_time": "2023-01-18T01:13:48.344245",
     "status": "completed"
    },
    "tags": []
   },
   "outputs": [
    {
     "data": {
      "text/html": [
       "<div>\n",
       "<style scoped>\n",
       "    .dataframe tbody tr th:only-of-type {\n",
       "        vertical-align: middle;\n",
       "    }\n",
       "\n",
       "    .dataframe tbody tr th {\n",
       "        vertical-align: top;\n",
       "    }\n",
       "\n",
       "    .dataframe thead th {\n",
       "        text-align: right;\n",
       "    }\n",
       "</style>\n",
       "<table border=\"1\" class=\"dataframe\">\n",
       "  <thead>\n",
       "    <tr style=\"text-align: right;\">\n",
       "      <th></th>\n",
       "      <th>Id</th>\n",
       "      <th>SalePrice</th>\n",
       "    </tr>\n",
       "  </thead>\n",
       "  <tbody>\n",
       "    <tr>\n",
       "      <th>0</th>\n",
       "      <td>1461</td>\n",
       "      <td>119389.357055</td>\n",
       "    </tr>\n",
       "    <tr>\n",
       "      <th>1</th>\n",
       "      <td>1462</td>\n",
       "      <td>163334.188603</td>\n",
       "    </tr>\n",
       "    <tr>\n",
       "      <th>2</th>\n",
       "      <td>1463</td>\n",
       "      <td>191267.002952</td>\n",
       "    </tr>\n",
       "    <tr>\n",
       "      <th>3</th>\n",
       "      <td>1464</td>\n",
       "      <td>198022.519140</td>\n",
       "    </tr>\n",
       "    <tr>\n",
       "      <th>4</th>\n",
       "      <td>1465</td>\n",
       "      <td>192052.137676</td>\n",
       "    </tr>\n",
       "    <tr>\n",
       "      <th>...</th>\n",
       "      <td>...</td>\n",
       "      <td>...</td>\n",
       "    </tr>\n",
       "    <tr>\n",
       "      <th>1454</th>\n",
       "      <td>2915</td>\n",
       "      <td>79391.688794</td>\n",
       "    </tr>\n",
       "    <tr>\n",
       "      <th>1455</th>\n",
       "      <td>2916</td>\n",
       "      <td>73773.527640</td>\n",
       "    </tr>\n",
       "    <tr>\n",
       "      <th>1456</th>\n",
       "      <td>2917</td>\n",
       "      <td>160535.479592</td>\n",
       "    </tr>\n",
       "    <tr>\n",
       "      <th>1457</th>\n",
       "      <td>2918</td>\n",
       "      <td>116973.146946</td>\n",
       "    </tr>\n",
       "    <tr>\n",
       "      <th>1458</th>\n",
       "      <td>2919</td>\n",
       "      <td>221599.833090</td>\n",
       "    </tr>\n",
       "  </tbody>\n",
       "</table>\n",
       "<p>1459 rows × 2 columns</p>\n",
       "</div>"
      ],
      "text/plain": [
       "        Id      SalePrice\n",
       "0     1461  119389.357055\n",
       "1     1462  163334.188603\n",
       "2     1463  191267.002952\n",
       "3     1464  198022.519140\n",
       "4     1465  192052.137676\n",
       "...    ...            ...\n",
       "1454  2915   79391.688794\n",
       "1455  2916   73773.527640\n",
       "1456  2917  160535.479592\n",
       "1457  2918  116973.146946\n",
       "1458  2919  221599.833090\n",
       "\n",
       "[1459 rows x 2 columns]"
      ]
     },
     "execution_count": 94,
     "metadata": {},
     "output_type": "execute_result"
    }
   ],
   "source": [
    "stacksubmission\n",
    "#Kaggle Score for nm-stacked-withdl.csv --> 0.11982"
   ]
  },
  {
   "cell_type": "markdown",
   "id": "6616efdc",
   "metadata": {
    "papermill": {
     "duration": 0.06015,
     "end_time": "2023-01-18T01:13:48.542862",
     "exception": false,
     "start_time": "2023-01-18T01:13:48.482712",
     "status": "completed"
    },
    "tags": []
   },
   "source": [
    "### Stacking & Blending"
   ]
  },
  {
   "cell_type": "code",
   "execution_count": 95,
   "id": "3d819afd",
   "metadata": {
    "execution": {
     "iopub.execute_input": "2023-01-18T01:13:48.666625Z",
     "iopub.status.busy": "2023-01-18T01:13:48.665730Z",
     "iopub.status.idle": "2023-01-18T01:14:30.067365Z",
     "shell.execute_reply": "2023-01-18T01:14:30.063939Z"
    },
    "papermill": {
     "duration": 41.468347,
     "end_time": "2023-01-18T01:14:30.071325",
     "exception": false,
     "start_time": "2023-01-18T01:13:48.602978",
     "status": "completed"
    },
    "tags": []
   },
   "outputs": [
    {
     "name": "stdout",
     "output_type": "stream",
     "text": [
      "Root Mean Square error for xgr : 0.05449113056303083\n",
      "[LightGBM] [Warning] bagging_fraction is set=0.8, subsample=1.0 will be ignored. Current value: bagging_fraction=0.8\n",
      "[LightGBM] [Warning] min_sum_hessian_in_leaf is set=11, min_child_weight=0.001 will be ignored. Current value: min_sum_hessian_in_leaf=11\n",
      "[LightGBM] [Warning] min_data_in_leaf is set=6, min_child_samples=20 will be ignored. Current value: min_data_in_leaf=6\n",
      "[LightGBM] [Warning] feature_fraction is set=0.2319, colsample_bytree=1.0 will be ignored. Current value: feature_fraction=0.2319\n",
      "[LightGBM] [Warning] bagging_freq is set=5, subsample_freq=0 will be ignored. Current value: bagging_freq=5\n",
      "Root Mean Square error for lgb : 0.07959053632428875\n",
      "Root Mean Square error for gb : 0.043382176677584205\n",
      "Root Mean Square error for enet : 0.13635328352538184\n",
      "Root Mean Square error for krr : 0.09983571955920269\n"
     ]
    }
   ],
   "source": [
    "xgr2.fit(X1,y)\n",
    "xgr_pred=xgr2.predict(X1)\n",
    "xgr_rmsle=mean_squared_error(np.log(xgr_pred),np.log(y),squared=False)\n",
    "print(\"Root Mean Square error for xgr :\",xgr_rmsle)\n",
    "\n",
    "lgbm.fit(X1,y)\n",
    "lgbm_pred=lgbm.predict(X1)\n",
    "lgbm_rmsle=mean_squared_error(np.log(lgbm_pred),np.log(y),squared=False)\n",
    "print(\"Root Mean Square error for lgb :\",lgbm_rmsle)\n",
    "\n",
    "GBoost.fit(X1,y)\n",
    "gb_pred=GBoost.predict(X1)\n",
    "gb_rmsle=mean_squared_error(np.log(gb_pred),np.log(y),squared=False)\n",
    "print(\"Root Mean Square error for gb :\",gb_rmsle)\n",
    "\n",
    "ENet.fit(X1,y)\n",
    "enet_pred=ENet.predict(X1)\n",
    "enet_rmsle=mean_squared_error(np.log(enet_pred),np.log(y),squared=False)\n",
    "print(\"Root Mean Square error for enet :\",enet_rmsle)\n",
    "\n",
    "KRR.fit(X1,y)\n",
    "krr_pred=KRR.predict(X1)\n",
    "krr_rmsle=mean_squared_error(np.log(krr_pred),np.log(y),squared=False)\n",
    "print(\"Root Mean Square error for krr :\",krr_rmsle)"
   ]
  },
  {
   "cell_type": "code",
   "execution_count": 96,
   "id": "b69935ec",
   "metadata": {
    "execution": {
     "iopub.execute_input": "2023-01-18T01:14:30.284991Z",
     "iopub.status.busy": "2023-01-18T01:14:30.284622Z",
     "iopub.status.idle": "2023-01-18T01:14:30.289328Z",
     "shell.execute_reply": "2023-01-18T01:14:30.288357Z"
    },
    "papermill": {
     "duration": 0.070153,
     "end_time": "2023-01-18T01:14:30.291426",
     "exception": false,
     "start_time": "2023-01-18T01:14:30.221273",
     "status": "completed"
    },
    "tags": []
   },
   "outputs": [],
   "source": [
    "# some accuracies obtained in my laptop\n",
    "\n",
    "# gb         - 0.04427760526602732  / 0.04369149712360021\n",
    "# xgboost    - 0.0541               / 0.054171942067719185\n",
    "# Stackmodel - 0.0709               / 0.07305513972444029\n",
    "# lgb        - 0.07878933984199095  / 0.07925133713317101\n",
    "# dlmodel    - 0.0911               / 0.09350974438083604\n",
    "# krr        - 0.09983571955920889  / 0.09983571955920686\n",
    "# enet       - 0.1370665505010631   / 0.13706640526876213"
   ]
  },
  {
   "cell_type": "code",
   "execution_count": 97,
   "id": "fef2b4f7",
   "metadata": {
    "execution": {
     "iopub.execute_input": "2023-01-18T01:14:30.417477Z",
     "iopub.status.busy": "2023-01-18T01:14:30.416435Z",
     "iopub.status.idle": "2023-01-18T01:14:30.474018Z",
     "shell.execute_reply": "2023-01-18T01:14:30.473099Z"
    },
    "papermill": {
     "duration": 0.123252,
     "end_time": "2023-01-18T01:14:30.476150",
     "exception": false,
     "start_time": "2023-01-18T01:14:30.352898",
     "status": "completed"
    },
    "tags": []
   },
   "outputs": [
    {
     "data": {
      "text/plain": [
       "array([126412.73, 162684.02, 186212.44, ..., 155598.31, 121737.38,\n",
       "       213839.31], dtype=float32)"
      ]
     },
     "execution_count": 97,
     "metadata": {},
     "output_type": "execute_result"
    }
   ],
   "source": [
    "xgr_testpred=xgr2.predict(test_data)\n",
    "xgr_testpred"
   ]
  },
  {
   "cell_type": "code",
   "execution_count": 98,
   "id": "35bcea08",
   "metadata": {
    "execution": {
     "iopub.execute_input": "2023-01-18T01:14:30.603561Z",
     "iopub.status.busy": "2023-01-18T01:14:30.603234Z",
     "iopub.status.idle": "2023-01-18T01:14:30.614543Z",
     "shell.execute_reply": "2023-01-18T01:14:30.613691Z"
    },
    "papermill": {
     "duration": 0.075625,
     "end_time": "2023-01-18T01:14:30.616455",
     "exception": false,
     "start_time": "2023-01-18T01:14:30.540830",
     "status": "completed"
    },
    "tags": []
   },
   "outputs": [],
   "source": [
    "dl=pd.read_csv(\"nm-stacked-dl.csv\")\n",
    "st1=pd.read_csv(\"nm-stacked-stack1.csv\")\n",
    "st2=pd.read_csv(\"nm-stacked-withdl.csv\")"
   ]
  },
  {
   "cell_type": "code",
   "execution_count": 99,
   "id": "f0cdcd94",
   "metadata": {
    "execution": {
     "iopub.execute_input": "2023-01-18T01:14:30.739045Z",
     "iopub.status.busy": "2023-01-18T01:14:30.738270Z",
     "iopub.status.idle": "2023-01-18T01:14:30.749033Z",
     "shell.execute_reply": "2023-01-18T01:14:30.748088Z"
    },
    "papermill": {
     "duration": 0.074138,
     "end_time": "2023-01-18T01:14:30.751004",
     "exception": false,
     "start_time": "2023-01-18T01:14:30.676866",
     "status": "completed"
    },
    "tags": []
   },
   "outputs": [
    {
     "data": {
      "text/plain": [
       "0       121169.937970\n",
       "1       159973.433624\n",
       "2       185133.478446\n",
       "3       194057.392043\n",
       "4       193237.074681\n",
       "            ...      \n",
       "1454     82438.711618\n",
       "1455     79922.622820\n",
       "1456    160193.131715\n",
       "1457    117283.364573\n",
       "1458    221922.624913\n",
       "Name: SalePrice, Length: 1459, dtype: float64"
      ]
     },
     "execution_count": 99,
     "metadata": {},
     "output_type": "execute_result"
    }
   ],
   "source": [
    "final_pred=(dl['SalePrice']*0.1+xgr_testpred*0.1+st1['SalePrice']*0.6+st2['SalePrice']*0.2)\n",
    "final_pred"
   ]
  },
  {
   "cell_type": "code",
   "execution_count": 100,
   "id": "54a89e63",
   "metadata": {
    "execution": {
     "iopub.execute_input": "2023-01-18T01:14:30.874844Z",
     "iopub.status.busy": "2023-01-18T01:14:30.874574Z",
     "iopub.status.idle": "2023-01-18T01:14:30.883841Z",
     "shell.execute_reply": "2023-01-18T01:14:30.883022Z"
    },
    "papermill": {
     "duration": 0.072857,
     "end_time": "2023-01-18T01:14:30.885755",
     "exception": false,
     "start_time": "2023-01-18T01:14:30.812898",
     "status": "completed"
    },
    "tags": []
   },
   "outputs": [],
   "source": [
    "# Final submission \n",
    "submission=pd.DataFrame({'Id':test_id,'SalePrice':final_pred.values})\n",
    "submission.to_csv('submission.csv',index=False) \n",
    "#Kaggle 0.11951"
   ]
  },
  {
   "cell_type": "code",
   "execution_count": 101,
   "id": "0d168b51",
   "metadata": {
    "execution": {
     "iopub.execute_input": "2023-01-18T01:14:31.012011Z",
     "iopub.status.busy": "2023-01-18T01:14:31.011032Z",
     "iopub.status.idle": "2023-01-18T01:14:31.023042Z",
     "shell.execute_reply": "2023-01-18T01:14:31.022040Z"
    },
    "papermill": {
     "duration": 0.07771,
     "end_time": "2023-01-18T01:14:31.025129",
     "exception": false,
     "start_time": "2023-01-18T01:14:30.947419",
     "status": "completed"
    },
    "tags": []
   },
   "outputs": [
    {
     "data": {
      "text/html": [
       "<div>\n",
       "<style scoped>\n",
       "    .dataframe tbody tr th:only-of-type {\n",
       "        vertical-align: middle;\n",
       "    }\n",
       "\n",
       "    .dataframe tbody tr th {\n",
       "        vertical-align: top;\n",
       "    }\n",
       "\n",
       "    .dataframe thead th {\n",
       "        text-align: right;\n",
       "    }\n",
       "</style>\n",
       "<table border=\"1\" class=\"dataframe\">\n",
       "  <thead>\n",
       "    <tr style=\"text-align: right;\">\n",
       "      <th></th>\n",
       "      <th>Id</th>\n",
       "      <th>SalePrice</th>\n",
       "    </tr>\n",
       "  </thead>\n",
       "  <tbody>\n",
       "    <tr>\n",
       "      <th>0</th>\n",
       "      <td>1461</td>\n",
       "      <td>121169.937970</td>\n",
       "    </tr>\n",
       "    <tr>\n",
       "      <th>1</th>\n",
       "      <td>1462</td>\n",
       "      <td>159973.433624</td>\n",
       "    </tr>\n",
       "    <tr>\n",
       "      <th>2</th>\n",
       "      <td>1463</td>\n",
       "      <td>185133.478446</td>\n",
       "    </tr>\n",
       "    <tr>\n",
       "      <th>3</th>\n",
       "      <td>1464</td>\n",
       "      <td>194057.392043</td>\n",
       "    </tr>\n",
       "    <tr>\n",
       "      <th>4</th>\n",
       "      <td>1465</td>\n",
       "      <td>193237.074681</td>\n",
       "    </tr>\n",
       "    <tr>\n",
       "      <th>...</th>\n",
       "      <td>...</td>\n",
       "      <td>...</td>\n",
       "    </tr>\n",
       "    <tr>\n",
       "      <th>1454</th>\n",
       "      <td>2915</td>\n",
       "      <td>82438.711618</td>\n",
       "    </tr>\n",
       "    <tr>\n",
       "      <th>1455</th>\n",
       "      <td>2916</td>\n",
       "      <td>79922.622820</td>\n",
       "    </tr>\n",
       "    <tr>\n",
       "      <th>1456</th>\n",
       "      <td>2917</td>\n",
       "      <td>160193.131715</td>\n",
       "    </tr>\n",
       "    <tr>\n",
       "      <th>1457</th>\n",
       "      <td>2918</td>\n",
       "      <td>117283.364573</td>\n",
       "    </tr>\n",
       "    <tr>\n",
       "      <th>1458</th>\n",
       "      <td>2919</td>\n",
       "      <td>221922.624913</td>\n",
       "    </tr>\n",
       "  </tbody>\n",
       "</table>\n",
       "<p>1459 rows × 2 columns</p>\n",
       "</div>"
      ],
      "text/plain": [
       "        Id      SalePrice\n",
       "0     1461  121169.937970\n",
       "1     1462  159973.433624\n",
       "2     1463  185133.478446\n",
       "3     1464  194057.392043\n",
       "4     1465  193237.074681\n",
       "...    ...            ...\n",
       "1454  2915   82438.711618\n",
       "1455  2916   79922.622820\n",
       "1456  2917  160193.131715\n",
       "1457  2918  117283.364573\n",
       "1458  2919  221922.624913\n",
       "\n",
       "[1459 rows x 2 columns]"
      ]
     },
     "execution_count": 101,
     "metadata": {},
     "output_type": "execute_result"
    }
   ],
   "source": [
    "submission"
   ]
  }
 ],
 "metadata": {
  "kernelspec": {
   "display_name": "Python 3",
   "language": "python",
   "name": "python3"
  },
  "language_info": {
   "codemirror_mode": {
    "name": "ipython",
    "version": 3
   },
   "file_extension": ".py",
   "mimetype": "text/x-python",
   "name": "python",
   "nbconvert_exporter": "python",
   "pygments_lexer": "ipython3",
   "version": "3.7.12"
  },
  "papermill": {
   "default_parameters": {},
   "duration": 1703.398903,
   "end_time": "2023-01-18T01:14:34.802500",
   "environment_variables": {},
   "exception": null,
   "input_path": "__notebook__.ipynb",
   "output_path": "__notebook__.ipynb",
   "parameters": {},
   "start_time": "2023-01-18T00:46:11.403597",
   "version": "2.3.4"
  }
 },
 "nbformat": 4,
 "nbformat_minor": 5
}
